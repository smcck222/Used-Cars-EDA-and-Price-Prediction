{
  "nbformat": 4,
  "nbformat_minor": 0,
  "metadata": {
    "colab": {
      "name": "Used Cars_EDA_Prediction.ipynb",
      "provenance": [],
      "collapsed_sections": [
        "z9j0M6RAc-kc",
        "gLH_B55_xHI1",
        "PcvwVCkUPH6c",
        "oP98csu20t0W",
        "qeibPUHnb6LV",
        "wKxyPfXSRcp9",
        "JO3e--CxcTMV",
        "pKwx8FAqca85",
        "MbUJze4xZqmO",
        "_HmMjm1HbF56"
      ],
      "include_colab_link": true
    },
    "kernelspec": {
      "name": "python3",
      "display_name": "Python 3"
    }
  },
  "cells": [
    {
      "cell_type": "markdown",
      "metadata": {
        "id": "view-in-github",
        "colab_type": "text"
      },
      "source": [
        "<a href=\"https://colab.research.google.com/github/smcck222/Used-Cars-EDA-and-Price-Prediction/blob/main/Used_Cars_EDA_Prediction.ipynb\" target=\"_parent\"><img src=\"https://colab.research.google.com/assets/colab-badge.svg\" alt=\"Open In Colab\"/></a>"
      ]
    },
    {
      "cell_type": "markdown",
      "metadata": {
        "id": "2EhlhUyzZCSo"
      },
      "source": [
        "**Problem Statement:** \n",
        "\n",
        "Predicting the costs of used cars given the data collected from various sources and distributed across various locations in India."
      ]
    },
    {
      "cell_type": "markdown",
      "metadata": {
        "id": "F_R8rWmc-de3"
      },
      "source": [
        "### Importing Necessary Libraries "
      ]
    },
    {
      "cell_type": "code",
      "metadata": {
        "id": "ce5uN9CWcURu"
      },
      "source": [
        "import pandas as pd \n",
        "import matplotlib.pyplot as plt\n",
        "import matplotlib.lines as mlines\n",
        "import numpy as np\n",
        "import matplotlib.mlab as mlab\n",
        "import numpy as np \n",
        "import pandas as pd\n",
        "import seaborn as sb\n",
        "from sklearn import preprocessing\n",
        "from sklearn.linear_model import Lasso\n",
        "from sklearn.feature_selection import SelectFromModel\n",
        "\n",
        "%matplotlib inline"
      ],
      "execution_count": null,
      "outputs": []
    },
    {
      "cell_type": "code",
      "metadata": {
        "id": "gUGyT_4xNwka"
      },
      "source": [
        "from google.colab import drive\n",
        "drive.mount('/content/drive')"
      ],
      "execution_count": null,
      "outputs": []
    },
    {
      "cell_type": "markdown",
      "metadata": {
        "id": "z9j0M6RAc-kc"
      },
      "source": [
        "### Basic Data Pre-processing"
      ]
    },
    {
      "cell_type": "code",
      "metadata": {
        "id": "MXATOojzZeg2",
        "outputId": "2e761302-bf03-4405-d2b4-15cf6ed76bf9",
        "colab": {
          "base_uri": "https://localhost:8080/",
          "height": 204
        }
      },
      "source": [
        "data = pd.read_csv(\"Data_Train.csv\")\n",
        "data.head()"
      ],
      "execution_count": null,
      "outputs": [
        {
          "output_type": "execute_result",
          "data": {
            "text/html": [
              "<div>\n",
              "<style scoped>\n",
              "    .dataframe tbody tr th:only-of-type {\n",
              "        vertical-align: middle;\n",
              "    }\n",
              "\n",
              "    .dataframe tbody tr th {\n",
              "        vertical-align: top;\n",
              "    }\n",
              "\n",
              "    .dataframe thead th {\n",
              "        text-align: right;\n",
              "    }\n",
              "</style>\n",
              "<table border=\"1\" class=\"dataframe\">\n",
              "  <thead>\n",
              "    <tr style=\"text-align: right;\">\n",
              "      <th></th>\n",
              "      <th>Name</th>\n",
              "      <th>Location</th>\n",
              "      <th>Year</th>\n",
              "      <th>Kilometers_Driven</th>\n",
              "      <th>Fuel_Type</th>\n",
              "      <th>Transmission</th>\n",
              "      <th>Owner_Type</th>\n",
              "      <th>Mileage</th>\n",
              "      <th>Engine</th>\n",
              "      <th>Power</th>\n",
              "      <th>Seats</th>\n",
              "      <th>Price</th>\n",
              "    </tr>\n",
              "  </thead>\n",
              "  <tbody>\n",
              "    <tr>\n",
              "      <th>0</th>\n",
              "      <td>Maruti Wagon R LXI CNG</td>\n",
              "      <td>Mumbai</td>\n",
              "      <td>2010</td>\n",
              "      <td>72000</td>\n",
              "      <td>CNG</td>\n",
              "      <td>Manual</td>\n",
              "      <td>First</td>\n",
              "      <td>26.6 km/kg</td>\n",
              "      <td>998 CC</td>\n",
              "      <td>58.16 bhp</td>\n",
              "      <td>5.0</td>\n",
              "      <td>1.75</td>\n",
              "    </tr>\n",
              "    <tr>\n",
              "      <th>1</th>\n",
              "      <td>Hyundai Creta 1.6 CRDi SX Option</td>\n",
              "      <td>Pune</td>\n",
              "      <td>2015</td>\n",
              "      <td>41000</td>\n",
              "      <td>Diesel</td>\n",
              "      <td>Manual</td>\n",
              "      <td>First</td>\n",
              "      <td>19.67 kmpl</td>\n",
              "      <td>1582 CC</td>\n",
              "      <td>126.2 bhp</td>\n",
              "      <td>5.0</td>\n",
              "      <td>12.50</td>\n",
              "    </tr>\n",
              "    <tr>\n",
              "      <th>2</th>\n",
              "      <td>Honda Jazz V</td>\n",
              "      <td>Chennai</td>\n",
              "      <td>2011</td>\n",
              "      <td>46000</td>\n",
              "      <td>Petrol</td>\n",
              "      <td>Manual</td>\n",
              "      <td>First</td>\n",
              "      <td>18.2 kmpl</td>\n",
              "      <td>1199 CC</td>\n",
              "      <td>88.7 bhp</td>\n",
              "      <td>5.0</td>\n",
              "      <td>4.50</td>\n",
              "    </tr>\n",
              "    <tr>\n",
              "      <th>3</th>\n",
              "      <td>Maruti Ertiga VDI</td>\n",
              "      <td>Chennai</td>\n",
              "      <td>2012</td>\n",
              "      <td>87000</td>\n",
              "      <td>Diesel</td>\n",
              "      <td>Manual</td>\n",
              "      <td>First</td>\n",
              "      <td>20.77 kmpl</td>\n",
              "      <td>1248 CC</td>\n",
              "      <td>88.76 bhp</td>\n",
              "      <td>7.0</td>\n",
              "      <td>6.00</td>\n",
              "    </tr>\n",
              "    <tr>\n",
              "      <th>4</th>\n",
              "      <td>Audi A4 New 2.0 TDI Multitronic</td>\n",
              "      <td>Coimbatore</td>\n",
              "      <td>2013</td>\n",
              "      <td>40670</td>\n",
              "      <td>Diesel</td>\n",
              "      <td>Automatic</td>\n",
              "      <td>Second</td>\n",
              "      <td>15.2 kmpl</td>\n",
              "      <td>1968 CC</td>\n",
              "      <td>140.8 bhp</td>\n",
              "      <td>5.0</td>\n",
              "      <td>17.74</td>\n",
              "    </tr>\n",
              "  </tbody>\n",
              "</table>\n",
              "</div>"
            ],
            "text/plain": [
              "                               Name    Location  Year  ...      Power Seats  Price\n",
              "0            Maruti Wagon R LXI CNG      Mumbai  2010  ...  58.16 bhp   5.0   1.75\n",
              "1  Hyundai Creta 1.6 CRDi SX Option        Pune  2015  ...  126.2 bhp   5.0  12.50\n",
              "2                      Honda Jazz V     Chennai  2011  ...   88.7 bhp   5.0   4.50\n",
              "3                 Maruti Ertiga VDI     Chennai  2012  ...  88.76 bhp   7.0   6.00\n",
              "4   Audi A4 New 2.0 TDI Multitronic  Coimbatore  2013  ...  140.8 bhp   5.0  17.74\n",
              "\n",
              "[5 rows x 12 columns]"
            ]
          },
          "metadata": {
            "tags": []
          },
          "execution_count": 176
        }
      ]
    },
    {
      "cell_type": "code",
      "metadata": {
        "id": "Fn5XgZTxc6fd",
        "outputId": "b7b16741-3c21-410b-9ea1-cedf9a639603",
        "colab": {
          "base_uri": "https://localhost:8080/",
          "height": 297
        }
      },
      "source": [
        "data.describe()\n",
        "# We want to involve the other numerical attributes as well. "
      ],
      "execution_count": null,
      "outputs": [
        {
          "output_type": "execute_result",
          "data": {
            "text/html": [
              "<div>\n",
              "<style scoped>\n",
              "    .dataframe tbody tr th:only-of-type {\n",
              "        vertical-align: middle;\n",
              "    }\n",
              "\n",
              "    .dataframe tbody tr th {\n",
              "        vertical-align: top;\n",
              "    }\n",
              "\n",
              "    .dataframe thead th {\n",
              "        text-align: right;\n",
              "    }\n",
              "</style>\n",
              "<table border=\"1\" class=\"dataframe\">\n",
              "  <thead>\n",
              "    <tr style=\"text-align: right;\">\n",
              "      <th></th>\n",
              "      <th>Year</th>\n",
              "      <th>Kilometers_Driven</th>\n",
              "      <th>Seats</th>\n",
              "      <th>Price</th>\n",
              "    </tr>\n",
              "  </thead>\n",
              "  <tbody>\n",
              "    <tr>\n",
              "      <th>count</th>\n",
              "      <td>6019.000000</td>\n",
              "      <td>6.019000e+03</td>\n",
              "      <td>5977.000000</td>\n",
              "      <td>6019.000000</td>\n",
              "    </tr>\n",
              "    <tr>\n",
              "      <th>mean</th>\n",
              "      <td>2013.358199</td>\n",
              "      <td>5.873838e+04</td>\n",
              "      <td>5.278735</td>\n",
              "      <td>9.479468</td>\n",
              "    </tr>\n",
              "    <tr>\n",
              "      <th>std</th>\n",
              "      <td>3.269742</td>\n",
              "      <td>9.126884e+04</td>\n",
              "      <td>0.808840</td>\n",
              "      <td>11.187917</td>\n",
              "    </tr>\n",
              "    <tr>\n",
              "      <th>min</th>\n",
              "      <td>1998.000000</td>\n",
              "      <td>1.710000e+02</td>\n",
              "      <td>0.000000</td>\n",
              "      <td>0.440000</td>\n",
              "    </tr>\n",
              "    <tr>\n",
              "      <th>25%</th>\n",
              "      <td>2011.000000</td>\n",
              "      <td>3.400000e+04</td>\n",
              "      <td>5.000000</td>\n",
              "      <td>3.500000</td>\n",
              "    </tr>\n",
              "    <tr>\n",
              "      <th>50%</th>\n",
              "      <td>2014.000000</td>\n",
              "      <td>5.300000e+04</td>\n",
              "      <td>5.000000</td>\n",
              "      <td>5.640000</td>\n",
              "    </tr>\n",
              "    <tr>\n",
              "      <th>75%</th>\n",
              "      <td>2016.000000</td>\n",
              "      <td>7.300000e+04</td>\n",
              "      <td>5.000000</td>\n",
              "      <td>9.950000</td>\n",
              "    </tr>\n",
              "    <tr>\n",
              "      <th>max</th>\n",
              "      <td>2019.000000</td>\n",
              "      <td>6.500000e+06</td>\n",
              "      <td>10.000000</td>\n",
              "      <td>160.000000</td>\n",
              "    </tr>\n",
              "  </tbody>\n",
              "</table>\n",
              "</div>"
            ],
            "text/plain": [
              "              Year  Kilometers_Driven        Seats        Price\n",
              "count  6019.000000       6.019000e+03  5977.000000  6019.000000\n",
              "mean   2013.358199       5.873838e+04     5.278735     9.479468\n",
              "std       3.269742       9.126884e+04     0.808840    11.187917\n",
              "min    1998.000000       1.710000e+02     0.000000     0.440000\n",
              "25%    2011.000000       3.400000e+04     5.000000     3.500000\n",
              "50%    2014.000000       5.300000e+04     5.000000     5.640000\n",
              "75%    2016.000000       7.300000e+04     5.000000     9.950000\n",
              "max    2019.000000       6.500000e+06    10.000000   160.000000"
            ]
          },
          "metadata": {
            "tags": []
          },
          "execution_count": 5
        }
      ]
    },
    {
      "cell_type": "code",
      "metadata": {
        "id": "ZhlxxompAlqF",
        "outputId": "fa09cff9-8e2f-45c6-dc0b-9d2f84703d4e",
        "colab": {
          "base_uri": "https://localhost:8080/",
          "height": 221
        }
      },
      "source": [
        "data.columns.to_list()"
      ],
      "execution_count": null,
      "outputs": [
        {
          "output_type": "execute_result",
          "data": {
            "text/plain": [
              "['Name',\n",
              " 'Location',\n",
              " 'Year',\n",
              " 'Kilometers_Driven',\n",
              " 'Fuel_Type',\n",
              " 'Transmission',\n",
              " 'Owner_Type',\n",
              " 'Mileage',\n",
              " 'Engine',\n",
              " 'Power',\n",
              " 'Seats',\n",
              " 'Price']"
            ]
          },
          "metadata": {
            "tags": []
          },
          "execution_count": 8
        }
      ]
    },
    {
      "cell_type": "code",
      "metadata": {
        "id": "1Xc7Py92wloF",
        "outputId": "d0da360f-8212-4ab4-b764-71366baf9958",
        "colab": {
          "base_uri": "https://localhost:8080/",
          "height": 238
        }
      },
      "source": [
        "data.isnull().sum()\n",
        "# Checked and verified that all these null values are NaN entries. "
      ],
      "execution_count": null,
      "outputs": [
        {
          "output_type": "execute_result",
          "data": {
            "text/plain": [
              "Name                  0\n",
              "Location              0\n",
              "Year                  0\n",
              "Kilometers_Driven     0\n",
              "Fuel_Type             0\n",
              "Transmission          0\n",
              "Owner_Type            0\n",
              "Mileage               2\n",
              "Engine               36\n",
              "Power                36\n",
              "Seats                42\n",
              "Price                 0\n",
              "dtype: int64"
            ]
          },
          "metadata": {
            "tags": []
          },
          "execution_count": 88
        }
      ]
    },
    {
      "cell_type": "code",
      "metadata": {
        "id": "fDn6j2l0xDSk"
      },
      "source": [
        "# Mileage is in Km/Kg and Kmpl. Need to convert all to one standard unit. \n",
        "# Ok apparently we are not required to do that."
      ],
      "execution_count": null,
      "outputs": []
    },
    {
      "cell_type": "code",
      "metadata": {
        "id": "YyQ3Id4y2URt"
      },
      "source": [
        "# Removing units from all numeric data columns and converting them to int64/float64 datatype.\n",
        "data['Mileage'] = data['Mileage'].astype(str).str.replace(' km/kg', '')\n",
        "data['Mileage'] = data['Mileage'].astype(str).str.replace(' kmpl', '')\n",
        "data['Engine'] = data['Engine'].astype(str).str.replace(' CC', '')\n",
        "data['Power'] = data['Power'].astype(str).str.replace(' bhp', '')"
      ],
      "execution_count": null,
      "outputs": []
    },
    {
      "cell_type": "code",
      "metadata": {
        "id": "Yd2y7NFt0LHK",
        "outputId": "84225114-ea94-49dc-f7ca-c08ae26b1b30",
        "colab": {
          "base_uri": "https://localhost:8080/",
          "height": 204
        }
      },
      "source": [
        "data.head()"
      ],
      "execution_count": null,
      "outputs": [
        {
          "output_type": "execute_result",
          "data": {
            "text/html": [
              "<div>\n",
              "<style scoped>\n",
              "    .dataframe tbody tr th:only-of-type {\n",
              "        vertical-align: middle;\n",
              "    }\n",
              "\n",
              "    .dataframe tbody tr th {\n",
              "        vertical-align: top;\n",
              "    }\n",
              "\n",
              "    .dataframe thead th {\n",
              "        text-align: right;\n",
              "    }\n",
              "</style>\n",
              "<table border=\"1\" class=\"dataframe\">\n",
              "  <thead>\n",
              "    <tr style=\"text-align: right;\">\n",
              "      <th></th>\n",
              "      <th>Name</th>\n",
              "      <th>Location</th>\n",
              "      <th>Year</th>\n",
              "      <th>Kilometers_Driven</th>\n",
              "      <th>Fuel_Type</th>\n",
              "      <th>Transmission</th>\n",
              "      <th>Owner_Type</th>\n",
              "      <th>Mileage</th>\n",
              "      <th>Engine</th>\n",
              "      <th>Power</th>\n",
              "      <th>Seats</th>\n",
              "      <th>Price</th>\n",
              "    </tr>\n",
              "  </thead>\n",
              "  <tbody>\n",
              "    <tr>\n",
              "      <th>0</th>\n",
              "      <td>Maruti Wagon R LXI CNG</td>\n",
              "      <td>Mumbai</td>\n",
              "      <td>2010</td>\n",
              "      <td>72000</td>\n",
              "      <td>CNG</td>\n",
              "      <td>Manual</td>\n",
              "      <td>First</td>\n",
              "      <td>26.6</td>\n",
              "      <td>998</td>\n",
              "      <td>58.16</td>\n",
              "      <td>5.0</td>\n",
              "      <td>1.75</td>\n",
              "    </tr>\n",
              "    <tr>\n",
              "      <th>1</th>\n",
              "      <td>Hyundai Creta 1.6 CRDi SX Option</td>\n",
              "      <td>Pune</td>\n",
              "      <td>2015</td>\n",
              "      <td>41000</td>\n",
              "      <td>Diesel</td>\n",
              "      <td>Manual</td>\n",
              "      <td>First</td>\n",
              "      <td>19.67</td>\n",
              "      <td>1582</td>\n",
              "      <td>126.2</td>\n",
              "      <td>5.0</td>\n",
              "      <td>12.50</td>\n",
              "    </tr>\n",
              "    <tr>\n",
              "      <th>2</th>\n",
              "      <td>Honda Jazz V</td>\n",
              "      <td>Chennai</td>\n",
              "      <td>2011</td>\n",
              "      <td>46000</td>\n",
              "      <td>Petrol</td>\n",
              "      <td>Manual</td>\n",
              "      <td>First</td>\n",
              "      <td>18.2</td>\n",
              "      <td>1199</td>\n",
              "      <td>88.7</td>\n",
              "      <td>5.0</td>\n",
              "      <td>4.50</td>\n",
              "    </tr>\n",
              "    <tr>\n",
              "      <th>3</th>\n",
              "      <td>Maruti Ertiga VDI</td>\n",
              "      <td>Chennai</td>\n",
              "      <td>2012</td>\n",
              "      <td>87000</td>\n",
              "      <td>Diesel</td>\n",
              "      <td>Manual</td>\n",
              "      <td>First</td>\n",
              "      <td>20.77</td>\n",
              "      <td>1248</td>\n",
              "      <td>88.76</td>\n",
              "      <td>7.0</td>\n",
              "      <td>6.00</td>\n",
              "    </tr>\n",
              "    <tr>\n",
              "      <th>4</th>\n",
              "      <td>Audi A4 New 2.0 TDI Multitronic</td>\n",
              "      <td>Coimbatore</td>\n",
              "      <td>2013</td>\n",
              "      <td>40670</td>\n",
              "      <td>Diesel</td>\n",
              "      <td>Automatic</td>\n",
              "      <td>Second</td>\n",
              "      <td>15.2</td>\n",
              "      <td>1968</td>\n",
              "      <td>140.8</td>\n",
              "      <td>5.0</td>\n",
              "      <td>17.74</td>\n",
              "    </tr>\n",
              "  </tbody>\n",
              "</table>\n",
              "</div>"
            ],
            "text/plain": [
              "                               Name    Location  Year  ...  Power Seats  Price\n",
              "0            Maruti Wagon R LXI CNG      Mumbai  2010  ...  58.16   5.0   1.75\n",
              "1  Hyundai Creta 1.6 CRDi SX Option        Pune  2015  ...  126.2   5.0  12.50\n",
              "2                      Honda Jazz V     Chennai  2011  ...   88.7   5.0   4.50\n",
              "3                 Maruti Ertiga VDI     Chennai  2012  ...  88.76   7.0   6.00\n",
              "4   Audi A4 New 2.0 TDI Multitronic  Coimbatore  2013  ...  140.8   5.0  17.74\n",
              "\n",
              "[5 rows x 12 columns]"
            ]
          },
          "metadata": {
            "tags": []
          },
          "execution_count": 21
        }
      ]
    },
    {
      "cell_type": "code",
      "metadata": {
        "id": "FdJH-2Ouu2mF",
        "outputId": "fb5ce04c-af8e-4c71-ce43-f6dd81022277",
        "colab": {
          "base_uri": "https://localhost:8080/",
          "height": 204
        }
      },
      "source": [
        "# Creating a new column with the company names rather than the entire name of the car. \n",
        "\n",
        "data['Brand']=data['Name'].apply(lambda x: x.split(' ')[0])\n",
        "data['Model']=data['Name'].apply(lambda x: x.split(' ')[1])\n",
        "data.drop('Name',axis=1,inplace=True)\n",
        "data.head()"
      ],
      "execution_count": null,
      "outputs": [
        {
          "output_type": "execute_result",
          "data": {
            "text/html": [
              "<div>\n",
              "<style scoped>\n",
              "    .dataframe tbody tr th:only-of-type {\n",
              "        vertical-align: middle;\n",
              "    }\n",
              "\n",
              "    .dataframe tbody tr th {\n",
              "        vertical-align: top;\n",
              "    }\n",
              "\n",
              "    .dataframe thead th {\n",
              "        text-align: right;\n",
              "    }\n",
              "</style>\n",
              "<table border=\"1\" class=\"dataframe\">\n",
              "  <thead>\n",
              "    <tr style=\"text-align: right;\">\n",
              "      <th></th>\n",
              "      <th>Location</th>\n",
              "      <th>Year</th>\n",
              "      <th>Kilometers_Driven</th>\n",
              "      <th>Fuel_Type</th>\n",
              "      <th>Transmission</th>\n",
              "      <th>Owner_Type</th>\n",
              "      <th>Mileage</th>\n",
              "      <th>Engine</th>\n",
              "      <th>Power</th>\n",
              "      <th>Seats</th>\n",
              "      <th>Price</th>\n",
              "      <th>Brand</th>\n",
              "      <th>Model</th>\n",
              "    </tr>\n",
              "  </thead>\n",
              "  <tbody>\n",
              "    <tr>\n",
              "      <th>0</th>\n",
              "      <td>Mumbai</td>\n",
              "      <td>2010</td>\n",
              "      <td>72000</td>\n",
              "      <td>CNG</td>\n",
              "      <td>Manual</td>\n",
              "      <td>First</td>\n",
              "      <td>26.6</td>\n",
              "      <td>998</td>\n",
              "      <td>58.16</td>\n",
              "      <td>5.0</td>\n",
              "      <td>1.75</td>\n",
              "      <td>Maruti</td>\n",
              "      <td>Wagon</td>\n",
              "    </tr>\n",
              "    <tr>\n",
              "      <th>1</th>\n",
              "      <td>Pune</td>\n",
              "      <td>2015</td>\n",
              "      <td>41000</td>\n",
              "      <td>Diesel</td>\n",
              "      <td>Manual</td>\n",
              "      <td>First</td>\n",
              "      <td>19.67</td>\n",
              "      <td>1582</td>\n",
              "      <td>126.2</td>\n",
              "      <td>5.0</td>\n",
              "      <td>12.50</td>\n",
              "      <td>Hyundai</td>\n",
              "      <td>Creta</td>\n",
              "    </tr>\n",
              "    <tr>\n",
              "      <th>2</th>\n",
              "      <td>Chennai</td>\n",
              "      <td>2011</td>\n",
              "      <td>46000</td>\n",
              "      <td>Petrol</td>\n",
              "      <td>Manual</td>\n",
              "      <td>First</td>\n",
              "      <td>18.2</td>\n",
              "      <td>1199</td>\n",
              "      <td>88.7</td>\n",
              "      <td>5.0</td>\n",
              "      <td>4.50</td>\n",
              "      <td>Honda</td>\n",
              "      <td>Jazz</td>\n",
              "    </tr>\n",
              "    <tr>\n",
              "      <th>3</th>\n",
              "      <td>Chennai</td>\n",
              "      <td>2012</td>\n",
              "      <td>87000</td>\n",
              "      <td>Diesel</td>\n",
              "      <td>Manual</td>\n",
              "      <td>First</td>\n",
              "      <td>20.77</td>\n",
              "      <td>1248</td>\n",
              "      <td>88.76</td>\n",
              "      <td>7.0</td>\n",
              "      <td>6.00</td>\n",
              "      <td>Maruti</td>\n",
              "      <td>Ertiga</td>\n",
              "    </tr>\n",
              "    <tr>\n",
              "      <th>4</th>\n",
              "      <td>Coimbatore</td>\n",
              "      <td>2013</td>\n",
              "      <td>40670</td>\n",
              "      <td>Diesel</td>\n",
              "      <td>Automatic</td>\n",
              "      <td>Second</td>\n",
              "      <td>15.2</td>\n",
              "      <td>1968</td>\n",
              "      <td>140.8</td>\n",
              "      <td>5.0</td>\n",
              "      <td>17.74</td>\n",
              "      <td>Audi</td>\n",
              "      <td>A4</td>\n",
              "    </tr>\n",
              "  </tbody>\n",
              "</table>\n",
              "</div>"
            ],
            "text/plain": [
              "     Location  Year  Kilometers_Driven Fuel_Type  ... Seats  Price    Brand   Model\n",
              "0      Mumbai  2010              72000       CNG  ...   5.0   1.75   Maruti   Wagon\n",
              "1        Pune  2015              41000    Diesel  ...   5.0  12.50  Hyundai   Creta\n",
              "2     Chennai  2011              46000    Petrol  ...   5.0   4.50    Honda    Jazz\n",
              "3     Chennai  2012              87000    Diesel  ...   7.0   6.00   Maruti  Ertiga\n",
              "4  Coimbatore  2013              40670    Diesel  ...   5.0  17.74     Audi      A4\n",
              "\n",
              "[5 rows x 13 columns]"
            ]
          },
          "metadata": {
            "tags": []
          },
          "execution_count": 178
        }
      ]
    },
    {
      "cell_type": "code",
      "metadata": {
        "id": "3nFBCff9MLZt",
        "outputId": "89909b14-3062-4583-f208-b7a02cbcf8e3",
        "colab": {
          "base_uri": "https://localhost:8080/",
          "height": 255
        }
      },
      "source": [
        "data.dtypes\n",
        "# These need to be either int64/float64 if we want to proceed."
      ],
      "execution_count": null,
      "outputs": [
        {
          "output_type": "execute_result",
          "data": {
            "text/plain": [
              "Location              object\n",
              "Year                   int64\n",
              "Kilometers_Driven      int64\n",
              "Fuel_Type             object\n",
              "Transmission          object\n",
              "Owner_Type            object\n",
              "Mileage               object\n",
              "Engine                object\n",
              "Power                 object\n",
              "Seats                float64\n",
              "Price                float64\n",
              "Brand                 object\n",
              "Model                 object\n",
              "dtype: object"
            ]
          },
          "metadata": {
            "tags": []
          },
          "execution_count": 92
        }
      ]
    },
    {
      "cell_type": "code",
      "metadata": {
        "id": "EGLQLKxZjVZM",
        "outputId": "bd6dcf2a-51ae-4bfc-8de3-daab9f1aca84",
        "colab": {
          "base_uri": "https://localhost:8080/",
          "height": 51
        }
      },
      "source": [
        "print(len(data['Brand'].unique()))\n",
        "print(len(data['Location'].unique()))"
      ],
      "execution_count": null,
      "outputs": [
        {
          "output_type": "stream",
          "text": [
            "31\n",
            "11\n"
          ],
          "name": "stdout"
        }
      ]
    },
    {
      "cell_type": "code",
      "metadata": {
        "id": "XPxcnwT03YSe",
        "outputId": "cc1bf4e3-dd9a-4c27-91e7-8ff65f9feaa7",
        "colab": {
          "base_uri": "https://localhost:8080/",
          "height": 34
        }
      },
      "source": [
        "from numpy import nan\n",
        "print(len(data[data['Power'] == 'null']))  \n",
        "# We have more than just NaN values in the data. Let's make null as NaN in this column."
      ],
      "execution_count": null,
      "outputs": [
        {
          "output_type": "stream",
          "text": [
            "107\n"
          ],
          "name": "stdout"
        }
      ]
    },
    {
      "cell_type": "code",
      "metadata": {
        "id": "x72cFBtxpf6k"
      },
      "source": [
        "data.loc[data[\"Power\"]==\"null\",'Power'] = nan"
      ],
      "execution_count": null,
      "outputs": []
    },
    {
      "cell_type": "code",
      "metadata": {
        "id": "CMiAVlNsvzS0"
      },
      "source": [
        "\n",
        "# Converting all numeric columns to appropriate dtypes. \n",
        "\n",
        "data['Mileage' ] = data['Mileage'].astype(np.float64)\n",
        "data['Engine'] = data['Engine'].astype(np.float64)\n",
        "data['Power'] = data['Power'].astype(np.float64)"
      ],
      "execution_count": null,
      "outputs": []
    },
    {
      "cell_type": "code",
      "metadata": {
        "id": "T8O6PL9OmBoz",
        "outputId": "5d839475-ffa5-42e6-9164-5135e999aa4a",
        "colab": {
          "base_uri": "https://localhost:8080/",
          "height": 255
        }
      },
      "source": [
        "data.dtypes\n",
        "# Data Types fixed. "
      ],
      "execution_count": null,
      "outputs": [
        {
          "output_type": "execute_result",
          "data": {
            "text/plain": [
              "Location              object\n",
              "Year                   int64\n",
              "Kilometers_Driven      int64\n",
              "Fuel_Type             object\n",
              "Transmission          object\n",
              "Owner_Type            object\n",
              "Mileage              float64\n",
              "Engine               float64\n",
              "Power                float64\n",
              "Seats                float64\n",
              "Price                float64\n",
              "Brand                 object\n",
              "Model                 object\n",
              "dtype: object"
            ]
          },
          "metadata": {
            "tags": []
          },
          "execution_count": 96
        }
      ]
    },
    {
      "cell_type": "markdown",
      "metadata": {
        "id": "gLH_B55_xHI1"
      },
      "source": [
        "### Handling NULL Values "
      ]
    },
    {
      "cell_type": "code",
      "metadata": {
        "id": "vl0PUOr-tChS",
        "outputId": "2ad3e03c-8018-4fdb-ee75-c54ca9c2f5ec",
        "colab": {
          "base_uri": "https://localhost:8080/",
          "height": 255
        }
      },
      "source": [
        "data.isnull().sum()"
      ],
      "execution_count": null,
      "outputs": [
        {
          "output_type": "execute_result",
          "data": {
            "text/plain": [
              "Location               0\n",
              "Year                   0\n",
              "Kilometers_Driven      0\n",
              "Fuel_Type              0\n",
              "Transmission           0\n",
              "Owner_Type             0\n",
              "Mileage                2\n",
              "Engine                36\n",
              "Power                143\n",
              "Seats                 42\n",
              "Price                  0\n",
              "Brand                  0\n",
              "Model                  0\n",
              "dtype: int64"
            ]
          },
          "metadata": {
            "tags": []
          },
          "execution_count": 97
        }
      ]
    },
    {
      "cell_type": "code",
      "metadata": {
        "id": "wVeyNAkQxGgm",
        "outputId": "73409539-1514-476a-864e-5a3381687429",
        "colab": {
          "base_uri": "https://localhost:8080/",
          "height": 255
        }
      },
      "source": [
        "# We replace numeric attributes with mean value. \n",
        "# We replace categorical attributes with mode value. \n",
        "\n",
        "num=['Engine','Power','Mileage']\n",
        "cat=['Seats']\n",
        "\n",
        "for i in num:\n",
        "    data[i].fillna(data[i].median(),inplace=True)\n",
        "\n",
        "for i in cat:\n",
        "    data[i].fillna(data[i].mode()[0],inplace=True)\n",
        "\n",
        "data.isnull().sum()"
      ],
      "execution_count": null,
      "outputs": [
        {
          "output_type": "execute_result",
          "data": {
            "text/plain": [
              "Location             0\n",
              "Year                 0\n",
              "Kilometers_Driven    0\n",
              "Fuel_Type            0\n",
              "Transmission         0\n",
              "Owner_Type           0\n",
              "Mileage              0\n",
              "Engine               0\n",
              "Power                0\n",
              "Seats                0\n",
              "Price                0\n",
              "Brand                0\n",
              "Model                0\n",
              "dtype: int64"
            ]
          },
          "metadata": {
            "tags": []
          },
          "execution_count": 182
        }
      ]
    },
    {
      "cell_type": "code",
      "metadata": {
        "id": "ZMfqWE_3LRt3",
        "outputId": "21694382-44cd-4c2f-9fa3-ae2086ca4a19",
        "colab": {
          "base_uri": "https://localhost:8080/",
          "height": 297
        }
      },
      "source": [
        "# Checking description again. \n",
        "data.describe()\n",
        "\n",
        "# Things that look strange here: \n",
        "# 1. The minimum Mileage is 0, which is not possible. \n",
        "# 2. Is a minimum of 72cc displacement volume (Engine) normal? \n",
        "# 3. The std dev for Engine is high. \n",
        "# 4. The minimum number of seats were 0 (which we fixed, by replacing with the mean) \n",
        "# 5. The minimum price of a car is 0.44 Lakhs, Rs 44,000 ( this needs to be a second hand car) \n",
        "# 6. The maximum km driven is 65,00,000 km. This is probably an outlier. "
      ],
      "execution_count": null,
      "outputs": [
        {
          "output_type": "execute_result",
          "data": {
            "text/html": [
              "<div>\n",
              "<style scoped>\n",
              "    .dataframe tbody tr th:only-of-type {\n",
              "        vertical-align: middle;\n",
              "    }\n",
              "\n",
              "    .dataframe tbody tr th {\n",
              "        vertical-align: top;\n",
              "    }\n",
              "\n",
              "    .dataframe thead th {\n",
              "        text-align: right;\n",
              "    }\n",
              "</style>\n",
              "<table border=\"1\" class=\"dataframe\">\n",
              "  <thead>\n",
              "    <tr style=\"text-align: right;\">\n",
              "      <th></th>\n",
              "      <th>Year</th>\n",
              "      <th>Kilometers_Driven</th>\n",
              "      <th>Mileage</th>\n",
              "      <th>Engine</th>\n",
              "      <th>Power</th>\n",
              "      <th>Seats</th>\n",
              "      <th>Price</th>\n",
              "    </tr>\n",
              "  </thead>\n",
              "  <tbody>\n",
              "    <tr>\n",
              "      <th>count</th>\n",
              "      <td>6019.000000</td>\n",
              "      <td>6.019000e+03</td>\n",
              "      <td>6019.000000</td>\n",
              "      <td>6019.000000</td>\n",
              "      <td>6019.000000</td>\n",
              "      <td>6019.000000</td>\n",
              "      <td>6019.000000</td>\n",
              "    </tr>\n",
              "    <tr>\n",
              "      <th>mean</th>\n",
              "      <td>2013.358199</td>\n",
              "      <td>5.873838e+04</td>\n",
              "      <td>18.134961</td>\n",
              "      <td>1621.276450</td>\n",
              "      <td>113.253050</td>\n",
              "      <td>5.277621</td>\n",
              "      <td>9.479468</td>\n",
              "    </tr>\n",
              "    <tr>\n",
              "      <th>std</th>\n",
              "      <td>3.269742</td>\n",
              "      <td>9.126884e+04</td>\n",
              "      <td>4.581528</td>\n",
              "      <td>599.553865</td>\n",
              "      <td>53.231019</td>\n",
              "      <td>0.803479</td>\n",
              "      <td>11.187917</td>\n",
              "    </tr>\n",
              "    <tr>\n",
              "      <th>min</th>\n",
              "      <td>1998.000000</td>\n",
              "      <td>1.710000e+02</td>\n",
              "      <td>0.000000</td>\n",
              "      <td>72.000000</td>\n",
              "      <td>34.200000</td>\n",
              "      <td>2.000000</td>\n",
              "      <td>0.440000</td>\n",
              "    </tr>\n",
              "    <tr>\n",
              "      <th>25%</th>\n",
              "      <td>2011.000000</td>\n",
              "      <td>3.400000e+04</td>\n",
              "      <td>15.170000</td>\n",
              "      <td>1198.000000</td>\n",
              "      <td>78.000000</td>\n",
              "      <td>5.000000</td>\n",
              "      <td>3.500000</td>\n",
              "    </tr>\n",
              "    <tr>\n",
              "      <th>50%</th>\n",
              "      <td>2014.000000</td>\n",
              "      <td>5.300000e+04</td>\n",
              "      <td>18.150000</td>\n",
              "      <td>1493.000000</td>\n",
              "      <td>98.600000</td>\n",
              "      <td>5.000000</td>\n",
              "      <td>5.640000</td>\n",
              "    </tr>\n",
              "    <tr>\n",
              "      <th>75%</th>\n",
              "      <td>2016.000000</td>\n",
              "      <td>7.300000e+04</td>\n",
              "      <td>21.100000</td>\n",
              "      <td>1969.000000</td>\n",
              "      <td>138.030000</td>\n",
              "      <td>5.000000</td>\n",
              "      <td>9.950000</td>\n",
              "    </tr>\n",
              "    <tr>\n",
              "      <th>max</th>\n",
              "      <td>2019.000000</td>\n",
              "      <td>6.500000e+06</td>\n",
              "      <td>33.540000</td>\n",
              "      <td>5998.000000</td>\n",
              "      <td>560.000000</td>\n",
              "      <td>10.000000</td>\n",
              "      <td>160.000000</td>\n",
              "    </tr>\n",
              "  </tbody>\n",
              "</table>\n",
              "</div>"
            ],
            "text/plain": [
              "              Year  Kilometers_Driven  ...        Seats        Price\n",
              "count  6019.000000       6.019000e+03  ...  6019.000000  6019.000000\n",
              "mean   2013.358199       5.873838e+04  ...     5.277621     9.479468\n",
              "std       3.269742       9.126884e+04  ...     0.803479    11.187917\n",
              "min    1998.000000       1.710000e+02  ...     2.000000     0.440000\n",
              "25%    2011.000000       3.400000e+04  ...     5.000000     3.500000\n",
              "50%    2014.000000       5.300000e+04  ...     5.000000     5.640000\n",
              "75%    2016.000000       7.300000e+04  ...     5.000000     9.950000\n",
              "max    2019.000000       6.500000e+06  ...    10.000000   160.000000\n",
              "\n",
              "[8 rows x 7 columns]"
            ]
          },
          "metadata": {
            "tags": []
          },
          "execution_count": 32
        }
      ]
    },
    {
      "cell_type": "markdown",
      "metadata": {
        "id": "PcvwVCkUPH6c"
      },
      "source": [
        "### Feature Importance and Visualizations"
      ]
    },
    {
      "cell_type": "code",
      "metadata": {
        "id": "zOTGtAazPPqb"
      },
      "source": [
        "# Read cleaned out data file. (Before NULL imputation + Outlier Handling)\n",
        "\n",
        "data = pd.read_csv(\"verzeo_data_cleaned.csv\")"
      ],
      "execution_count": null,
      "outputs": []
    },
    {
      "cell_type": "code",
      "metadata": {
        "id": "VagI1SzrSKS8",
        "outputId": "ea0fb535-d2e2-4c9f-d209-df86691c7a20",
        "colab": {
          "base_uri": "https://localhost:8080/",
          "height": 204
        }
      },
      "source": [
        "data.head()"
      ],
      "execution_count": null,
      "outputs": [
        {
          "output_type": "execute_result",
          "data": {
            "text/html": [
              "<div>\n",
              "<style scoped>\n",
              "    .dataframe tbody tr th:only-of-type {\n",
              "        vertical-align: middle;\n",
              "    }\n",
              "\n",
              "    .dataframe tbody tr th {\n",
              "        vertical-align: top;\n",
              "    }\n",
              "\n",
              "    .dataframe thead th {\n",
              "        text-align: right;\n",
              "    }\n",
              "</style>\n",
              "<table border=\"1\" class=\"dataframe\">\n",
              "  <thead>\n",
              "    <tr style=\"text-align: right;\">\n",
              "      <th></th>\n",
              "      <th>Unnamed: 0</th>\n",
              "      <th>Location</th>\n",
              "      <th>Year</th>\n",
              "      <th>Kilometers_Driven</th>\n",
              "      <th>Fuel_Type</th>\n",
              "      <th>Transmission</th>\n",
              "      <th>Owner_Type</th>\n",
              "      <th>Mileage</th>\n",
              "      <th>Engine</th>\n",
              "      <th>Power</th>\n",
              "      <th>Seats</th>\n",
              "      <th>Price</th>\n",
              "      <th>Brand</th>\n",
              "      <th>Model</th>\n",
              "    </tr>\n",
              "  </thead>\n",
              "  <tbody>\n",
              "    <tr>\n",
              "      <th>0</th>\n",
              "      <td>0</td>\n",
              "      <td>Mumbai</td>\n",
              "      <td>2010</td>\n",
              "      <td>72000</td>\n",
              "      <td>CNG</td>\n",
              "      <td>Manual</td>\n",
              "      <td>First</td>\n",
              "      <td>26.60</td>\n",
              "      <td>998.0</td>\n",
              "      <td>58.16</td>\n",
              "      <td>5.0</td>\n",
              "      <td>1.75</td>\n",
              "      <td>Maruti</td>\n",
              "      <td>Wagon</td>\n",
              "    </tr>\n",
              "    <tr>\n",
              "      <th>1</th>\n",
              "      <td>1</td>\n",
              "      <td>Pune</td>\n",
              "      <td>2015</td>\n",
              "      <td>41000</td>\n",
              "      <td>Diesel</td>\n",
              "      <td>Manual</td>\n",
              "      <td>First</td>\n",
              "      <td>19.67</td>\n",
              "      <td>1582.0</td>\n",
              "      <td>126.20</td>\n",
              "      <td>5.0</td>\n",
              "      <td>12.50</td>\n",
              "      <td>Hyundai</td>\n",
              "      <td>Creta</td>\n",
              "    </tr>\n",
              "    <tr>\n",
              "      <th>2</th>\n",
              "      <td>2</td>\n",
              "      <td>Chennai</td>\n",
              "      <td>2011</td>\n",
              "      <td>46000</td>\n",
              "      <td>Petrol</td>\n",
              "      <td>Manual</td>\n",
              "      <td>First</td>\n",
              "      <td>18.20</td>\n",
              "      <td>1199.0</td>\n",
              "      <td>88.70</td>\n",
              "      <td>5.0</td>\n",
              "      <td>4.50</td>\n",
              "      <td>Honda</td>\n",
              "      <td>Jazz</td>\n",
              "    </tr>\n",
              "    <tr>\n",
              "      <th>3</th>\n",
              "      <td>3</td>\n",
              "      <td>Chennai</td>\n",
              "      <td>2012</td>\n",
              "      <td>87000</td>\n",
              "      <td>Diesel</td>\n",
              "      <td>Manual</td>\n",
              "      <td>First</td>\n",
              "      <td>20.77</td>\n",
              "      <td>1248.0</td>\n",
              "      <td>88.76</td>\n",
              "      <td>7.0</td>\n",
              "      <td>6.00</td>\n",
              "      <td>Maruti</td>\n",
              "      <td>Ertiga</td>\n",
              "    </tr>\n",
              "    <tr>\n",
              "      <th>4</th>\n",
              "      <td>4</td>\n",
              "      <td>Coimbatore</td>\n",
              "      <td>2013</td>\n",
              "      <td>40670</td>\n",
              "      <td>Diesel</td>\n",
              "      <td>Automatic</td>\n",
              "      <td>Second</td>\n",
              "      <td>15.20</td>\n",
              "      <td>1968.0</td>\n",
              "      <td>140.80</td>\n",
              "      <td>5.0</td>\n",
              "      <td>17.74</td>\n",
              "      <td>Audi</td>\n",
              "      <td>A4</td>\n",
              "    </tr>\n",
              "  </tbody>\n",
              "</table>\n",
              "</div>"
            ],
            "text/plain": [
              "   Unnamed: 0    Location  Year  ...  Price    Brand   Model\n",
              "0           0      Mumbai  2010  ...   1.75   Maruti   Wagon\n",
              "1           1        Pune  2015  ...  12.50  Hyundai   Creta\n",
              "2           2     Chennai  2011  ...   4.50    Honda    Jazz\n",
              "3           3     Chennai  2012  ...   6.00   Maruti  Ertiga\n",
              "4           4  Coimbatore  2013  ...  17.74     Audi      A4\n",
              "\n",
              "[5 rows x 14 columns]"
            ]
          },
          "metadata": {
            "tags": []
          },
          "execution_count": 102
        }
      ]
    },
    {
      "cell_type": "code",
      "metadata": {
        "id": "Ts80F8iU8VkQ",
        "outputId": "46d04ef3-5a97-4041-c4ea-2b1d054a02d1",
        "colab": {
          "base_uri": "https://localhost:8080/",
          "height": 368
        }
      },
      "source": [
        "# Correlation between different numerical attributes. \n",
        "df1 = data[['Kilometers_Driven', 'Mileage', 'Engine', 'Power', 'Price']]\n",
        "sb.heatmap(df1.corr(), annot=True)"
      ],
      "execution_count": null,
      "outputs": [
        {
          "output_type": "execute_result",
          "data": {
            "text/plain": [
              "<matplotlib.axes._subplots.AxesSubplot at 0x7f742fc384a8>"
            ]
          },
          "metadata": {
            "tags": []
          },
          "execution_count": 103
        },
        {
          "output_type": "display_data",
          "data": {
            "image/png": "[encoded data removed]",
            "text/plain": [
              "<Figure size 432x288 with 2 Axes>"
            ]
          },
          "metadata": {
            "tags": [],
            "needs_background": "light"
          }
        }
      ]
    },
    {
      "cell_type": "markdown",
      "metadata": {
        "id": "mjvC9lcJexH6"
      },
      "source": [
        "From the heatmap above, we can see that **Power and Engine** are strongly correlated.\n",
        "Also, since there is a fairly high correation between **Price and Power**, there is also a correlation between **Price and Engine**.\n",
        "*Kilometers driven* have very little and *mileage* has a weak correlation with *Price*."
      ]
    },
    {
      "cell_type": "code",
      "metadata": {
        "id": "zRzLFE-LGf9R",
        "outputId": "75c639e9-02c7-46e2-cd13-90ea6d2d7415",
        "colab": {
          "base_uri": "https://localhost:8080/",
          "height": 403
        }
      },
      "source": [
        "plt.figure(figsize=(20,10))\n",
        "#data=data[data['Seats']!=0]\n",
        "df=data[['Seats','Price']]\n",
        "sb.catplot(x='Seats',kind='count',data=df)\n",
        "#sb.countplot(df['Seats'])"
      ],
      "execution_count": null,
      "outputs": [
        {
          "output_type": "execute_result",
          "data": {
            "text/plain": [
              "<seaborn.axisgrid.FacetGrid at 0x7f745f9ec080>"
            ]
          },
          "metadata": {
            "tags": []
          },
          "execution_count": 13
        },
        {
          "output_type": "display_data",
          "data": {
            "text/plain": [
              "<Figure size 1440x720 with 0 Axes>"
            ]
          },
          "metadata": {
            "tags": []
          }
        },
        {
          "output_type": "display_data",
          "data": {
            "image/png": "[encoded data removed]",
            "text/plain": [
              "<Figure size 360x360 with 1 Axes>"
            ]
          },
          "metadata": {
            "tags": [],
            "needs_background": "light"
          }
        }
      ]
    },
    {
      "cell_type": "markdown",
      "metadata": {
        "id": "NbFYilfQGiQU"
      },
      "source": [
        "The highest number of cars have 5 seats. There is also recrods with zero seats which is not possible and will have to be handled in outlier removal."
      ]
    },
    {
      "cell_type": "code",
      "metadata": {
        "id": "T1Nvc2mxhSUd",
        "outputId": "a24368b9-e798-43f3-bb1b-9d3850e4fb8b",
        "colab": {
          "base_uri": "https://localhost:8080/",
          "height": 296
        }
      },
      "source": [
        "sb.barplot(x=\"Seats\",y=\"Price\",data=data)"
      ],
      "execution_count": null,
      "outputs": [
        {
          "output_type": "execute_result",
          "data": {
            "text/plain": [
              "<matplotlib.axes._subplots.AxesSubplot at 0x7fa9dc665128>"
            ]
          },
          "metadata": {
            "tags": []
          },
          "execution_count": 73
        },
        {
          "output_type": "display_data",
          "data": {
            "image/png": "[encoded data removed]",
            "text/plain": [
              "<Figure size 432x288 with 1 Axes>"
            ]
          },
          "metadata": {
            "tags": [],
            "needs_background": "light"
          }
        }
      ]
    },
    {
      "cell_type": "markdown",
      "metadata": {
        "id": "oJzai-OEhbCD"
      },
      "source": [
        "On an average, the most expensive vehicles are two seaters, followed by 4,7,6,5 and 8."
      ]
    },
    {
      "cell_type": "code",
      "metadata": {
        "id": "q5s1VZxiherC",
        "outputId": "40b14f58-537f-4500-f721-366595a26c4e",
        "colab": {
          "base_uri": "https://localhost:8080/",
          "height": 297
        }
      },
      "source": [
        "df=data[['Fuel_Type','Price']]\n",
        "sb.barplot(x=\"Fuel_Type\",y=\"Price\",data=df)"
      ],
      "execution_count": null,
      "outputs": [
        {
          "output_type": "execute_result",
          "data": {
            "text/plain": [
              "<matplotlib.axes._subplots.AxesSubplot at 0x7f433f6078d0>"
            ]
          },
          "metadata": {
            "tags": []
          },
          "execution_count": 12
        },
        {
          "output_type": "display_data",
          "data": {
            "image/png": "[encoded data removed]",
            "text/plain": [
              "<Figure size 432x288 with 1 Axes>"
            ]
          },
          "metadata": {
            "tags": [],
            "needs_background": "light"
          }
        }
      ]
    },
    {
      "cell_type": "markdown",
      "metadata": {
        "id": "J4YyryEGSq29"
      },
      "source": [
        "Electric and diesel cars cost way higher than other fuel types. But diesel cars cost a bit more than electric in the dataset given."
      ]
    },
    {
      "cell_type": "code",
      "metadata": {
        "id": "9bt36EY2QPlC",
        "outputId": "7fed167a-fbf4-4436-e62b-c6c10238c37d",
        "colab": {
          "base_uri": "https://localhost:8080/",
          "height": 297
        }
      },
      "source": [
        "sb.countplot(data['Fuel_Type'])"
      ],
      "execution_count": null,
      "outputs": [
        {
          "output_type": "execute_result",
          "data": {
            "text/plain": [
              "<matplotlib.axes._subplots.AxesSubplot at 0x7f743a9b0780>"
            ]
          },
          "metadata": {
            "tags": []
          },
          "execution_count": 15
        },
        {
          "output_type": "display_data",
          "data": {
            "image/png": "[encoded data removed]",
            "text/plain": [
              "<Figure size 432x288 with 1 Axes>"
            ]
          },
          "metadata": {
            "tags": [],
            "needs_background": "light"
          }
        }
      ]
    },
    {
      "cell_type": "markdown",
      "metadata": {
        "id": "auSCVcwWUONr"
      },
      "source": [
        "Most of the cars are diesel based. There are only 2 records of electric cars. Petrol comes in second. Thus we conclude that chances of a car being expensive and diesel are high. Thus fuel types have an influence on Price."
      ]
    },
    {
      "cell_type": "code",
      "metadata": {
        "id": "7pAiKz-FD5Ep",
        "outputId": "169c895c-df8b-4c8f-fd48-fe650de0dbd6",
        "colab": {
          "base_uri": "https://localhost:8080/",
          "height": 296
        }
      },
      "source": [
        "sb.barplot(y=data['Location'],x=data['Price'])"
      ],
      "execution_count": null,
      "outputs": [
        {
          "output_type": "execute_result",
          "data": {
            "text/plain": [
              "<matplotlib.axes._subplots.AxesSubplot at 0x7f743a7deba8>"
            ]
          },
          "metadata": {
            "tags": []
          },
          "execution_count": 18
        },
        {
          "output_type": "display_data",
          "data": {
            "image/png": "[encoded data removed]",
            "text/plain": [
              "<Figure size 432x288 with 1 Axes>"
            ]
          },
          "metadata": {
            "tags": [],
            "needs_background": "light"
          }
        }
      ]
    },
    {
      "cell_type": "markdown",
      "metadata": {
        "id": "ZgOnDA4Fb4gj"
      },
      "source": [
        "Cars from Coimbatore and Bangalore have the highest prices. "
      ]
    },
    {
      "cell_type": "code",
      "metadata": {
        "id": "aYMCmqffD5IG",
        "outputId": "8ed4a48d-fcc7-48bf-de16-6d20ff0f09ae",
        "colab": {
          "base_uri": "https://localhost:8080/",
          "height": 296
        }
      },
      "source": [
        "sb.countplot(y='Location',data=data,hue='Owner_Type')"
      ],
      "execution_count": null,
      "outputs": [
        {
          "output_type": "execute_result",
          "data": {
            "text/plain": [
              "<matplotlib.axes._subplots.AxesSubplot at 0x7f743a7364e0>"
            ]
          },
          "metadata": {
            "tags": []
          },
          "execution_count": 19
        },
        {
          "output_type": "display_data",
          "data": {
            "image/png": "[encoded data removed]",
            "text/plain": [
              "<Figure size 432x288 with 1 Axes>"
            ]
          },
          "metadata": {
            "tags": [],
            "needs_background": "light"
          }
        }
      ]
    },
    {
      "cell_type": "markdown",
      "metadata": {
        "id": "8pZY31fbdK_A"
      },
      "source": [
        "Hyderabad has the highest owners of First Hand cars. "
      ]
    },
    {
      "cell_type": "code",
      "metadata": {
        "id": "Lek4s3yJD5Lk",
        "outputId": "a54c17fa-20e0-480c-eafc-05460ddb8a90",
        "colab": {
          "base_uri": "https://localhost:8080/",
          "height": 296
        }
      },
      "source": [
        "sb.barplot(y=data['Transmission'],x=data['Price'])"
      ],
      "execution_count": null,
      "outputs": [
        {
          "output_type": "execute_result",
          "data": {
            "text/plain": [
              "<matplotlib.axes._subplots.AxesSubplot at 0x7f743ab5a400>"
            ]
          },
          "metadata": {
            "tags": []
          },
          "execution_count": 24
        },
        {
          "output_type": "display_data",
          "data": {
            "image/png": "[encoded data removed]",
            "text/plain": [
              "<Figure size 432x288 with 1 Axes>"
            ]
          },
          "metadata": {
            "tags": [],
            "needs_background": "light"
          }
        }
      ]
    },
    {
      "cell_type": "markdown",
      "metadata": {
        "id": "kzBbUerrTV-L"
      },
      "source": [
        "Automatic Cars are priced higher than Manual cars on an average. "
      ]
    },
    {
      "cell_type": "code",
      "metadata": {
        "id": "UfDVJ7n_D5T_",
        "outputId": "f5cdff0a-0521-470d-888d-173395065e66",
        "colab": {
          "base_uri": "https://localhost:8080/",
          "height": 296
        }
      },
      "source": [
        "sb.barplot(y=data['Owner_Type'],x=data['Price'])"
      ],
      "execution_count": null,
      "outputs": [
        {
          "output_type": "execute_result",
          "data": {
            "text/plain": [
              "<matplotlib.axes._subplots.AxesSubplot at 0x7f743a9b0518>"
            ]
          },
          "metadata": {
            "tags": []
          },
          "execution_count": 25
        },
        {
          "output_type": "display_data",
          "data": {
            "image/png": "[encoded data removed]",
            "text/plain": [
              "<Figure size 432x288 with 1 Axes>"
            ]
          },
          "metadata": {
            "tags": [],
            "needs_background": "light"
          }
        }
      ]
    },
    {
      "cell_type": "markdown",
      "metadata": {
        "id": "T0hlMxPNU7Uy"
      },
      "source": [
        "First hand cars are priced higher, followed by the order above, which is logically sound. "
      ]
    },
    {
      "cell_type": "code",
      "metadata": {
        "id": "XSmD-jtJNyuI",
        "outputId": "8064de84-d8d3-4c61-ac22-00101ffba4f6",
        "colab": {
          "base_uri": "https://localhost:8080/",
          "height": 350
        }
      },
      "source": [
        "# Percentage of car per Location. \n",
        "counts = data['Location'].value_counts()*100/sum(data['Location'].value_counts())\n",
        "\n",
        "# 5 of the most present Locations. \n",
        "popular_labels = counts.index[:5]\n",
        "    \n",
        "# Plot\n",
        "plt.figure(figsize=(10,5))\n",
        "plt.barh(popular_labels, width=counts[:5])\n",
        "plt.title('Proportion of car /brand in India(%)')\n",
        "plt.xlabel('Proportion')\n",
        "plt.ylabel('Car Location')\n",
        "plt.show()"
      ],
      "execution_count": null,
      "outputs": [
        {
          "output_type": "display_data",
          "data": {
            "image/png": "[encoded data removed]",
            "text/plain": [
              "<Figure size 720x360 with 1 Axes>"
            ]
          },
          "metadata": {
            "tags": [],
            "needs_background": "light"
          }
        }
      ]
    },
    {
      "cell_type": "code",
      "metadata": {
        "id": "tLWpbuHrOCqI",
        "outputId": "842ddc59-0924-4083-c0de-d3a2c9501d4f",
        "colab": {
          "base_uri": "https://localhost:8080/",
          "height": 51
        }
      },
      "source": [
        "print(len(counts)) \n",
        "print(sum(counts[:10]))\n"
      ],
      "execution_count": null,
      "outputs": [
        {
          "output_type": "stream",
          "text": [
            "11\n",
            "96.27845157002825\n"
          ],
          "name": "stdout"
        }
      ]
    },
    {
      "cell_type": "markdown",
      "metadata": {
        "id": "fXtdjO3zwYlK"
      },
      "source": [
        "Over 11 different states , the 5 most recurrent states in that dataset\n",
        "represents 96.27 % of the total cars."
      ]
    },
    {
      "cell_type": "code",
      "metadata": {
        "id": "pe7TBqQBN8et",
        "outputId": "2a7d52e2-8636-4b6f-9878-92d6202c5234",
        "colab": {
          "base_uri": "https://localhost:8080/",
          "height": 431
        }
      },
      "source": [
        "fig = plt.figure(figsize=(18,8), dpi = 60)\n",
        "plt.hist(data['Price'].values, bins = 500)\n",
        "plt.title('Ditribution of MSRP')\n",
        "plt.xlabel('MSRP')\n",
        "plt.ylabel('Nb of cars')\n",
        "plt.xlim([0,50])\n",
        "plt.show()"
      ],
      "execution_count": null,
      "outputs": [
        {
          "output_type": "display_data",
          "data": {
            "image/png": "[encoded data removed]",
            "text/plain": [
              "<Figure size 1080x480 with 1 Axes>"
            ]
          },
          "metadata": {
            "tags": [],
            "needs_background": "light"
          }
        }
      ]
    },
    {
      "cell_type": "code",
      "metadata": {
        "id": "ZWWSQC3sPhs9",
        "outputId": "f29fb14b-842f-4a39-9008-8aefcc6f5308",
        "colab": {
          "base_uri": "https://localhost:8080/",
          "height": 102
        }
      },
      "source": [
        "print(sum(data['Price']>40),\"cars worth more than 4k\")\n",
        "print(sum(data['Price']>20),\"cars worth more than 2k\")\n",
        "print(sum(data['Price']>50),\"cars worth more than 5k\")\n",
        "print(\"Most expensive car costs\", max(data['Price']))\n",
        "print(\"There are\",sum(data['Price']<50),\"cars worth less than 5k\")"
      ],
      "execution_count": null,
      "outputs": [
        {
          "output_type": "stream",
          "text": [
            "171 cars worth more than 4k\n",
            "689 cars worth more than 2k\n",
            "90 cars worth more than 5k\n",
            "Most expensive car costs 160.0\n",
            "There are 5928 cars worth less than 5k\n"
          ],
          "name": "stdout"
        }
      ]
    },
    {
      "cell_type": "code",
      "metadata": {
        "id": "f4_dhgEwD5Co"
      },
      "source": [
        "# Rearrange feature names so they match the sorted feature importances\n",
        "def plot_feature_selection(indices, df):\n",
        "  \n",
        "  names = []\n",
        "  for x in indices: \n",
        "    names.append(df.columns[x])\n",
        "\n",
        "  # Create plot\n",
        "  plt.figure()\n",
        "\n",
        "  # Create plot title\n",
        "  plt.title(\"Feature Importance\")\n",
        "\n",
        "  # Add bars\n",
        "  plt.bar(range(X.shape[1]), importances[indices])\n",
        "\n",
        "  # Add feature names as x-axis labels\n",
        "  plt.xticks(range(X.shape[1]), names, rotation=90)\n",
        "\n",
        "  # Show plot\n",
        "  plt.show()"
      ],
      "execution_count": null,
      "outputs": []
    },
    {
      "cell_type": "code",
      "metadata": {
        "id": "UYP8Is5o8drS",
        "outputId": "decaff88-51dc-4fc8-e674-e3e05b1550c4",
        "colab": {
          "base_uri": "https://localhost:8080/",
          "height": 363
        }
      },
      "source": [
        "# Finding Feature Importance with RandomForestRegressor.\n",
        "\n",
        "from sklearn.ensemble import RandomForestRegressor \n",
        " \n",
        "# Dependant variable.\n",
        "y = data['Price'].values\n",
        "# Independent variables.\n",
        "data1 = data[['Kilometers_Driven','Mileage', 'Engine', 'Power', 'Seats', 'Year' ]]\n",
        "X = data1.values \n",
        "# The features need to be scaled to proceed. \n",
        "scaler = StandardScaler()\n",
        "X = scaler.fit_transform(X) \n",
        "\n",
        "\n",
        "regressor = RandomForestRegressor(n_estimators = 150, random_state = 0)\n",
        "regressor.fit(X, y)\n",
        "\n",
        "importances = regressor.feature_importances_\n",
        "\n",
        "indices = np.argsort(importances)[::-1]\n",
        "plot_feature_selection(indices, data1)"
      ],
      "execution_count": null,
      "outputs": [
        {
          "output_type": "display_data",
          "data": {
            "image/png": "[encoded data removed]",
            "text/plain": [
              "<Figure size 432x288 with 1 Axes>"
            ]
          },
          "metadata": {
            "tags": [],
            "needs_background": "light"
          }
        }
      ]
    },
    {
      "cell_type": "markdown",
      "metadata": {
        "id": "oP98csu20t0W"
      },
      "source": [
        "### Handling Outliers and Encoding Data"
      ]
    },
    {
      "cell_type": "markdown",
      "metadata": {
        "id": "iX6_oXCO_kK6"
      },
      "source": [
        "This was done in a separate notebook, but the results can be viewed here. Do not run the cells under this section as the intermediary data was generated at runtime. "
      ]
    },
    {
      "cell_type": "code",
      "metadata": {
        "id": "Dv0wG94u05dd",
        "outputId": "fdfc4652-0db4-40fe-8604-521448175128",
        "colab": {
          "base_uri": "https://localhost:8080/",
          "height": 516
        }
      },
      "source": [
        "num=['Engine','Power','Mileage','Kilometers_Driven']\n",
        "\n",
        "plt.figure(figsize=(20,10))\n",
        "plt.subplot(221)\n",
        "plt.title(num[0])\n",
        "sb.boxplot(data[num[0]])\n",
        "plt.subplot(222)\n",
        "plt.title(num[1])\n",
        "sb.boxplot(data[num[1]])\n",
        "plt.subplot(223)\n",
        "plt.title(num[2])\n",
        "sb.boxplot(data[num[2]])\n",
        "plt.subplot(224)\n",
        "plt.title(num[3])\n",
        "sb.boxplot(data[num[3]])"
      ],
      "execution_count": null,
      "outputs": [
        {
          "output_type": "execute_result",
          "data": {
            "text/plain": [
              "<matplotlib.axes._subplots.AxesSubplot at 0x7fa98ed82630>"
            ]
          },
          "metadata": {
            "tags": []
          },
          "execution_count": 192
        },
        {
          "output_type": "display_data",
          "data": {
            "image/png": "[encoded data removed]",
            "text/plain": [
              "<Figure size 1440x720 with 4 Axes>"
            ]
          },
          "metadata": {
            "tags": [],
            "needs_background": "light"
          }
        }
      ]
    },
    {
      "cell_type": "code",
      "metadata": {
        "id": "5cm3Du_G1Njr",
        "outputId": "7a26ebf7-c4ae-47d7-d1ed-7e4ee4af05f0",
        "colab": {
          "base_uri": "https://localhost:8080/",
          "height": 117
        }
      },
      "source": [
        "# We observe from above that the minimum number of seats in a car is 0. \n",
        "# We need to fix that column. Googling the car will give us the actual number of seats which is 5. \n",
        "\n",
        "data[data['Seats'] == 0]"
      ],
      "execution_count": null,
      "outputs": [
        {
          "output_type": "execute_result",
          "data": {
            "text/html": [
              "<div>\n",
              "<style scoped>\n",
              "    .dataframe tbody tr th:only-of-type {\n",
              "        vertical-align: middle;\n",
              "    }\n",
              "\n",
              "    .dataframe tbody tr th {\n",
              "        vertical-align: top;\n",
              "    }\n",
              "\n",
              "    .dataframe thead th {\n",
              "        text-align: right;\n",
              "    }\n",
              "</style>\n",
              "<table border=\"1\" class=\"dataframe\">\n",
              "  <thead>\n",
              "    <tr style=\"text-align: right;\">\n",
              "      <th></th>\n",
              "      <th>Unnamed: 0</th>\n",
              "      <th>Location</th>\n",
              "      <th>Year</th>\n",
              "      <th>Kilometers_Driven</th>\n",
              "      <th>Fuel_Type</th>\n",
              "      <th>Transmission</th>\n",
              "      <th>Owner_Type</th>\n",
              "      <th>Mileage</th>\n",
              "      <th>Engine</th>\n",
              "      <th>Power</th>\n",
              "      <th>Seats</th>\n",
              "      <th>Price</th>\n",
              "      <th>Brand</th>\n",
              "      <th>Model</th>\n",
              "    </tr>\n",
              "  </thead>\n",
              "  <tbody>\n",
              "    <tr>\n",
              "      <th>3999</th>\n",
              "      <td>3999</td>\n",
              "      <td>Hyderabad</td>\n",
              "      <td>2012</td>\n",
              "      <td>125000</td>\n",
              "      <td>Petrol</td>\n",
              "      <td>Automatic</td>\n",
              "      <td>First</td>\n",
              "      <td>10.5</td>\n",
              "      <td>3197.0</td>\n",
              "      <td>97.7</td>\n",
              "      <td>0.0</td>\n",
              "      <td>18.0</td>\n",
              "      <td>Audi</td>\n",
              "      <td>A4</td>\n",
              "    </tr>\n",
              "  </tbody>\n",
              "</table>\n",
              "</div>"
            ],
            "text/plain": [
              "      Unnamed: 0   Location  Year  Kilometers_Driven  ... Seats Price Brand  Model\n",
              "3999        3999  Hyderabad  2012             125000  ...   0.0  18.0  Audi     A4\n",
              "\n",
              "[1 rows x 14 columns]"
            ]
          },
          "metadata": {
            "tags": []
          },
          "execution_count": 109
        }
      ]
    },
    {
      "cell_type": "code",
      "metadata": {
        "id": "1rJ6MiPr1XK8"
      },
      "source": [
        "data.loc[data[\"Seats\"] == 0 ,'Seats'] = 5.0"
      ],
      "execution_count": null,
      "outputs": []
    },
    {
      "cell_type": "code",
      "metadata": {
        "id": "PWSr3qkc1g0N",
        "outputId": "1b4a28c3-84d1-48b3-95a2-65dd12deafaf",
        "colab": {
          "base_uri": "https://localhost:8080/",
          "height": 524
        }
      },
      "source": [
        "# We also similarly observe that the minimum Mileage is 0. \n",
        "# This also needs to be fixed. \n",
        "\n",
        "print(\"No. of rows with mileage as zero: \", len(data[data['Mileage'] == 0]))\n",
        "data[data['Mileage'] == 0]"
      ],
      "execution_count": null,
      "outputs": [
        {
          "output_type": "stream",
          "text": [
            "No. of rows with mileage as zero:  68\n"
          ],
          "name": "stdout"
        },
        {
          "output_type": "execute_result",
          "data": {
            "text/html": [
              "<div>\n",
              "<style scoped>\n",
              "    .dataframe tbody tr th:only-of-type {\n",
              "        vertical-align: middle;\n",
              "    }\n",
              "\n",
              "    .dataframe tbody tr th {\n",
              "        vertical-align: top;\n",
              "    }\n",
              "\n",
              "    .dataframe thead th {\n",
              "        text-align: right;\n",
              "    }\n",
              "</style>\n",
              "<table border=\"1\" class=\"dataframe\">\n",
              "  <thead>\n",
              "    <tr style=\"text-align: right;\">\n",
              "      <th></th>\n",
              "      <th>Unnamed: 0</th>\n",
              "      <th>Location</th>\n",
              "      <th>Year</th>\n",
              "      <th>Kilometers_Driven</th>\n",
              "      <th>Fuel_Type</th>\n",
              "      <th>Transmission</th>\n",
              "      <th>Owner_Type</th>\n",
              "      <th>Mileage</th>\n",
              "      <th>Engine</th>\n",
              "      <th>Power</th>\n",
              "      <th>Seats</th>\n",
              "      <th>Price</th>\n",
              "      <th>Brand</th>\n",
              "      <th>Model</th>\n",
              "    </tr>\n",
              "  </thead>\n",
              "  <tbody>\n",
              "    <tr>\n",
              "      <th>14</th>\n",
              "      <td>14</td>\n",
              "      <td>Pune</td>\n",
              "      <td>2012</td>\n",
              "      <td>85000</td>\n",
              "      <td>Diesel</td>\n",
              "      <td>Automatic</td>\n",
              "      <td>Second</td>\n",
              "      <td>0.0</td>\n",
              "      <td>2179.0</td>\n",
              "      <td>115.0</td>\n",
              "      <td>5.0</td>\n",
              "      <td>17.50</td>\n",
              "      <td>Land</td>\n",
              "      <td>Rover</td>\n",
              "    </tr>\n",
              "    <tr>\n",
              "      <th>67</th>\n",
              "      <td>67</td>\n",
              "      <td>Coimbatore</td>\n",
              "      <td>2019</td>\n",
              "      <td>15369</td>\n",
              "      <td>Diesel</td>\n",
              "      <td>Automatic</td>\n",
              "      <td>First</td>\n",
              "      <td>0.0</td>\n",
              "      <td>1950.0</td>\n",
              "      <td>194.0</td>\n",
              "      <td>5.0</td>\n",
              "      <td>35.67</td>\n",
              "      <td>Mercedes-Benz</td>\n",
              "      <td>C-Class</td>\n",
              "    </tr>\n",
              "    <tr>\n",
              "      <th>79</th>\n",
              "      <td>79</td>\n",
              "      <td>Hyderabad</td>\n",
              "      <td>2005</td>\n",
              "      <td>87591</td>\n",
              "      <td>Petrol</td>\n",
              "      <td>Manual</td>\n",
              "      <td>First</td>\n",
              "      <td>0.0</td>\n",
              "      <td>1086.0</td>\n",
              "      <td>97.7</td>\n",
              "      <td>5.0</td>\n",
              "      <td>1.30</td>\n",
              "      <td>Hyundai</td>\n",
              "      <td>Santro</td>\n",
              "    </tr>\n",
              "    <tr>\n",
              "      <th>194</th>\n",
              "      <td>194</td>\n",
              "      <td>Ahmedabad</td>\n",
              "      <td>2007</td>\n",
              "      <td>60006</td>\n",
              "      <td>Petrol</td>\n",
              "      <td>Manual</td>\n",
              "      <td>First</td>\n",
              "      <td>0.0</td>\n",
              "      <td>1493.0</td>\n",
              "      <td>97.7</td>\n",
              "      <td>5.0</td>\n",
              "      <td>2.95</td>\n",
              "      <td>Honda</td>\n",
              "      <td>City</td>\n",
              "    </tr>\n",
              "    <tr>\n",
              "      <th>229</th>\n",
              "      <td>229</td>\n",
              "      <td>Bangalore</td>\n",
              "      <td>2015</td>\n",
              "      <td>70436</td>\n",
              "      <td>Diesel</td>\n",
              "      <td>Manual</td>\n",
              "      <td>First</td>\n",
              "      <td>0.0</td>\n",
              "      <td>1498.0</td>\n",
              "      <td>99.0</td>\n",
              "      <td>5.0</td>\n",
              "      <td>3.60</td>\n",
              "      <td>Ford</td>\n",
              "      <td>Figo</td>\n",
              "    </tr>\n",
              "    <tr>\n",
              "      <th>...</th>\n",
              "      <td>...</td>\n",
              "      <td>...</td>\n",
              "      <td>...</td>\n",
              "      <td>...</td>\n",
              "      <td>...</td>\n",
              "      <td>...</td>\n",
              "      <td>...</td>\n",
              "      <td>...</td>\n",
              "      <td>...</td>\n",
              "      <td>...</td>\n",
              "      <td>...</td>\n",
              "      <td>...</td>\n",
              "      <td>...</td>\n",
              "      <td>...</td>\n",
              "    </tr>\n",
              "    <tr>\n",
              "      <th>5647</th>\n",
              "      <td>5647</td>\n",
              "      <td>Mumbai</td>\n",
              "      <td>2001</td>\n",
              "      <td>227000</td>\n",
              "      <td>Diesel</td>\n",
              "      <td>Manual</td>\n",
              "      <td>Fourth &amp; Above</td>\n",
              "      <td>0.0</td>\n",
              "      <td>2446.0</td>\n",
              "      <td>97.7</td>\n",
              "      <td>8.0</td>\n",
              "      <td>2.20</td>\n",
              "      <td>Toyota</td>\n",
              "      <td>Qualis</td>\n",
              "    </tr>\n",
              "    <tr>\n",
              "      <th>5875</th>\n",
              "      <td>5875</td>\n",
              "      <td>Ahmedabad</td>\n",
              "      <td>2019</td>\n",
              "      <td>4000</td>\n",
              "      <td>Diesel</td>\n",
              "      <td>Automatic</td>\n",
              "      <td>First</td>\n",
              "      <td>0.0</td>\n",
              "      <td>1950.0</td>\n",
              "      <td>194.0</td>\n",
              "      <td>5.0</td>\n",
              "      <td>35.00</td>\n",
              "      <td>Mercedes-Benz</td>\n",
              "      <td>C-Class</td>\n",
              "    </tr>\n",
              "    <tr>\n",
              "      <th>5943</th>\n",
              "      <td>5943</td>\n",
              "      <td>Chennai</td>\n",
              "      <td>2002</td>\n",
              "      <td>75000</td>\n",
              "      <td>Diesel</td>\n",
              "      <td>Manual</td>\n",
              "      <td>First</td>\n",
              "      <td>0.0</td>\n",
              "      <td>2112.0</td>\n",
              "      <td>97.7</td>\n",
              "      <td>6.0</td>\n",
              "      <td>1.70</td>\n",
              "      <td>Mahindra</td>\n",
              "      <td>Jeep</td>\n",
              "    </tr>\n",
              "    <tr>\n",
              "      <th>5972</th>\n",
              "      <td>5972</td>\n",
              "      <td>Mumbai</td>\n",
              "      <td>2008</td>\n",
              "      <td>65000</td>\n",
              "      <td>Petrol</td>\n",
              "      <td>Manual</td>\n",
              "      <td>Second</td>\n",
              "      <td>0.0</td>\n",
              "      <td>1086.0</td>\n",
              "      <td>62.0</td>\n",
              "      <td>5.0</td>\n",
              "      <td>1.39</td>\n",
              "      <td>Hyundai</td>\n",
              "      <td>Santro</td>\n",
              "    </tr>\n",
              "    <tr>\n",
              "      <th>6011</th>\n",
              "      <td>6011</td>\n",
              "      <td>Hyderabad</td>\n",
              "      <td>2009</td>\n",
              "      <td>53000</td>\n",
              "      <td>Petrol</td>\n",
              "      <td>Automatic</td>\n",
              "      <td>First</td>\n",
              "      <td>0.0</td>\n",
              "      <td>3597.0</td>\n",
              "      <td>262.6</td>\n",
              "      <td>5.0</td>\n",
              "      <td>4.75</td>\n",
              "      <td>Skoda</td>\n",
              "      <td>Superb</td>\n",
              "    </tr>\n",
              "  </tbody>\n",
              "</table>\n",
              "<p>68 rows × 14 columns</p>\n",
              "</div>"
            ],
            "text/plain": [
              "      Unnamed: 0    Location  Year  ...  Price          Brand    Model\n",
              "14            14        Pune  2012  ...  17.50           Land    Rover\n",
              "67            67  Coimbatore  2019  ...  35.67  Mercedes-Benz  C-Class\n",
              "79            79   Hyderabad  2005  ...   1.30        Hyundai   Santro\n",
              "194          194   Ahmedabad  2007  ...   2.95          Honda     City\n",
              "229          229   Bangalore  2015  ...   3.60           Ford     Figo\n",
              "...          ...         ...   ...  ...    ...            ...      ...\n",
              "5647        5647      Mumbai  2001  ...   2.20         Toyota   Qualis\n",
              "5875        5875   Ahmedabad  2019  ...  35.00  Mercedes-Benz  C-Class\n",
              "5943        5943     Chennai  2002  ...   1.70       Mahindra     Jeep\n",
              "5972        5972      Mumbai  2008  ...   1.39        Hyundai   Santro\n",
              "6011        6011   Hyderabad  2009  ...   4.75          Skoda   Superb\n",
              "\n",
              "[68 rows x 14 columns]"
            ]
          },
          "metadata": {
            "tags": []
          },
          "execution_count": 111
        }
      ]
    },
    {
      "cell_type": "code",
      "metadata": {
        "id": "NvTRtW9M1pBi"
      },
      "source": [
        "# Removing all Mileage = 0 / replacing them with the mean/median\n",
        "\n",
        "data.loc[data[\"Mileage\"] == 0,'Mileage'] = data[\"Mileage\"].median()"
      ],
      "execution_count": null,
      "outputs": []
    },
    {
      "cell_type": "code",
      "metadata": {
        "id": "5vlgITyZ1_Aq"
      },
      "source": [
        "# Interquartile Range method. \n",
        "\n",
        "def outliers_iqr(df , column):\n",
        "  global lower,upper\n",
        "  q25, q75 = np.quantile(df[column], 0.25), np.quantile(df[column], 0.75)\n",
        "  # calculate the IQR\n",
        "  iqr = q75 - q25\n",
        "  # calculate the outlier cutoff\n",
        "  cut_off = iqr * 1.5\n",
        "  # calculate the lower and upper bound value\n",
        "  lower, upper = q25 - cut_off, q75 + cut_off\n",
        "  print(column)\n",
        "\n",
        "  print('The IQR is',iqr)\n",
        "  print('The lower bound value is', lower)\n",
        "  print('The upper bound value is', upper)\n",
        "  # Calculate the number of records below and above lower and above bound value respectively\n",
        "  df1 = df[df[column] > upper]\n",
        "  df2 = df[df[column] < lower]\n",
        "  print(\"Outliers Percentage (%) of data: \" + '%.2f'%(((df1.shape[0]+df2.shape[0])/len(data))*100) )\n",
        "  \n",
        "  print('Total number of outliers above upper bound and below lower bound are: ' + str(df1.shape[0]) + \" and \" + str(df2.shape[0]) )\n",
        "\n",
        "  return(df1.shape[0] + df2.shape[1])"
      ],
      "execution_count": null,
      "outputs": []
    },
    {
      "cell_type": "code",
      "metadata": {
        "id": "wNvhiqNL2DDt",
        "outputId": "42e4029c-5be7-4922-f01b-a0d6161c31bd",
        "colab": {
          "base_uri": "https://localhost:8080/",
          "height": 578
        }
      },
      "source": [
        "outlier_sum = 0\n",
        "outlier_sum += outliers_iqr(data, 'Kilometers_Driven')\n",
        "outlier_sum += outliers_iqr(data, 'Mileage')\n",
        "outlier_sum += outliers_iqr(data, 'Engine')\n",
        "outlier_sum += outliers_iqr(data, 'Power')\n",
        "outlier_sum += outliers_iqr(data, 'Price')\n",
        "\n",
        "print(\"\\nTotal Number of Outliers: \", outlier_sum)  # Worst case assuming there are no overlaps. \n",
        "print(\"(%) of Outlier Data: \" + '%.2f'%((outlier_sum/len(data))*100) )"
      ],
      "execution_count": null,
      "outputs": [
        {
          "output_type": "stream",
          "text": [
            "Kilometers_Driven\n",
            "The IQR is 39000.0\n",
            "The lower bound value is -24500.0\n",
            "The upper bound value is 131500.0\n",
            "Outliers Percentage (%) of data: 3.36\n",
            "Total number of outliers above upper bound and below lower bound are: 202 and 0\n",
            "Mileage\n",
            "The IQR is 5.700000000000001\n",
            "The lower bound value is 6.85\n",
            "The upper bound value is 29.650000000000002\n",
            "Outliers Percentage (%) of data: 0.25\n",
            "Total number of outliers above upper bound and below lower bound are: 14 and 1\n",
            "Engine\n",
            "The IQR is 771.0\n",
            "The lower bound value is 41.5\n",
            "The upper bound value is 3125.5\n",
            "Outliers Percentage (%) of data: 1.01\n",
            "Total number of outliers above upper bound and below lower bound are: 61 and 0\n",
            "Power\n",
            "The IQR is 60.03\n",
            "The lower bound value is -12.045000000000002\n",
            "The upper bound value is 228.075\n",
            "Outliers Percentage (%) of data: 3.97\n",
            "Total number of outliers above upper bound and below lower bound are: 239 and 0\n",
            "Price\n",
            "The IQR is 6.449999999999999\n",
            "The lower bound value is -6.174999999999999\n",
            "The upper bound value is 19.625\n",
            "Outliers Percentage (%) of data: 11.93\n",
            "Total number of outliers above upper bound and below lower bound are: 718 and 0\n",
            "\n",
            "Total Number of Outliers:  11734\n",
            "(%) of Outlier Data: 194.95\n"
          ],
          "name": "stdout"
        }
      ]
    },
    {
      "cell_type": "code",
      "metadata": {
        "id": "cWtAh3z32VWN",
        "outputId": "91ac68ae-0c49-4acb-c2ac-0fb7680e0b35",
        "colab": {
          "base_uri": "https://localhost:8080/",
          "height": 554
        }
      },
      "source": [
        "engine_median=data[~((data.Engine > 3125.5))].Engine.median()\n",
        "print(engine_median)\n",
        "print(len(data[data['Engine']>3125.5]))\n",
        "\n",
        "plt.figure(figsize=(20,10))\n",
        "plt.subplot(211)\n",
        "sb.boxplot(data.Engine)\n",
        "data.loc[data['Engine']>3125.5,'Engine']=engine_median\n",
        "print(len(data[data['Engine']>3125.5]))\n",
        "plt.subplot(212)\n",
        "sb.boxplot(data.Engine)"
      ],
      "execution_count": null,
      "outputs": [
        {
          "output_type": "stream",
          "text": [
            "1493.0\n",
            "61\n",
            "0\n"
          ],
          "name": "stdout"
        },
        {
          "output_type": "execute_result",
          "data": {
            "text/plain": [
              "<matplotlib.axes._subplots.AxesSubplot at 0x7fa98f08b9e8>"
            ]
          },
          "metadata": {
            "tags": []
          },
          "execution_count": 198
        },
        {
          "output_type": "display_data",
          "data": {
            "image/png": "[encoded data removed]",
            "text/plain": [
              "<Figure size 1440x720 with 2 Axes>"
            ]
          },
          "metadata": {
            "tags": [],
            "needs_background": "light"
          }
        }
      ]
    },
    {
      "cell_type": "code",
      "metadata": {
        "id": "CF2_zIcV3Kx6",
        "outputId": "733d4416-8d32-40ed-f8a7-5d5838985b07",
        "colab": {
          "base_uri": "https://localhost:8080/",
          "height": 554
        }
      },
      "source": [
        "power_median=data[~((data.Power > 228))].Power.median()\n",
        "print(power_median)\n",
        "print(len(data[data['Power']>228]))\n",
        "plt.figure(figsize=(20,10))\n",
        "plt.subplot(211)\n",
        "sb.boxplot(data.Power)\n",
        "data.loc[data['Power']>228,'Power']=power_median\n",
        "print(len(data[data['Power']>228]))\n",
        "plt.subplot(212)\n",
        "sb.boxplot(data.Power)"
      ],
      "execution_count": null,
      "outputs": [
        {
          "output_type": "stream",
          "text": [
            "93.0\n",
            "239\n",
            "0\n"
          ],
          "name": "stdout"
        },
        {
          "output_type": "execute_result",
          "data": {
            "text/plain": [
              "<matplotlib.axes._subplots.AxesSubplot at 0x7fa98f114f60>"
            ]
          },
          "metadata": {
            "tags": []
          },
          "execution_count": 199
        },
        {
          "output_type": "display_data",
          "data": {
            "image/png": "[encoded data removed]",
            "text/plain": [
              "<Figure size 1440x720 with 2 Axes>"
            ]
          },
          "metadata": {
            "tags": [],
            "needs_background": "light"
          }
        }
      ]
    },
    {
      "cell_type": "code",
      "metadata": {
        "id": "4RH8hCWU3jdS",
        "outputId": "945c6a90-2d62-47cb-f0ec-a761e5675d4c",
        "colab": {
          "base_uri": "https://localhost:8080/",
          "height": 817
        }
      },
      "source": [
        "sb.boxplot(data.Kilometers_Driven)\n",
        "driven_median=data[~((data.Kilometers_Driven > 131500))].Kilometers_Driven.median()\n",
        "print(driven_median)\n",
        "print(len(data[data['Kilometers_Driven']>131500]))\n",
        "data.loc[data['Kilometers_Driven']>131500,'Kilometers_Driven']=driven_median\n",
        "print(len(data[data['Kilometers_Driven']>131500]))\n",
        "plt.figure(figsize=(20,10))\n",
        "sb.boxplot(data.Kilometers_Driven)"
      ],
      "execution_count": null,
      "outputs": [
        {
          "output_type": "stream",
          "text": [
            "52000.0\n",
            "202\n",
            "0\n"
          ],
          "name": "stdout"
        },
        {
          "output_type": "execute_result",
          "data": {
            "text/plain": [
              "<matplotlib.axes._subplots.AxesSubplot at 0x7fa98eed1048>"
            ]
          },
          "metadata": {
            "tags": []
          },
          "execution_count": 200
        },
        {
          "output_type": "display_data",
          "data": {
            "image/png": "[encoded data removed]",
            "text/plain": [
              "<Figure size 432x288 with 1 Axes>"
            ]
          },
          "metadata": {
            "tags": [],
            "needs_background": "light"
          }
        },
        {
          "output_type": "display_data",
          "data": {
            "image/png": "[encoded data removed]",
            "text/plain": [
              "<Figure size 1440x720 with 1 Axes>"
            ]
          },
          "metadata": {
            "tags": [],
            "needs_background": "light"
          }
        }
      ]
    },
    {
      "cell_type": "code",
      "metadata": {
        "id": "ZoI9G8sj37_c",
        "outputId": "219cdcc9-d519-486a-e00b-ef7ab8deb660",
        "colab": {
          "base_uri": "https://localhost:8080/",
          "height": 668
        }
      },
      "source": [
        "#Handling outliers in Mileage\n",
        "mileage_median=data[~((data.Mileage < (6.27)) |(data.Mileage > (29.99)))].Mileage.median()\n",
        "mileage_median\n",
        "\n",
        "plt.figure(figsize=(10,5))\n",
        "sb.boxplot(data.Mileage)\n",
        "data.loc[data['Mileage']<6.27,'Mileage']=mileage_median\n",
        "data.loc[data['Mileage']>29.99,'Mileage']=mileage_median\n",
        "plt.figure(figsize=(10,5))\n",
        "sb.boxplot(data.Mileage)"
      ],
      "execution_count": null,
      "outputs": [
        {
          "output_type": "execute_result",
          "data": {
            "text/plain": [
              "<matplotlib.axes._subplots.AxesSubplot at 0x7fa98eeb35c0>"
            ]
          },
          "metadata": {
            "tags": []
          },
          "execution_count": 201
        },
        {
          "output_type": "display_data",
          "data": {
            "image/png": "[encoded data removed]",
            "text/plain": [
              "<Figure size 720x360 with 1 Axes>"
            ]
          },
          "metadata": {
            "tags": [],
            "needs_background": "light"
          }
        },
        {
          "output_type": "display_data",
          "data": {
            "image/png": "[encoded data removed]",
            "text/plain": [
              "<Figure size 720x360 with 1 Axes>"
            ]
          },
          "metadata": {
            "tags": [],
            "needs_background": "light"
          }
        }
      ]
    },
    {
      "cell_type": "code",
      "metadata": {
        "id": "dRs_6VjI4QuW"
      },
      "source": [
        "# One Hot Encoding. \n",
        "#dummies = pd.get_dummies(data[ [ 'Location','Brand', 'Seats'] ] )\n",
        "dummies = pd.get_dummies(data[ [ 'Location','Brand', 'Seats', 'Transmission', 'Owner_Type', 'Fuel_Type'] ] )"
      ],
      "execution_count": null,
      "outputs": []
    },
    {
      "cell_type": "code",
      "metadata": {
        "id": "DTH4HroC4hWs"
      },
      "source": [
        "new = pd.concat([data, dummies ],axis = 'columns')"
      ],
      "execution_count": null,
      "outputs": []
    },
    {
      "cell_type": "code",
      "metadata": {
        "id": "IOilVEuY4kCH"
      },
      "source": [
        "# Label Encoding (Manually)\n",
        "# This was tried out for different versions. But not considered for the final.\n",
        "#new = new.replace({'Transmission':{'Manual':0,'Automatic':1}})\n",
        "#new = new.replace({'Owner_Type':{'First':3, 'Second':2, 'Third':1, 'Fourth & Above': 0}})\n",
        "#new = new.replace({'Fuel_Type':{'Electric':4, 'Diesel':3, 'Petrol':2, 'CNG':1, 'LPG': 0}})"
      ],
      "execution_count": null,
      "outputs": []
    },
    {
      "cell_type": "code",
      "metadata": {
        "id": "h66hddb15PTx"
      },
      "source": [
        "# Label Encoding Year \n",
        "\n",
        "le = preprocessing.LabelEncoder()\n",
        "le.fit(new['Year'])\n",
        "new['Year']=le.transform(new['Year'])"
      ],
      "execution_count": null,
      "outputs": []
    },
    {
      "cell_type": "code",
      "metadata": {
        "id": "3XkW4r6u8CIP"
      },
      "source": [
        "new = new.drop(['Location', 'Brand', 'Model', 'Seats'], axis=1)"
      ],
      "execution_count": null,
      "outputs": []
    },
    {
      "cell_type": "markdown",
      "metadata": {
        "id": "Tr8NYBl-ioJN"
      },
      "source": [
        "Similar encoding was done for the testing data as well. "
      ]
    },
    {
      "cell_type": "markdown",
      "metadata": {
        "id": "DMrUdt05yO4R"
      },
      "source": [
        "## Training Models "
      ]
    },
    {
      "cell_type": "markdown",
      "metadata": {
        "id": "qeibPUHnb6LV"
      },
      "source": [
        "### Data Split and Prep. "
      ]
    },
    {
      "cell_type": "code",
      "metadata": {
        "id": "M0-kXFyO6KHl",
        "outputId": "16adf09d-b588-4cf9-f39c-29ace6918c11",
        "colab": {
          "base_uri": "https://localhost:8080/",
          "height": 338
        }
      },
      "source": [
        "# Read cleaned out data file. \n",
        "\n",
        "data = pd.read_csv(\"v3_train_data.csv\")\n",
        "data.head()"
      ],
      "execution_count": null,
      "outputs": [
        {
          "output_type": "execute_result",
          "data": {
            "text/html": [
              "<div>\n",
              "<style scoped>\n",
              "    .dataframe tbody tr th:only-of-type {\n",
              "        vertical-align: middle;\n",
              "    }\n",
              "\n",
              "    .dataframe tbody tr th {\n",
              "        vertical-align: top;\n",
              "    }\n",
              "\n",
              "    .dataframe thead th {\n",
              "        text-align: right;\n",
              "    }\n",
              "</style>\n",
              "<table border=\"1\" class=\"dataframe\">\n",
              "  <thead>\n",
              "    <tr style=\"text-align: right;\">\n",
              "      <th></th>\n",
              "      <th>Year</th>\n",
              "      <th>Kilometers_Driven</th>\n",
              "      <th>Mileage</th>\n",
              "      <th>Engine</th>\n",
              "      <th>Power</th>\n",
              "      <th>Location_Ahmedabad</th>\n",
              "      <th>Location_Bangalore</th>\n",
              "      <th>Location_Chennai</th>\n",
              "      <th>Location_Coimbatore</th>\n",
              "      <th>Location_Delhi</th>\n",
              "      <th>Location_Hyderabad</th>\n",
              "      <th>Location_Jaipur</th>\n",
              "      <th>Location_Kochi</th>\n",
              "      <th>Location_Kolkata</th>\n",
              "      <th>Location_Mumbai</th>\n",
              "      <th>Location_Pune</th>\n",
              "      <th>Fuel_Type_CNG</th>\n",
              "      <th>Fuel_Type_Diesel</th>\n",
              "      <th>Fuel_Type_Electric</th>\n",
              "      <th>Fuel_Type_LPG</th>\n",
              "      <th>Fuel_Type_Petrol</th>\n",
              "      <th>Transmission_Automatic</th>\n",
              "      <th>Transmission_Manual</th>\n",
              "      <th>Owner_Type_First</th>\n",
              "      <th>Owner_Type_Fourth &amp; Above</th>\n",
              "      <th>Owner_Type_Second</th>\n",
              "      <th>Owner_Type_Third</th>\n",
              "      <th>Brand_Ambassador</th>\n",
              "      <th>Brand_Audi</th>\n",
              "      <th>Brand_BMW</th>\n",
              "      <th>Brand_Bentley</th>\n",
              "      <th>Brand_Chevrolet</th>\n",
              "      <th>Brand_Datsun</th>\n",
              "      <th>Brand_Fiat</th>\n",
              "      <th>Brand_Force</th>\n",
              "      <th>Brand_Ford</th>\n",
              "      <th>Brand_Honda</th>\n",
              "      <th>Brand_Hyundai</th>\n",
              "      <th>Brand_ISUZU</th>\n",
              "      <th>Brand_Isuzu</th>\n",
              "      <th>...</th>\n",
              "      <th>Model_i20 Active SX Diesel</th>\n",
              "      <th>Model_i20 Active SX Dual Tone Petrol</th>\n",
              "      <th>Model_i20 Active SX Petrol</th>\n",
              "      <th>Model_i20 Asta</th>\n",
              "      <th>Model_i20 Asta (o)</th>\n",
              "      <th>Model_i20 Asta (o) 1.4 CRDi (Diesel)</th>\n",
              "      <th>Model_i20 Asta 1.2</th>\n",
              "      <th>Model_i20 Asta 1.4 CRDi</th>\n",
              "      <th>Model_i20 Asta 1.4 CRDi (Diesel)</th>\n",
              "      <th>Model_i20 Asta Option 1.2</th>\n",
              "      <th>Model_i20 Asta Option 1.4 CRDi</th>\n",
              "      <th>Model_i20 Asta Optional with Sunroof 1.2</th>\n",
              "      <th>Model_i20 Diesel Asta Option</th>\n",
              "      <th>Model_i20 Era 1.4 CRDi</th>\n",
              "      <th>Model_i20 Magna</th>\n",
              "      <th>Model_i20 Magna 1.2</th>\n",
              "      <th>Model_i20 Magna 1.4 CRDi</th>\n",
              "      <th>Model_i20 Magna 1.4 CRDi (Diesel)</th>\n",
              "      <th>Model_i20 Magna Optional 1.2</th>\n",
              "      <th>Model_i20 Magna Optional 1.4 CRDi</th>\n",
              "      <th>Model_i20 Sportz 1.2</th>\n",
              "      <th>Model_i20 Sportz 1.4 CRDi</th>\n",
              "      <th>Model_i20 Sportz AT 1.4</th>\n",
              "      <th>Model_i20 Sportz Diesel</th>\n",
              "      <th>Model_i20 Sportz Option</th>\n",
              "      <th>Model_i20 Sportz Option 1.2</th>\n",
              "      <th>Model_i20 Sportz Option Diesel</th>\n",
              "      <th>Model_i20 Sportz Petrol</th>\n",
              "      <th>Model_redi-GO S</th>\n",
              "      <th>Model_redi-GO T</th>\n",
              "      <th>Model_redi-GO T Option</th>\n",
              "      <th>Seats_2.0</th>\n",
              "      <th>Seats_4.0</th>\n",
              "      <th>Seats_5.0</th>\n",
              "      <th>Seats_6.0</th>\n",
              "      <th>Seats_7.0</th>\n",
              "      <th>Seats_8.0</th>\n",
              "      <th>Seats_9.0</th>\n",
              "      <th>Seats_10.0</th>\n",
              "      <th>Price</th>\n",
              "    </tr>\n",
              "  </thead>\n",
              "  <tbody>\n",
              "    <tr>\n",
              "      <th>0</th>\n",
              "      <td>12</td>\n",
              "      <td>72000</td>\n",
              "      <td>26.60</td>\n",
              "      <td>998.0</td>\n",
              "      <td>58.16</td>\n",
              "      <td>0</td>\n",
              "      <td>0</td>\n",
              "      <td>0</td>\n",
              "      <td>0</td>\n",
              "      <td>0</td>\n",
              "      <td>0</td>\n",
              "      <td>0</td>\n",
              "      <td>0</td>\n",
              "      <td>0</td>\n",
              "      <td>1</td>\n",
              "      <td>0</td>\n",
              "      <td>1</td>\n",
              "      <td>0</td>\n",
              "      <td>0</td>\n",
              "      <td>0</td>\n",
              "      <td>0</td>\n",
              "      <td>0</td>\n",
              "      <td>1</td>\n",
              "      <td>1</td>\n",
              "      <td>0</td>\n",
              "      <td>0</td>\n",
              "      <td>0</td>\n",
              "      <td>0</td>\n",
              "      <td>0</td>\n",
              "      <td>0</td>\n",
              "      <td>0</td>\n",
              "      <td>0</td>\n",
              "      <td>0</td>\n",
              "      <td>0</td>\n",
              "      <td>0</td>\n",
              "      <td>0</td>\n",
              "      <td>0</td>\n",
              "      <td>0</td>\n",
              "      <td>0</td>\n",
              "      <td>0</td>\n",
              "      <td>...</td>\n",
              "      <td>0</td>\n",
              "      <td>0</td>\n",
              "      <td>0</td>\n",
              "      <td>0</td>\n",
              "      <td>0</td>\n",
              "      <td>0</td>\n",
              "      <td>0</td>\n",
              "      <td>0</td>\n",
              "      <td>0</td>\n",
              "      <td>0</td>\n",
              "      <td>0</td>\n",
              "      <td>0</td>\n",
              "      <td>0</td>\n",
              "      <td>0</td>\n",
              "      <td>0</td>\n",
              "      <td>0</td>\n",
              "      <td>0</td>\n",
              "      <td>0</td>\n",
              "      <td>0</td>\n",
              "      <td>0</td>\n",
              "      <td>0</td>\n",
              "      <td>0</td>\n",
              "      <td>0</td>\n",
              "      <td>0</td>\n",
              "      <td>0</td>\n",
              "      <td>0</td>\n",
              "      <td>0</td>\n",
              "      <td>0</td>\n",
              "      <td>0</td>\n",
              "      <td>0</td>\n",
              "      <td>0</td>\n",
              "      <td>0</td>\n",
              "      <td>0</td>\n",
              "      <td>1</td>\n",
              "      <td>0</td>\n",
              "      <td>0</td>\n",
              "      <td>0</td>\n",
              "      <td>0</td>\n",
              "      <td>0</td>\n",
              "      <td>1.75</td>\n",
              "    </tr>\n",
              "    <tr>\n",
              "      <th>1</th>\n",
              "      <td>17</td>\n",
              "      <td>41000</td>\n",
              "      <td>19.67</td>\n",
              "      <td>1582.0</td>\n",
              "      <td>126.20</td>\n",
              "      <td>0</td>\n",
              "      <td>0</td>\n",
              "      <td>0</td>\n",
              "      <td>0</td>\n",
              "      <td>0</td>\n",
              "      <td>0</td>\n",
              "      <td>0</td>\n",
              "      <td>0</td>\n",
              "      <td>0</td>\n",
              "      <td>0</td>\n",
              "      <td>1</td>\n",
              "      <td>0</td>\n",
              "      <td>1</td>\n",
              "      <td>0</td>\n",
              "      <td>0</td>\n",
              "      <td>0</td>\n",
              "      <td>0</td>\n",
              "      <td>1</td>\n",
              "      <td>1</td>\n",
              "      <td>0</td>\n",
              "      <td>0</td>\n",
              "      <td>0</td>\n",
              "      <td>0</td>\n",
              "      <td>0</td>\n",
              "      <td>0</td>\n",
              "      <td>0</td>\n",
              "      <td>0</td>\n",
              "      <td>0</td>\n",
              "      <td>0</td>\n",
              "      <td>0</td>\n",
              "      <td>0</td>\n",
              "      <td>0</td>\n",
              "      <td>1</td>\n",
              "      <td>0</td>\n",
              "      <td>0</td>\n",
              "      <td>...</td>\n",
              "      <td>0</td>\n",
              "      <td>0</td>\n",
              "      <td>0</td>\n",
              "      <td>0</td>\n",
              "      <td>0</td>\n",
              "      <td>0</td>\n",
              "      <td>0</td>\n",
              "      <td>0</td>\n",
              "      <td>0</td>\n",
              "      <td>0</td>\n",
              "      <td>0</td>\n",
              "      <td>0</td>\n",
              "      <td>0</td>\n",
              "      <td>0</td>\n",
              "      <td>0</td>\n",
              "      <td>0</td>\n",
              "      <td>0</td>\n",
              "      <td>0</td>\n",
              "      <td>0</td>\n",
              "      <td>0</td>\n",
              "      <td>0</td>\n",
              "      <td>0</td>\n",
              "      <td>0</td>\n",
              "      <td>0</td>\n",
              "      <td>0</td>\n",
              "      <td>0</td>\n",
              "      <td>0</td>\n",
              "      <td>0</td>\n",
              "      <td>0</td>\n",
              "      <td>0</td>\n",
              "      <td>0</td>\n",
              "      <td>0</td>\n",
              "      <td>0</td>\n",
              "      <td>1</td>\n",
              "      <td>0</td>\n",
              "      <td>0</td>\n",
              "      <td>0</td>\n",
              "      <td>0</td>\n",
              "      <td>0</td>\n",
              "      <td>12.50</td>\n",
              "    </tr>\n",
              "    <tr>\n",
              "      <th>2</th>\n",
              "      <td>13</td>\n",
              "      <td>46000</td>\n",
              "      <td>18.20</td>\n",
              "      <td>1199.0</td>\n",
              "      <td>88.70</td>\n",
              "      <td>0</td>\n",
              "      <td>0</td>\n",
              "      <td>1</td>\n",
              "      <td>0</td>\n",
              "      <td>0</td>\n",
              "      <td>0</td>\n",
              "      <td>0</td>\n",
              "      <td>0</td>\n",
              "      <td>0</td>\n",
              "      <td>0</td>\n",
              "      <td>0</td>\n",
              "      <td>0</td>\n",
              "      <td>0</td>\n",
              "      <td>0</td>\n",
              "      <td>0</td>\n",
              "      <td>1</td>\n",
              "      <td>0</td>\n",
              "      <td>1</td>\n",
              "      <td>1</td>\n",
              "      <td>0</td>\n",
              "      <td>0</td>\n",
              "      <td>0</td>\n",
              "      <td>0</td>\n",
              "      <td>0</td>\n",
              "      <td>0</td>\n",
              "      <td>0</td>\n",
              "      <td>0</td>\n",
              "      <td>0</td>\n",
              "      <td>0</td>\n",
              "      <td>0</td>\n",
              "      <td>0</td>\n",
              "      <td>1</td>\n",
              "      <td>0</td>\n",
              "      <td>0</td>\n",
              "      <td>0</td>\n",
              "      <td>...</td>\n",
              "      <td>0</td>\n",
              "      <td>0</td>\n",
              "      <td>0</td>\n",
              "      <td>0</td>\n",
              "      <td>0</td>\n",
              "      <td>0</td>\n",
              "      <td>0</td>\n",
              "      <td>0</td>\n",
              "      <td>0</td>\n",
              "      <td>0</td>\n",
              "      <td>0</td>\n",
              "      <td>0</td>\n",
              "      <td>0</td>\n",
              "      <td>0</td>\n",
              "      <td>0</td>\n",
              "      <td>0</td>\n",
              "      <td>0</td>\n",
              "      <td>0</td>\n",
              "      <td>0</td>\n",
              "      <td>0</td>\n",
              "      <td>0</td>\n",
              "      <td>0</td>\n",
              "      <td>0</td>\n",
              "      <td>0</td>\n",
              "      <td>0</td>\n",
              "      <td>0</td>\n",
              "      <td>0</td>\n",
              "      <td>0</td>\n",
              "      <td>0</td>\n",
              "      <td>0</td>\n",
              "      <td>0</td>\n",
              "      <td>0</td>\n",
              "      <td>0</td>\n",
              "      <td>1</td>\n",
              "      <td>0</td>\n",
              "      <td>0</td>\n",
              "      <td>0</td>\n",
              "      <td>0</td>\n",
              "      <td>0</td>\n",
              "      <td>4.50</td>\n",
              "    </tr>\n",
              "    <tr>\n",
              "      <th>3</th>\n",
              "      <td>14</td>\n",
              "      <td>87000</td>\n",
              "      <td>20.77</td>\n",
              "      <td>1248.0</td>\n",
              "      <td>88.76</td>\n",
              "      <td>0</td>\n",
              "      <td>0</td>\n",
              "      <td>1</td>\n",
              "      <td>0</td>\n",
              "      <td>0</td>\n",
              "      <td>0</td>\n",
              "      <td>0</td>\n",
              "      <td>0</td>\n",
              "      <td>0</td>\n",
              "      <td>0</td>\n",
              "      <td>0</td>\n",
              "      <td>0</td>\n",
              "      <td>1</td>\n",
              "      <td>0</td>\n",
              "      <td>0</td>\n",
              "      <td>0</td>\n",
              "      <td>0</td>\n",
              "      <td>1</td>\n",
              "      <td>1</td>\n",
              "      <td>0</td>\n",
              "      <td>0</td>\n",
              "      <td>0</td>\n",
              "      <td>0</td>\n",
              "      <td>0</td>\n",
              "      <td>0</td>\n",
              "      <td>0</td>\n",
              "      <td>0</td>\n",
              "      <td>0</td>\n",
              "      <td>0</td>\n",
              "      <td>0</td>\n",
              "      <td>0</td>\n",
              "      <td>0</td>\n",
              "      <td>0</td>\n",
              "      <td>0</td>\n",
              "      <td>0</td>\n",
              "      <td>...</td>\n",
              "      <td>0</td>\n",
              "      <td>0</td>\n",
              "      <td>0</td>\n",
              "      <td>0</td>\n",
              "      <td>0</td>\n",
              "      <td>0</td>\n",
              "      <td>0</td>\n",
              "      <td>0</td>\n",
              "      <td>0</td>\n",
              "      <td>0</td>\n",
              "      <td>0</td>\n",
              "      <td>0</td>\n",
              "      <td>0</td>\n",
              "      <td>0</td>\n",
              "      <td>0</td>\n",
              "      <td>0</td>\n",
              "      <td>0</td>\n",
              "      <td>0</td>\n",
              "      <td>0</td>\n",
              "      <td>0</td>\n",
              "      <td>0</td>\n",
              "      <td>0</td>\n",
              "      <td>0</td>\n",
              "      <td>0</td>\n",
              "      <td>0</td>\n",
              "      <td>0</td>\n",
              "      <td>0</td>\n",
              "      <td>0</td>\n",
              "      <td>0</td>\n",
              "      <td>0</td>\n",
              "      <td>0</td>\n",
              "      <td>0</td>\n",
              "      <td>0</td>\n",
              "      <td>0</td>\n",
              "      <td>0</td>\n",
              "      <td>1</td>\n",
              "      <td>0</td>\n",
              "      <td>0</td>\n",
              "      <td>0</td>\n",
              "      <td>6.00</td>\n",
              "    </tr>\n",
              "    <tr>\n",
              "      <th>4</th>\n",
              "      <td>15</td>\n",
              "      <td>40670</td>\n",
              "      <td>15.20</td>\n",
              "      <td>1968.0</td>\n",
              "      <td>140.80</td>\n",
              "      <td>0</td>\n",
              "      <td>0</td>\n",
              "      <td>0</td>\n",
              "      <td>1</td>\n",
              "      <td>0</td>\n",
              "      <td>0</td>\n",
              "      <td>0</td>\n",
              "      <td>0</td>\n",
              "      <td>0</td>\n",
              "      <td>0</td>\n",
              "      <td>0</td>\n",
              "      <td>0</td>\n",
              "      <td>1</td>\n",
              "      <td>0</td>\n",
              "      <td>0</td>\n",
              "      <td>0</td>\n",
              "      <td>1</td>\n",
              "      <td>0</td>\n",
              "      <td>0</td>\n",
              "      <td>0</td>\n",
              "      <td>1</td>\n",
              "      <td>0</td>\n",
              "      <td>0</td>\n",
              "      <td>1</td>\n",
              "      <td>0</td>\n",
              "      <td>0</td>\n",
              "      <td>0</td>\n",
              "      <td>0</td>\n",
              "      <td>0</td>\n",
              "      <td>0</td>\n",
              "      <td>0</td>\n",
              "      <td>0</td>\n",
              "      <td>0</td>\n",
              "      <td>0</td>\n",
              "      <td>0</td>\n",
              "      <td>...</td>\n",
              "      <td>0</td>\n",
              "      <td>0</td>\n",
              "      <td>0</td>\n",
              "      <td>0</td>\n",
              "      <td>0</td>\n",
              "      <td>0</td>\n",
              "      <td>0</td>\n",
              "      <td>0</td>\n",
              "      <td>0</td>\n",
              "      <td>0</td>\n",
              "      <td>0</td>\n",
              "      <td>0</td>\n",
              "      <td>0</td>\n",
              "      <td>0</td>\n",
              "      <td>0</td>\n",
              "      <td>0</td>\n",
              "      <td>0</td>\n",
              "      <td>0</td>\n",
              "      <td>0</td>\n",
              "      <td>0</td>\n",
              "      <td>0</td>\n",
              "      <td>0</td>\n",
              "      <td>0</td>\n",
              "      <td>0</td>\n",
              "      <td>0</td>\n",
              "      <td>0</td>\n",
              "      <td>0</td>\n",
              "      <td>0</td>\n",
              "      <td>0</td>\n",
              "      <td>0</td>\n",
              "      <td>0</td>\n",
              "      <td>0</td>\n",
              "      <td>0</td>\n",
              "      <td>1</td>\n",
              "      <td>0</td>\n",
              "      <td>0</td>\n",
              "      <td>0</td>\n",
              "      <td>0</td>\n",
              "      <td>0</td>\n",
              "      <td>17.74</td>\n",
              "    </tr>\n",
              "  </tbody>\n",
              "</table>\n",
              "<p>5 rows × 2100 columns</p>\n",
              "</div>"
            ],
            "text/plain": [
              "   Year  Kilometers_Driven  Mileage  ...  Seats_9.0  Seats_10.0  Price\n",
              "0    12              72000    26.60  ...          0           0   1.75\n",
              "1    17              41000    19.67  ...          0           0  12.50\n",
              "2    13              46000    18.20  ...          0           0   4.50\n",
              "3    14              87000    20.77  ...          0           0   6.00\n",
              "4    15              40670    15.20  ...          0           0  17.74\n",
              "\n",
              "[5 rows x 2100 columns]"
            ]
          },
          "metadata": {
            "tags": []
          },
          "execution_count": 316
        }
      ]
    },
    {
      "cell_type": "code",
      "metadata": {
        "id": "beGfBPDNPOB1"
      },
      "source": [
        "from sklearn.preprocessing import StandardScaler\n",
        "from sklearn.metrics import mean_absolute_error, mean_squared_error, mean_squared_log_error, r2_score\n",
        "from sklearn.model_selection import train_test_split\n",
        "\n",
        "# We apply log transformation to reduce skewness of the data. \n",
        "# X1,y1 are for all models except Linear Regression. \n",
        "# X2, y2 is for Linear Regression.\n",
        "\n",
        "sc=StandardScaler()\n",
        "data1 = data\n",
        "#data2 = data\n",
        "data1[['Kilometers_Driven','Mileage','Engine','Power','Price']]=np.log1p(data1[['Kilometers_Driven','Mileage','Engine','Power','Price']])\n",
        "data1[['Kilometers_Driven','Mileage','Engine','Power']] = sc.fit_transform(data1[['Kilometers_Driven','Mileage','Engine','Power']])\n",
        "y1 = data1.Price\n",
        "#y2 = data2.Price\n",
        "data1 = data1.drop(['Price'], axis=1)\n",
        "#data2 = data2.drop(['Price'], axis=1)\n",
        "X1 = data1.values\n",
        "#X2 = data2.values\n",
        "\n",
        "X_train, X_test, y_train, y_test = train_test_split(X1, y1, train_size=0.80, test_size=0.02, random_state=0)\n",
        "#X_train, X_test, y_train, y_test = train_test_split(X2, y2, train_size=0.80, test_size=0.2, random_state=0)\n",
        "\n"
      ],
      "execution_count": null,
      "outputs": []
    },
    {
      "cell_type": "code",
      "metadata": {
        "id": "iZfFmYQMaMPE"
      },
      "source": [
        "results_r2 = [] # List to store all R2 values."
      ],
      "execution_count": null,
      "outputs": []
    },
    {
      "cell_type": "markdown",
      "metadata": {
        "id": "wKxyPfXSRcp9"
      },
      "source": [
        "### Decision Tree "
      ]
    },
    {
      "cell_type": "code",
      "metadata": {
        "id": "tZS1vaDNcA3T",
        "outputId": "254732a2-03f7-4f4c-bb0b-0febc5ee05d6",
        "colab": {
          "base_uri": "https://localhost:8080/",
          "height": 85
        }
      },
      "source": [
        "from sklearn.tree import DecisionTreeRegressor\n",
        "from sklearn.model_selection import train_test_split\n",
        "from sklearn import preprocessing \n",
        "from sklearn import tree\n",
        "from sklearn.preprocessing import StandardScaler\n",
        "\n",
        "# We apply log transformation to reduce skewness of the data. \n",
        "\n",
        "dregr = DecisionTreeRegressor(max_depth=5)\n",
        "dregr.fit(X_train, y_train)\n",
        "\n",
        "# Predict\n",
        "predictions = dregr.predict(X_test)\n",
        "\n",
        "print(\"MAE: \" + str(mean_absolute_error(y_test, predictions)))\n",
        "print(\"MSE: \" + str(mean_squared_error(y_test, predictions)))\n",
        "print(\"MSLE: \" + str(mean_squared_log_error(y_test, predictions)))\n",
        "r2_dregr = r2_score(y_test, predictions)\n",
        "print(\"R^2 Score: \" + str(r2_dregr))\n"
      ],
      "execution_count": null,
      "outputs": [
        {
          "output_type": "stream",
          "text": [
            "MAE: 0.18644403802540685\n",
            "MSE: 0.06215459032044846\n",
            "MSLE: 0.007220458065489024\n",
            "R^2 Score: 0.8737905138736978\n"
          ],
          "name": "stdout"
        }
      ]
    },
    {
      "cell_type": "code",
      "metadata": {
        "id": "2lgN3kGoaiLI"
      },
      "source": [
        "results_r2.append(r2_dregr)"
      ],
      "execution_count": null,
      "outputs": []
    },
    {
      "cell_type": "markdown",
      "metadata": {
        "id": "JO3e--CxcTMV"
      },
      "source": [
        "### Linear Regression"
      ]
    },
    {
      "cell_type": "code",
      "metadata": {
        "id": "ta0QSZnecYxf",
        "outputId": "db1ae0a5-684c-44ed-9229-bc357daffc66",
        "colab": {
          "base_uri": "https://localhost:8080/",
          "height": 68
        }
      },
      "source": [
        "from sklearn.linear_model import LinearRegression\n",
        "from sklearn.model_selection import train_test_split\n",
        "from sklearn import preprocessing \n",
        "from sklearn.preprocessing import StandardScaler\n",
        "from sklearn.metrics import mean_absolute_error, mean_squared_error, mean_squared_log_error, r2_score\n",
        "\n",
        "lr=LinearRegression()\n",
        "lr.fit(X_train,y_train)\n",
        "predictions = lr.predict(X_test)\n",
        "\n",
        "print(\"MAE: \" + str(mean_absolute_error(y_test, predictions)))\n",
        "print(\"MSE: \" + str(mean_squared_error(y_test, predictions)))\n",
        "#print(\"MSLE: \" + str(mean_squared_log_error(y_test, predictions)))\n",
        "r2_lr = r2_score(y_test, predictions) \n",
        "print(\"R2 score: \", str(r2_lr))"
      ],
      "execution_count": null,
      "outputs": [
        {
          "output_type": "stream",
          "text": [
            "MAE: 2.1823019248358726\n",
            "MSE: 17.702430682595725\n",
            "R2 score:  0.8324117820020104\n"
          ],
          "name": "stdout"
        }
      ]
    },
    {
      "cell_type": "code",
      "metadata": {
        "id": "e6PJVsxgabFd"
      },
      "source": [
        "results_r2.append(r2_lr)"
      ],
      "execution_count": null,
      "outputs": []
    },
    {
      "cell_type": "markdown",
      "metadata": {
        "id": "pKwx8FAqca85"
      },
      "source": [
        "### Random Forest Regressor "
      ]
    },
    {
      "cell_type": "code",
      "metadata": {
        "id": "5wjEKvnuceMO",
        "outputId": "6d4a4b21-2b75-416e-b752-d0c48a637fea",
        "colab": {
          "base_uri": "https://localhost:8080/",
          "height": 85
        }
      },
      "source": [
        "from sklearn.ensemble import RandomForestRegressor \n",
        "from sklearn.model_selection import train_test_split\n",
        "from sklearn import preprocessing \n",
        "from sklearn.preprocessing import StandardScaler\n",
        "\n",
        "regressor = RandomForestRegressor(n_estimators = 150, random_state = 0)\n",
        "regressor.fit(X_train, y_train)\n",
        "predictions = regressor.predict(X_test)\n",
        "\n",
        "print(\"MAE: \" + str(mean_absolute_error(y_test, predictions)))\n",
        "print(\"MSE: \" + str(mean_squared_error(y_test, predictions)))\n",
        "print(\"MSLE: \" + str(mean_squared_log_error(y_test, predictions)))\n",
        "r2_rf = r2_score(y_test, predictions)\n",
        "print(\"R^2 Score: \" + str(r2_rf))"
      ],
      "execution_count": null,
      "outputs": [
        {
          "output_type": "stream",
          "text": [
            "MAE: 0.10999371089223553\n",
            "MSE: 0.021571408828596237\n",
            "MSLE: 0.0026144153004121237\n",
            "R^2 Score: 0.9561976611986159\n"
          ],
          "name": "stdout"
        }
      ]
    },
    {
      "cell_type": "code",
      "metadata": {
        "id": "XxXyd30rayqv"
      },
      "source": [
        "results_r2.append(r2_rf)"
      ],
      "execution_count": null,
      "outputs": []
    },
    {
      "cell_type": "markdown",
      "metadata": {
        "id": "MbUJze4xZqmO"
      },
      "source": [
        "### XGBoost Regressor \n"
      ]
    },
    {
      "cell_type": "code",
      "metadata": {
        "id": "rmnAKPXzZ0cp",
        "outputId": "83488eab-1189-4bf7-bbb9-112e726ebf63",
        "colab": {
          "base_uri": "https://localhost:8080/",
          "height": 102
        }
      },
      "source": [
        "# XGBoost applied on numerical and categorical data encoded with both one hat and label. \n",
        "\n",
        "from sklearn.model_selection import train_test_split\n",
        "from xgboost import XGBRegressor\n",
        "from sklearn.metrics import mean_absolute_error, mean_squared_error, mean_squared_log_error\n",
        "from sklearn.preprocessing import StandardScaler\n",
        "\n",
        "\n",
        "xgb_model = XGBRegressor(n_estimators=1000, learning_rate=0.05)\n",
        "xgb_model.fit(X_train, y_train, early_stopping_rounds=5, eval_set=[(X_test, y_test)], verbose=False)\n",
        "\n",
        "predictions = xgb_model.predict(X_test)\n",
        "print(\"MAE: \" + str(mean_absolute_error(y_test, predictions)))\n",
        "print(\"MSE: \" + str(mean_squared_error(y_test, predictions)))\n",
        "print(\"MSLE: \" + str(mean_squared_log_error(y_test, predictions)))\n",
        "r2_xgb = r2_score(y_test, predictions)\n",
        "print(\"R^2 Score: \" + str(r2_xgb))"
      ],
      "execution_count": null,
      "outputs": [
        {
          "output_type": "stream",
          "text": [
            "[11:04:47] WARNING: /workspace/src/objective/regression_obj.cu:152: reg:linear is now deprecated in favor of reg:squarederror.\n",
            "MAE: 0.1362506566254876\n",
            "MSE: 0.032952160851729695\n",
            "MSLE: 0.0037034783938429887\n",
            "R^2 Score: 0.9330882036804318\n"
          ],
          "name": "stdout"
        }
      ]
    },
    {
      "cell_type": "code",
      "metadata": {
        "id": "3wEtNnwKa9r6"
      },
      "source": [
        "results_r2.append(r2_xgb)"
      ],
      "execution_count": null,
      "outputs": []
    },
    {
      "cell_type": "markdown",
      "metadata": {
        "id": "_HmMjm1HbF56"
      },
      "source": [
        "### Neural Networks for Regression"
      ]
    },
    {
      "cell_type": "code",
      "metadata": {
        "id": "yKVOrVfwWT7q",
        "outputId": "7533e31b-3382-4a75-cdcd-6ff94af02778",
        "colab": {
          "base_uri": "https://localhost:8080/",
          "height": 323
        }
      },
      "source": [
        "from keras.callbacks import ModelCheckpoint\n",
        "from keras.models import Sequential\n",
        "from keras.layers import Dense, Activation, Flatten\n",
        "\n",
        "from sklearn.model_selection import train_test_split\n",
        "from sklearn.ensemble import RandomForestRegressor\n",
        "from sklearn.metrics import mean_absolute_error\n",
        "\n",
        "model = Sequential()\n",
        "\n",
        "model.add(Dense(128, kernel_initializer='normal',input_dim = X_train.shape[1], activation='relu'))\n",
        "model.add(Dense(256, kernel_initializer='normal',activation='relu'))\n",
        "model.add(Dense(256, kernel_initializer='normal',activation='relu'))\n",
        "model.add(Dense(256, kernel_initializer='normal',activation='relu'))\n",
        "model.add(Dense(1, kernel_initializer='normal',activation='linear'))\n",
        "\n",
        "model.compile(loss='mean_absolute_error', optimizer='adam', metrics=['mean_absolute_error'])\n",
        "model.summary()"
      ],
      "execution_count": null,
      "outputs": [
        {
          "output_type": "stream",
          "text": [
            "Model: \"sequential_10\"\n",
            "_________________________________________________________________\n",
            "Layer (type)                 Output Shape              Param #   \n",
            "=================================================================\n",
            "dense_46 (Dense)             (None, 128)               268800    \n",
            "_________________________________________________________________\n",
            "dense_47 (Dense)             (None, 256)               33024     \n",
            "_________________________________________________________________\n",
            "dense_48 (Dense)             (None, 256)               65792     \n",
            "_________________________________________________________________\n",
            "dense_49 (Dense)             (None, 256)               65792     \n",
            "_________________________________________________________________\n",
            "dense_50 (Dense)             (None, 1)                 257       \n",
            "=================================================================\n",
            "Total params: 433,665\n",
            "Trainable params: 433,665\n",
            "Non-trainable params: 0\n",
            "_________________________________________________________________\n"
          ],
          "name": "stdout"
        }
      ]
    },
    {
      "cell_type": "code",
      "metadata": {
        "id": "ntgExXLqWWgq"
      },
      "source": [
        "checkpoint_name = 'Weights-{epoch:03d}--{val_loss:.5f}.hdf5' \n",
        "checkpoint = ModelCheckpoint(checkpoint_name, monitor='val_loss', verbose = 0, save_best_only = True, mode ='auto')\n",
        "callbacks_list = [checkpoint]"
      ],
      "execution_count": null,
      "outputs": []
    },
    {
      "cell_type": "code",
      "metadata": {
        "id": "INatYT0DWXmU",
        "outputId": "28188578-1969-4224-be6d-747662e18eb0",
        "colab": {
          "base_uri": "https://localhost:8080/",
          "height": 1000
        }
      },
      "source": [
        "model.fit(X_train, y_train, epochs=500, batch_size=32, validation_split = 0.2, callbacks=callbacks_list)"
      ],
      "execution_count": null,
      "outputs": [
        {
          "output_type": "stream",
          "text": [
            "Train on 3852 samples, validate on 963 samples\n",
            "Epoch 1/500\n",
            "3852/3852 [==============================] - 1s 288us/step - loss: 0.3190 - mean_absolute_error: 0.3190 - val_loss: 0.1584 - val_mean_absolute_error: 0.1584\n",
            "Epoch 2/500\n",
            "3852/3852 [==============================] - 1s 252us/step - loss: 0.1307 - mean_absolute_error: 0.1307 - val_loss: 0.2088 - val_mean_absolute_error: 0.2088\n",
            "Epoch 3/500\n",
            "3852/3852 [==============================] - 1s 256us/step - loss: 0.1190 - mean_absolute_error: 0.1190 - val_loss: 0.1192 - val_mean_absolute_error: 0.1192\n",
            "Epoch 4/500\n",
            "3852/3852 [==============================] - 1s 247us/step - loss: 0.0983 - mean_absolute_error: 0.0983 - val_loss: 0.1218 - val_mean_absolute_error: 0.1218\n",
            "Epoch 5/500\n",
            "3852/3852 [==============================] - 1s 255us/step - loss: 0.0889 - mean_absolute_error: 0.0889 - val_loss: 0.1134 - val_mean_absolute_error: 0.1134\n",
            "Epoch 6/500\n",
            "3852/3852 [==============================] - 1s 251us/step - loss: 0.0842 - mean_absolute_error: 0.0842 - val_loss: 0.1097 - val_mean_absolute_error: 0.1097\n",
            "Epoch 7/500\n",
            "3852/3852 [==============================] - 1s 245us/step - loss: 0.0799 - mean_absolute_error: 0.0799 - val_loss: 0.1140 - val_mean_absolute_error: 0.1140\n",
            "Epoch 8/500\n",
            "3852/3852 [==============================] - 1s 248us/step - loss: 0.0776 - mean_absolute_error: 0.0776 - val_loss: 0.1116 - val_mean_absolute_error: 0.1116\n",
            "Epoch 9/500\n",
            "3852/3852 [==============================] - 1s 266us/step - loss: 0.0748 - mean_absolute_error: 0.0748 - val_loss: 0.1215 - val_mean_absolute_error: 0.1215\n",
            "Epoch 10/500\n",
            "3852/3852 [==============================] - 1s 259us/step - loss: 0.0791 - mean_absolute_error: 0.0791 - val_loss: 0.1344 - val_mean_absolute_error: 0.1344\n",
            "Epoch 11/500\n",
            "3852/3852 [==============================] - 1s 257us/step - loss: 0.0698 - mean_absolute_error: 0.0698 - val_loss: 0.1082 - val_mean_absolute_error: 0.1082\n",
            "Epoch 12/500\n",
            "3852/3852 [==============================] - 1s 264us/step - loss: 0.0790 - mean_absolute_error: 0.0790 - val_loss: 0.1546 - val_mean_absolute_error: 0.1546\n",
            "Epoch 13/500\n",
            "3852/3852 [==============================] - 1s 251us/step - loss: 0.0719 - mean_absolute_error: 0.0719 - val_loss: 0.1092 - val_mean_absolute_error: 0.1092\n",
            "Epoch 14/500\n",
            "3852/3852 [==============================] - 1s 248us/step - loss: 0.0650 - mean_absolute_error: 0.0650 - val_loss: 0.1108 - val_mean_absolute_error: 0.1108\n",
            "Epoch 15/500\n",
            "3852/3852 [==============================] - 1s 247us/step - loss: 0.0599 - mean_absolute_error: 0.0599 - val_loss: 0.1218 - val_mean_absolute_error: 0.1218\n",
            "Epoch 16/500\n",
            "3852/3852 [==============================] - 1s 241us/step - loss: 0.0609 - mean_absolute_error: 0.0609 - val_loss: 0.1128 - val_mean_absolute_error: 0.1128\n",
            "Epoch 17/500\n",
            "3852/3852 [==============================] - 1s 238us/step - loss: 0.0548 - mean_absolute_error: 0.0548 - val_loss: 0.1187 - val_mean_absolute_error: 0.1187\n",
            "Epoch 18/500\n",
            "3852/3852 [==============================] - 1s 244us/step - loss: 0.0586 - mean_absolute_error: 0.0586 - val_loss: 0.1117 - val_mean_absolute_error: 0.1117\n",
            "Epoch 19/500\n",
            "3852/3852 [==============================] - 1s 248us/step - loss: 0.0621 - mean_absolute_error: 0.0621 - val_loss: 0.1165 - val_mean_absolute_error: 0.1165\n",
            "Epoch 20/500\n",
            "3852/3852 [==============================] - 1s 252us/step - loss: 0.0574 - mean_absolute_error: 0.0574 - val_loss: 0.1372 - val_mean_absolute_error: 0.1372\n",
            "Epoch 21/500\n",
            "3852/3852 [==============================] - 1s 244us/step - loss: 0.0647 - mean_absolute_error: 0.0647 - val_loss: 0.1116 - val_mean_absolute_error: 0.1116\n",
            "Epoch 22/500\n",
            "3852/3852 [==============================] - 1s 252us/step - loss: 0.0555 - mean_absolute_error: 0.0555 - val_loss: 0.1068 - val_mean_absolute_error: 0.1068\n",
            "Epoch 23/500\n",
            "3852/3852 [==============================] - 1s 263us/step - loss: 0.0503 - mean_absolute_error: 0.0503 - val_loss: 0.1126 - val_mean_absolute_error: 0.1126\n",
            "Epoch 24/500\n",
            "3852/3852 [==============================] - 1s 246us/step - loss: 0.0530 - mean_absolute_error: 0.0530 - val_loss: 0.1072 - val_mean_absolute_error: 0.1072\n",
            "Epoch 25/500\n",
            "3852/3852 [==============================] - 1s 251us/step - loss: 0.0556 - mean_absolute_error: 0.0556 - val_loss: 0.1091 - val_mean_absolute_error: 0.1091\n",
            "Epoch 26/500\n",
            "3852/3852 [==============================] - 1s 251us/step - loss: 0.0506 - mean_absolute_error: 0.0506 - val_loss: 0.1169 - val_mean_absolute_error: 0.1169\n",
            "Epoch 27/500\n",
            "3852/3852 [==============================] - 1s 250us/step - loss: 0.0482 - mean_absolute_error: 0.0482 - val_loss: 0.1148 - val_mean_absolute_error: 0.1148\n",
            "Epoch 28/500\n",
            "3852/3852 [==============================] - 1s 246us/step - loss: 0.0571 - mean_absolute_error: 0.0571 - val_loss: 0.1088 - val_mean_absolute_error: 0.1088\n",
            "Epoch 29/500\n",
            "3852/3852 [==============================] - 1s 244us/step - loss: 0.0542 - mean_absolute_error: 0.0542 - val_loss: 0.1177 - val_mean_absolute_error: 0.1177\n",
            "Epoch 30/500\n",
            "3852/3852 [==============================] - 1s 248us/step - loss: 0.0506 - mean_absolute_error: 0.0506 - val_loss: 0.1092 - val_mean_absolute_error: 0.1092\n",
            "Epoch 31/500\n",
            "3852/3852 [==============================] - 1s 246us/step - loss: 0.0476 - mean_absolute_error: 0.0476 - val_loss: 0.1105 - val_mean_absolute_error: 0.1105\n",
            "Epoch 32/500\n",
            "3852/3852 [==============================] - 1s 251us/step - loss: 0.0501 - mean_absolute_error: 0.0501 - val_loss: 0.1167 - val_mean_absolute_error: 0.1167\n",
            "Epoch 33/500\n",
            "3852/3852 [==============================] - 1s 252us/step - loss: 0.0454 - mean_absolute_error: 0.0454 - val_loss: 0.1233 - val_mean_absolute_error: 0.1233\n",
            "Epoch 34/500\n",
            "3852/3852 [==============================] - 1s 252us/step - loss: 0.0481 - mean_absolute_error: 0.0481 - val_loss: 0.1099 - val_mean_absolute_error: 0.1099\n",
            "Epoch 35/500\n",
            "3852/3852 [==============================] - 1s 252us/step - loss: 0.0513 - mean_absolute_error: 0.0513 - val_loss: 0.1221 - val_mean_absolute_error: 0.1221\n",
            "Epoch 36/500\n",
            "3852/3852 [==============================] - 1s 247us/step - loss: 0.0492 - mean_absolute_error: 0.0492 - val_loss: 0.1090 - val_mean_absolute_error: 0.1090\n",
            "Epoch 37/500\n",
            "3852/3852 [==============================] - 1s 249us/step - loss: 0.0457 - mean_absolute_error: 0.0457 - val_loss: 0.1092 - val_mean_absolute_error: 0.1092\n",
            "Epoch 38/500\n",
            "3852/3852 [==============================] - 1s 252us/step - loss: 0.0418 - mean_absolute_error: 0.0418 - val_loss: 0.1101 - val_mean_absolute_error: 0.1101\n",
            "Epoch 39/500\n",
            "3852/3852 [==============================] - 1s 259us/step - loss: 0.0408 - mean_absolute_error: 0.0408 - val_loss: 0.1083 - val_mean_absolute_error: 0.1083\n",
            "Epoch 40/500\n",
            "3852/3852 [==============================] - 1s 272us/step - loss: 0.0429 - mean_absolute_error: 0.0429 - val_loss: 0.1096 - val_mean_absolute_error: 0.1096\n",
            "Epoch 41/500\n",
            "3852/3852 [==============================] - 1s 247us/step - loss: 0.0475 - mean_absolute_error: 0.0475 - val_loss: 0.1127 - val_mean_absolute_error: 0.1127\n",
            "Epoch 42/500\n",
            "3852/3852 [==============================] - 1s 251us/step - loss: 0.0420 - mean_absolute_error: 0.0420 - val_loss: 0.1193 - val_mean_absolute_error: 0.1193\n",
            "Epoch 43/500\n",
            "3852/3852 [==============================] - 1s 255us/step - loss: 0.0444 - mean_absolute_error: 0.0444 - val_loss: 0.1101 - val_mean_absolute_error: 0.1101\n",
            "Epoch 44/500\n",
            "3852/3852 [==============================] - 1s 250us/step - loss: 0.0482 - mean_absolute_error: 0.0482 - val_loss: 0.1133 - val_mean_absolute_error: 0.1133\n",
            "Epoch 45/500\n",
            "3852/3852 [==============================] - 1s 263us/step - loss: 0.0467 - mean_absolute_error: 0.0467 - val_loss: 0.1085 - val_mean_absolute_error: 0.1085\n",
            "Epoch 46/500\n",
            "3852/3852 [==============================] - 1s 247us/step - loss: 0.0428 - mean_absolute_error: 0.0428 - val_loss: 0.1398 - val_mean_absolute_error: 0.1398\n",
            "Epoch 47/500\n",
            "3852/3852 [==============================] - 1s 255us/step - loss: 0.0446 - mean_absolute_error: 0.0446 - val_loss: 0.1085 - val_mean_absolute_error: 0.1085\n",
            "Epoch 48/500\n",
            "3852/3852 [==============================] - 1s 247us/step - loss: 0.0442 - mean_absolute_error: 0.0442 - val_loss: 0.1134 - val_mean_absolute_error: 0.1134\n",
            "Epoch 49/500\n",
            "3852/3852 [==============================] - 1s 246us/step - loss: 0.0424 - mean_absolute_error: 0.0424 - val_loss: 0.1084 - val_mean_absolute_error: 0.1084\n",
            "Epoch 50/500\n",
            "3852/3852 [==============================] - 1s 248us/step - loss: 0.0436 - mean_absolute_error: 0.0436 - val_loss: 0.1125 - val_mean_absolute_error: 0.1125\n",
            "Epoch 51/500\n",
            "3852/3852 [==============================] - 1s 248us/step - loss: 0.0460 - mean_absolute_error: 0.0460 - val_loss: 0.1127 - val_mean_absolute_error: 0.1127\n",
            "Epoch 52/500\n",
            "3852/3852 [==============================] - 1s 248us/step - loss: 0.0382 - mean_absolute_error: 0.0382 - val_loss: 0.1083 - val_mean_absolute_error: 0.1083\n",
            "Epoch 53/500\n",
            "3852/3852 [==============================] - 1s 264us/step - loss: 0.0396 - mean_absolute_error: 0.0396 - val_loss: 0.1111 - val_mean_absolute_error: 0.1111\n",
            "Epoch 54/500\n",
            "3852/3852 [==============================] - 1s 244us/step - loss: 0.0384 - mean_absolute_error: 0.0384 - val_loss: 0.1067 - val_mean_absolute_error: 0.1067\n",
            "Epoch 55/500\n",
            "3852/3852 [==============================] - 1s 260us/step - loss: 0.0393 - mean_absolute_error: 0.0393 - val_loss: 0.1139 - val_mean_absolute_error: 0.1139\n",
            "Epoch 56/500\n",
            "3852/3852 [==============================] - 1s 262us/step - loss: 0.0450 - mean_absolute_error: 0.0450 - val_loss: 0.1097 - val_mean_absolute_error: 0.1097\n",
            "Epoch 57/500\n",
            "3852/3852 [==============================] - 1s 246us/step - loss: 0.0369 - mean_absolute_error: 0.0369 - val_loss: 0.1108 - val_mean_absolute_error: 0.1108\n",
            "Epoch 58/500\n",
            "3852/3852 [==============================] - 1s 256us/step - loss: 0.0377 - mean_absolute_error: 0.0377 - val_loss: 0.1084 - val_mean_absolute_error: 0.1084\n",
            "Epoch 59/500\n",
            "3852/3852 [==============================] - 1s 252us/step - loss: 0.0397 - mean_absolute_error: 0.0397 - val_loss: 0.1097 - val_mean_absolute_error: 0.1097\n",
            "Epoch 60/500\n",
            "3852/3852 [==============================] - 1s 254us/step - loss: 0.0356 - mean_absolute_error: 0.0356 - val_loss: 0.1108 - val_mean_absolute_error: 0.1108\n",
            "Epoch 61/500\n",
            "3852/3852 [==============================] - 1s 252us/step - loss: 0.0403 - mean_absolute_error: 0.0403 - val_loss: 0.1099 - val_mean_absolute_error: 0.1099\n",
            "Epoch 62/500\n",
            "3852/3852 [==============================] - 1s 253us/step - loss: 0.0378 - mean_absolute_error: 0.0378 - val_loss: 0.1104 - val_mean_absolute_error: 0.1104\n",
            "Epoch 63/500\n",
            "3852/3852 [==============================] - 1s 250us/step - loss: 0.0340 - mean_absolute_error: 0.0340 - val_loss: 0.1092 - val_mean_absolute_error: 0.1092\n",
            "Epoch 64/500\n",
            "3852/3852 [==============================] - 1s 258us/step - loss: 0.0327 - mean_absolute_error: 0.0327 - val_loss: 0.1093 - val_mean_absolute_error: 0.1093\n",
            "Epoch 65/500\n",
            "3852/3852 [==============================] - 1s 260us/step - loss: 0.0372 - mean_absolute_error: 0.0372 - val_loss: 0.1106 - val_mean_absolute_error: 0.1106\n",
            "Epoch 66/500\n",
            "3852/3852 [==============================] - 1s 250us/step - loss: 0.0337 - mean_absolute_error: 0.0337 - val_loss: 0.1090 - val_mean_absolute_error: 0.1090\n",
            "Epoch 67/500\n",
            "3852/3852 [==============================] - 1s 263us/step - loss: 0.0328 - mean_absolute_error: 0.0328 - val_loss: 0.1170 - val_mean_absolute_error: 0.1170\n",
            "Epoch 68/500\n",
            "3852/3852 [==============================] - 1s 259us/step - loss: 0.0383 - mean_absolute_error: 0.0383 - val_loss: 0.1105 - val_mean_absolute_error: 0.1105\n",
            "Epoch 69/500\n",
            "3852/3852 [==============================] - 1s 245us/step - loss: 0.0344 - mean_absolute_error: 0.0344 - val_loss: 0.1087 - val_mean_absolute_error: 0.1087\n",
            "Epoch 70/500\n",
            "3852/3852 [==============================] - 1s 253us/step - loss: 0.0350 - mean_absolute_error: 0.0350 - val_loss: 0.1083 - val_mean_absolute_error: 0.1083\n",
            "Epoch 71/500\n",
            "3852/3852 [==============================] - 1s 256us/step - loss: 0.0344 - mean_absolute_error: 0.0344 - val_loss: 0.1127 - val_mean_absolute_error: 0.1127\n",
            "Epoch 72/500\n",
            "3852/3852 [==============================] - 1s 257us/step - loss: 0.0369 - mean_absolute_error: 0.0369 - val_loss: 0.1077 - val_mean_absolute_error: 0.1077\n",
            "Epoch 73/500\n",
            "3852/3852 [==============================] - 1s 273us/step - loss: 0.0344 - mean_absolute_error: 0.0344 - val_loss: 0.1080 - val_mean_absolute_error: 0.1080\n",
            "Epoch 74/500\n",
            "3852/3852 [==============================] - 1s 258us/step - loss: 0.0360 - mean_absolute_error: 0.0360 - val_loss: 0.1078 - val_mean_absolute_error: 0.1078\n",
            "Epoch 75/500\n",
            "3852/3852 [==============================] - 1s 252us/step - loss: 0.0353 - mean_absolute_error: 0.0353 - val_loss: 0.1091 - val_mean_absolute_error: 0.1091\n",
            "Epoch 76/500\n",
            "3852/3852 [==============================] - 1s 253us/step - loss: 0.0343 - mean_absolute_error: 0.0343 - val_loss: 0.1110 - val_mean_absolute_error: 0.1110\n",
            "Epoch 77/500\n",
            "3852/3852 [==============================] - 1s 248us/step - loss: 0.0309 - mean_absolute_error: 0.0309 - val_loss: 0.1080 - val_mean_absolute_error: 0.1080\n",
            "Epoch 78/500\n",
            "3852/3852 [==============================] - 1s 258us/step - loss: 0.0338 - mean_absolute_error: 0.0338 - val_loss: 0.1075 - val_mean_absolute_error: 0.1075\n",
            "Epoch 79/500\n",
            "3852/3852 [==============================] - 1s 253us/step - loss: 0.0346 - mean_absolute_error: 0.0346 - val_loss: 0.1066 - val_mean_absolute_error: 0.1066\n",
            "Epoch 80/500\n",
            "3852/3852 [==============================] - 1s 255us/step - loss: 0.0334 - mean_absolute_error: 0.0334 - val_loss: 0.1069 - val_mean_absolute_error: 0.1069\n",
            "Epoch 81/500\n",
            "3852/3852 [==============================] - 1s 255us/step - loss: 0.0320 - mean_absolute_error: 0.0320 - val_loss: 0.1077 - val_mean_absolute_error: 0.1077\n",
            "Epoch 82/500\n",
            "3852/3852 [==============================] - 1s 251us/step - loss: 0.0330 - mean_absolute_error: 0.0330 - val_loss: 0.1107 - val_mean_absolute_error: 0.1107\n",
            "Epoch 83/500\n",
            "3852/3852 [==============================] - 1s 245us/step - loss: 0.0384 - mean_absolute_error: 0.0384 - val_loss: 0.1139 - val_mean_absolute_error: 0.1139\n",
            "Epoch 84/500\n",
            "3852/3852 [==============================] - 1s 254us/step - loss: 0.0313 - mean_absolute_error: 0.0313 - val_loss: 0.1071 - val_mean_absolute_error: 0.1071\n",
            "Epoch 85/500\n",
            "3852/3852 [==============================] - 1s 244us/step - loss: 0.0328 - mean_absolute_error: 0.0328 - val_loss: 0.1084 - val_mean_absolute_error: 0.1084\n",
            "Epoch 86/500\n",
            "3852/3852 [==============================] - 1s 246us/step - loss: 0.0327 - mean_absolute_error: 0.0327 - val_loss: 0.1134 - val_mean_absolute_error: 0.1134\n",
            "Epoch 87/500\n",
            "3852/3852 [==============================] - 1s 248us/step - loss: 0.0348 - mean_absolute_error: 0.0348 - val_loss: 0.1083 - val_mean_absolute_error: 0.1083\n",
            "Epoch 88/500\n",
            "3852/3852 [==============================] - 1s 243us/step - loss: 0.0319 - mean_absolute_error: 0.0319 - val_loss: 0.1082 - val_mean_absolute_error: 0.1082\n",
            "Epoch 89/500\n",
            "3852/3852 [==============================] - 1s 260us/step - loss: 0.0314 - mean_absolute_error: 0.0314 - val_loss: 0.1100 - val_mean_absolute_error: 0.1100\n",
            "Epoch 90/500\n",
            "3852/3852 [==============================] - 1s 246us/step - loss: 0.0338 - mean_absolute_error: 0.0338 - val_loss: 0.1109 - val_mean_absolute_error: 0.1109\n",
            "Epoch 91/500\n",
            "3852/3852 [==============================] - 1s 251us/step - loss: 0.0309 - mean_absolute_error: 0.0309 - val_loss: 0.1101 - val_mean_absolute_error: 0.1101\n",
            "Epoch 92/500\n",
            "3852/3852 [==============================] - 1s 247us/step - loss: 0.0333 - mean_absolute_error: 0.0333 - val_loss: 0.1093 - val_mean_absolute_error: 0.1093\n",
            "Epoch 93/500\n",
            "3852/3852 [==============================] - 1s 260us/step - loss: 0.0350 - mean_absolute_error: 0.0350 - val_loss: 0.1148 - val_mean_absolute_error: 0.1148\n",
            "Epoch 94/500\n",
            "3852/3852 [==============================] - 1s 268us/step - loss: 0.0327 - mean_absolute_error: 0.0327 - val_loss: 0.1082 - val_mean_absolute_error: 0.1082\n",
            "Epoch 95/500\n",
            "3852/3852 [==============================] - 1s 254us/step - loss: 0.0311 - mean_absolute_error: 0.0311 - val_loss: 0.1077 - val_mean_absolute_error: 0.1077\n",
            "Epoch 96/500\n",
            "3852/3852 [==============================] - 1s 253us/step - loss: 0.0280 - mean_absolute_error: 0.0280 - val_loss: 0.1098 - val_mean_absolute_error: 0.1098\n",
            "Epoch 97/500\n",
            "3852/3852 [==============================] - 1s 254us/step - loss: 0.0281 - mean_absolute_error: 0.0281 - val_loss: 0.1090 - val_mean_absolute_error: 0.1090\n",
            "Epoch 98/500\n",
            "3852/3852 [==============================] - 1s 255us/step - loss: 0.0290 - mean_absolute_error: 0.0290 - val_loss: 0.1082 - val_mean_absolute_error: 0.1082\n",
            "Epoch 99/500\n",
            "3852/3852 [==============================] - 1s 271us/step - loss: 0.0333 - mean_absolute_error: 0.0333 - val_loss: 0.1119 - val_mean_absolute_error: 0.1119\n",
            "Epoch 100/500\n",
            "3852/3852 [==============================] - 1s 261us/step - loss: 0.0279 - mean_absolute_error: 0.0279 - val_loss: 0.1083 - val_mean_absolute_error: 0.1083\n",
            "Epoch 101/500\n",
            "3852/3852 [==============================] - 1s 255us/step - loss: 0.0333 - mean_absolute_error: 0.0333 - val_loss: 0.1131 - val_mean_absolute_error: 0.1131\n",
            "Epoch 102/500\n",
            "3852/3852 [==============================] - 1s 257us/step - loss: 0.0322 - mean_absolute_error: 0.0322 - val_loss: 0.1091 - val_mean_absolute_error: 0.1091\n",
            "Epoch 103/500\n",
            "3852/3852 [==============================] - 1s 254us/step - loss: 0.0288 - mean_absolute_error: 0.0288 - val_loss: 0.1083 - val_mean_absolute_error: 0.1083\n",
            "Epoch 104/500\n",
            "3852/3852 [==============================] - 1s 267us/step - loss: 0.0273 - mean_absolute_error: 0.0273 - val_loss: 0.1072 - val_mean_absolute_error: 0.1072\n",
            "Epoch 105/500\n",
            "3852/3852 [==============================] - 1s 248us/step - loss: 0.0274 - mean_absolute_error: 0.0274 - val_loss: 0.1143 - val_mean_absolute_error: 0.1143\n",
            "Epoch 106/500\n",
            "3852/3852 [==============================] - 1s 265us/step - loss: 0.0284 - mean_absolute_error: 0.0284 - val_loss: 0.1120 - val_mean_absolute_error: 0.1120\n",
            "Epoch 107/500\n",
            "3852/3852 [==============================] - 1s 261us/step - loss: 0.0305 - mean_absolute_error: 0.0305 - val_loss: 0.1079 - val_mean_absolute_error: 0.1079\n",
            "Epoch 108/500\n",
            "3852/3852 [==============================] - 1s 257us/step - loss: 0.0270 - mean_absolute_error: 0.0270 - val_loss: 0.1080 - val_mean_absolute_error: 0.1080\n",
            "Epoch 109/500\n",
            "3852/3852 [==============================] - 1s 255us/step - loss: 0.0276 - mean_absolute_error: 0.0276 - val_loss: 0.1160 - val_mean_absolute_error: 0.1160\n",
            "Epoch 110/500\n",
            "3852/3852 [==============================] - 1s 262us/step - loss: 0.0274 - mean_absolute_error: 0.0274 - val_loss: 0.1092 - val_mean_absolute_error: 0.1092\n",
            "Epoch 111/500\n",
            "3852/3852 [==============================] - 1s 272us/step - loss: 0.0274 - mean_absolute_error: 0.0274 - val_loss: 0.1113 - val_mean_absolute_error: 0.1113\n",
            "Epoch 112/500\n",
            "3852/3852 [==============================] - 1s 256us/step - loss: 0.0321 - mean_absolute_error: 0.0321 - val_loss: 0.1123 - val_mean_absolute_error: 0.1123\n",
            "Epoch 113/500\n",
            "3852/3852 [==============================] - 1s 305us/step - loss: 0.0319 - mean_absolute_error: 0.0319 - val_loss: 0.1098 - val_mean_absolute_error: 0.1098\n",
            "Epoch 114/500\n",
            "3852/3852 [==============================] - 2s 429us/step - loss: 0.0283 - mean_absolute_error: 0.0283 - val_loss: 0.1087 - val_mean_absolute_error: 0.1087\n",
            "Epoch 115/500\n",
            "3852/3852 [==============================] - 2s 427us/step - loss: 0.0268 - mean_absolute_error: 0.0268 - val_loss: 0.1113 - val_mean_absolute_error: 0.1113\n",
            "Epoch 116/500\n",
            "3852/3852 [==============================] - 2s 437us/step - loss: 0.0282 - mean_absolute_error: 0.0282 - val_loss: 0.1122 - val_mean_absolute_error: 0.1122\n",
            "Epoch 117/500\n",
            "3852/3852 [==============================] - 1s 305us/step - loss: 0.0282 - mean_absolute_error: 0.0282 - val_loss: 0.1118 - val_mean_absolute_error: 0.1118\n",
            "Epoch 118/500\n",
            "3852/3852 [==============================] - 1s 247us/step - loss: 0.0322 - mean_absolute_error: 0.0322 - val_loss: 0.1091 - val_mean_absolute_error: 0.1091\n",
            "Epoch 119/500\n",
            "3852/3852 [==============================] - 1s 257us/step - loss: 0.0263 - mean_absolute_error: 0.0263 - val_loss: 0.1090 - val_mean_absolute_error: 0.1090\n",
            "Epoch 120/500\n",
            "3852/3852 [==============================] - 1s 252us/step - loss: 0.0255 - mean_absolute_error: 0.0255 - val_loss: 0.1096 - val_mean_absolute_error: 0.1096\n",
            "Epoch 121/500\n",
            "3852/3852 [==============================] - 1s 249us/step - loss: 0.0270 - mean_absolute_error: 0.0270 - val_loss: 0.1098 - val_mean_absolute_error: 0.1098\n",
            "Epoch 122/500\n",
            "3852/3852 [==============================] - 1s 261us/step - loss: 0.0259 - mean_absolute_error: 0.0259 - val_loss: 0.1080 - val_mean_absolute_error: 0.1080\n",
            "Epoch 123/500\n",
            "3852/3852 [==============================] - 1s 253us/step - loss: 0.0253 - mean_absolute_error: 0.0253 - val_loss: 0.1087 - val_mean_absolute_error: 0.1087\n",
            "Epoch 124/500\n",
            "3852/3852 [==============================] - 1s 255us/step - loss: 0.0274 - mean_absolute_error: 0.0274 - val_loss: 0.1075 - val_mean_absolute_error: 0.1075\n",
            "Epoch 125/500\n",
            "3852/3852 [==============================] - 1s 264us/step - loss: 0.0268 - mean_absolute_error: 0.0268 - val_loss: 0.1094 - val_mean_absolute_error: 0.1094\n",
            "Epoch 126/500\n",
            "3852/3852 [==============================] - 1s 253us/step - loss: 0.0294 - mean_absolute_error: 0.0294 - val_loss: 0.1107 - val_mean_absolute_error: 0.1107\n",
            "Epoch 127/500\n",
            "3852/3852 [==============================] - 1s 258us/step - loss: 0.0273 - mean_absolute_error: 0.0273 - val_loss: 0.1163 - val_mean_absolute_error: 0.1163\n",
            "Epoch 128/500\n",
            "3852/3852 [==============================] - 1s 253us/step - loss: 0.0292 - mean_absolute_error: 0.0292 - val_loss: 0.1164 - val_mean_absolute_error: 0.1164\n",
            "Epoch 129/500\n",
            "3852/3852 [==============================] - 1s 266us/step - loss: 0.0261 - mean_absolute_error: 0.0261 - val_loss: 0.1113 - val_mean_absolute_error: 0.1113\n",
            "Epoch 130/500\n",
            "3852/3852 [==============================] - 1s 252us/step - loss: 0.0252 - mean_absolute_error: 0.0252 - val_loss: 0.1095 - val_mean_absolute_error: 0.1095\n",
            "Epoch 131/500\n",
            "3852/3852 [==============================] - 1s 247us/step - loss: 0.0276 - mean_absolute_error: 0.0276 - val_loss: 0.1098 - val_mean_absolute_error: 0.1098\n",
            "Epoch 132/500\n",
            "3852/3852 [==============================] - 1s 259us/step - loss: 0.0288 - mean_absolute_error: 0.0288 - val_loss: 0.1105 - val_mean_absolute_error: 0.1105\n",
            "Epoch 133/500\n",
            "3852/3852 [==============================] - 1s 257us/step - loss: 0.0255 - mean_absolute_error: 0.0255 - val_loss: 0.1113 - val_mean_absolute_error: 0.1113\n",
            "Epoch 134/500\n",
            "3852/3852 [==============================] - 1s 252us/step - loss: 0.0250 - mean_absolute_error: 0.0250 - val_loss: 0.1085 - val_mean_absolute_error: 0.1085\n",
            "Epoch 135/500\n",
            "3852/3852 [==============================] - 1s 244us/step - loss: 0.0279 - mean_absolute_error: 0.0279 - val_loss: 0.1099 - val_mean_absolute_error: 0.1099\n",
            "Epoch 136/500\n",
            "3852/3852 [==============================] - 1s 252us/step - loss: 0.0255 - mean_absolute_error: 0.0255 - val_loss: 0.1085 - val_mean_absolute_error: 0.1085\n",
            "Epoch 137/500\n",
            "3852/3852 [==============================] - 1s 252us/step - loss: 0.0255 - mean_absolute_error: 0.0255 - val_loss: 0.1093 - val_mean_absolute_error: 0.1093\n",
            "Epoch 138/500\n",
            "3852/3852 [==============================] - 1s 251us/step - loss: 0.0240 - mean_absolute_error: 0.0240 - val_loss: 0.1090 - val_mean_absolute_error: 0.1090\n",
            "Epoch 139/500\n",
            "3852/3852 [==============================] - 1s 246us/step - loss: 0.0286 - mean_absolute_error: 0.0286 - val_loss: 0.1134 - val_mean_absolute_error: 0.1134\n",
            "Epoch 140/500\n",
            "3852/3852 [==============================] - 1s 263us/step - loss: 0.0303 - mean_absolute_error: 0.0303 - val_loss: 0.1098 - val_mean_absolute_error: 0.1098\n",
            "Epoch 141/500\n",
            "3852/3852 [==============================] - 1s 272us/step - loss: 0.0264 - mean_absolute_error: 0.0264 - val_loss: 0.1121 - val_mean_absolute_error: 0.1121\n",
            "Epoch 142/500\n",
            "3852/3852 [==============================] - 1s 267us/step - loss: 0.0259 - mean_absolute_error: 0.0259 - val_loss: 0.1105 - val_mean_absolute_error: 0.1105\n",
            "Epoch 143/500\n",
            "3852/3852 [==============================] - 1s 267us/step - loss: 0.0258 - mean_absolute_error: 0.0258 - val_loss: 0.1112 - val_mean_absolute_error: 0.1112\n",
            "Epoch 144/500\n",
            "3852/3852 [==============================] - 1s 258us/step - loss: 0.0255 - mean_absolute_error: 0.0255 - val_loss: 0.1084 - val_mean_absolute_error: 0.1084\n",
            "Epoch 145/500\n",
            "3852/3852 [==============================] - 1s 272us/step - loss: 0.0248 - mean_absolute_error: 0.0248 - val_loss: 0.1088 - val_mean_absolute_error: 0.1088\n",
            "Epoch 146/500\n",
            "3852/3852 [==============================] - 1s 264us/step - loss: 0.0255 - mean_absolute_error: 0.0255 - val_loss: 0.1091 - val_mean_absolute_error: 0.1091\n",
            "Epoch 147/500\n",
            "3852/3852 [==============================] - 1s 276us/step - loss: 0.0257 - mean_absolute_error: 0.0257 - val_loss: 0.1088 - val_mean_absolute_error: 0.1088\n",
            "Epoch 148/500\n",
            "3852/3852 [==============================] - 1s 258us/step - loss: 0.0267 - mean_absolute_error: 0.0267 - val_loss: 0.1085 - val_mean_absolute_error: 0.1085\n",
            "Epoch 149/500\n",
            "3852/3852 [==============================] - 1s 264us/step - loss: 0.0256 - mean_absolute_error: 0.0256 - val_loss: 0.1080 - val_mean_absolute_error: 0.1080\n",
            "Epoch 150/500\n",
            "3852/3852 [==============================] - 1s 275us/step - loss: 0.0271 - mean_absolute_error: 0.0271 - val_loss: 0.1096 - val_mean_absolute_error: 0.1096\n",
            "Epoch 151/500\n",
            "3852/3852 [==============================] - 1s 259us/step - loss: 0.0234 - mean_absolute_error: 0.0234 - val_loss: 0.1094 - val_mean_absolute_error: 0.1094\n",
            "Epoch 152/500\n",
            "3852/3852 [==============================] - 1s 257us/step - loss: 0.0224 - mean_absolute_error: 0.0224 - val_loss: 0.1125 - val_mean_absolute_error: 0.1125\n",
            "Epoch 153/500\n",
            "3852/3852 [==============================] - 1s 261us/step - loss: 0.0261 - mean_absolute_error: 0.0261 - val_loss: 0.1120 - val_mean_absolute_error: 0.1120\n",
            "Epoch 154/500\n",
            "3852/3852 [==============================] - 1s 252us/step - loss: 0.0262 - mean_absolute_error: 0.0262 - val_loss: 0.1091 - val_mean_absolute_error: 0.1091\n",
            "Epoch 155/500\n",
            "3852/3852 [==============================] - 1s 249us/step - loss: 0.0254 - mean_absolute_error: 0.0254 - val_loss: 0.1099 - val_mean_absolute_error: 0.1099\n",
            "Epoch 156/500\n",
            "3852/3852 [==============================] - 1s 259us/step - loss: 0.0240 - mean_absolute_error: 0.0240 - val_loss: 0.1095 - val_mean_absolute_error: 0.1095\n",
            "Epoch 157/500\n",
            "3852/3852 [==============================] - 1s 250us/step - loss: 0.0242 - mean_absolute_error: 0.0242 - val_loss: 0.1088 - val_mean_absolute_error: 0.1088\n",
            "Epoch 158/500\n",
            "3852/3852 [==============================] - 1s 261us/step - loss: 0.0269 - mean_absolute_error: 0.0269 - val_loss: 0.1077 - val_mean_absolute_error: 0.1077\n",
            "Epoch 159/500\n",
            "3852/3852 [==============================] - 1s 266us/step - loss: 0.0247 - mean_absolute_error: 0.0247 - val_loss: 0.1091 - val_mean_absolute_error: 0.1091\n",
            "Epoch 160/500\n",
            "3852/3852 [==============================] - 1s 248us/step - loss: 0.0238 - mean_absolute_error: 0.0238 - val_loss: 0.1094 - val_mean_absolute_error: 0.1094\n",
            "Epoch 161/500\n",
            "3852/3852 [==============================] - 1s 247us/step - loss: 0.0230 - mean_absolute_error: 0.0230 - val_loss: 0.1080 - val_mean_absolute_error: 0.1080\n",
            "Epoch 162/500\n",
            "3852/3852 [==============================] - 1s 246us/step - loss: 0.0241 - mean_absolute_error: 0.0241 - val_loss: 0.1109 - val_mean_absolute_error: 0.1109\n",
            "Epoch 163/500\n",
            "3852/3852 [==============================] - 1s 253us/step - loss: 0.0255 - mean_absolute_error: 0.0255 - val_loss: 0.1081 - val_mean_absolute_error: 0.1081\n",
            "Epoch 164/500\n",
            "3852/3852 [==============================] - 1s 247us/step - loss: 0.0260 - mean_absolute_error: 0.0260 - val_loss: 0.1105 - val_mean_absolute_error: 0.1105\n",
            "Epoch 165/500\n",
            "3852/3852 [==============================] - 1s 253us/step - loss: 0.0218 - mean_absolute_error: 0.0218 - val_loss: 0.1078 - val_mean_absolute_error: 0.1078\n",
            "Epoch 166/500\n",
            "3852/3852 [==============================] - 1s 241us/step - loss: 0.0240 - mean_absolute_error: 0.0240 - val_loss: 0.1078 - val_mean_absolute_error: 0.1078\n",
            "Epoch 167/500\n",
            "3852/3852 [==============================] - 1s 244us/step - loss: 0.0237 - mean_absolute_error: 0.0237 - val_loss: 0.1087 - val_mean_absolute_error: 0.1087\n",
            "Epoch 168/500\n",
            "3852/3852 [==============================] - 1s 243us/step - loss: 0.0235 - mean_absolute_error: 0.0235 - val_loss: 0.1134 - val_mean_absolute_error: 0.1134\n",
            "Epoch 169/500\n",
            "3852/3852 [==============================] - 1s 251us/step - loss: 0.0246 - mean_absolute_error: 0.0246 - val_loss: 0.1102 - val_mean_absolute_error: 0.1102\n",
            "Epoch 170/500\n",
            "3852/3852 [==============================] - 1s 247us/step - loss: 0.0237 - mean_absolute_error: 0.0237 - val_loss: 0.1108 - val_mean_absolute_error: 0.1108\n",
            "Epoch 171/500\n",
            "3852/3852 [==============================] - 1s 242us/step - loss: 0.0260 - mean_absolute_error: 0.0260 - val_loss: 0.1093 - val_mean_absolute_error: 0.1093\n",
            "Epoch 172/500\n",
            "3852/3852 [==============================] - 1s 243us/step - loss: 0.0269 - mean_absolute_error: 0.0269 - val_loss: 0.1087 - val_mean_absolute_error: 0.1087\n",
            "Epoch 173/500\n",
            "3852/3852 [==============================] - 1s 263us/step - loss: 0.0236 - mean_absolute_error: 0.0236 - val_loss: 0.1083 - val_mean_absolute_error: 0.1083\n",
            "Epoch 174/500\n",
            "3852/3852 [==============================] - 1s 251us/step - loss: 0.0228 - mean_absolute_error: 0.0228 - val_loss: 0.1084 - val_mean_absolute_error: 0.1084\n",
            "Epoch 175/500\n",
            "3852/3852 [==============================] - 1s 253us/step - loss: 0.0222 - mean_absolute_error: 0.0222 - val_loss: 0.1101 - val_mean_absolute_error: 0.1101\n",
            "Epoch 176/500\n",
            "3852/3852 [==============================] - 1s 248us/step - loss: 0.0255 - mean_absolute_error: 0.0255 - val_loss: 0.1095 - val_mean_absolute_error: 0.1095\n",
            "Epoch 177/500\n",
            "3852/3852 [==============================] - 1s 241us/step - loss: 0.0244 - mean_absolute_error: 0.0244 - val_loss: 0.1120 - val_mean_absolute_error: 0.1120\n",
            "Epoch 178/500\n",
            "3852/3852 [==============================] - 1s 247us/step - loss: 0.0252 - mean_absolute_error: 0.0252 - val_loss: 0.1085 - val_mean_absolute_error: 0.1085\n",
            "Epoch 179/500\n",
            "3852/3852 [==============================] - 1s 255us/step - loss: 0.0222 - mean_absolute_error: 0.0222 - val_loss: 0.1093 - val_mean_absolute_error: 0.1093\n",
            "Epoch 180/500\n",
            "3852/3852 [==============================] - 1s 249us/step - loss: 0.0224 - mean_absolute_error: 0.0224 - val_loss: 0.1094 - val_mean_absolute_error: 0.1094\n",
            "Epoch 181/500\n",
            "3852/3852 [==============================] - 1s 255us/step - loss: 0.0247 - mean_absolute_error: 0.0247 - val_loss: 0.1110 - val_mean_absolute_error: 0.1110\n",
            "Epoch 182/500\n",
            "3852/3852 [==============================] - 1s 255us/step - loss: 0.0235 - mean_absolute_error: 0.0235 - val_loss: 0.1089 - val_mean_absolute_error: 0.1089\n",
            "Epoch 183/500\n",
            "3852/3852 [==============================] - 1s 250us/step - loss: 0.0231 - mean_absolute_error: 0.0231 - val_loss: 0.1080 - val_mean_absolute_error: 0.1080\n",
            "Epoch 184/500\n",
            "3852/3852 [==============================] - 1s 263us/step - loss: 0.0236 - mean_absolute_error: 0.0236 - val_loss: 0.1081 - val_mean_absolute_error: 0.1081\n",
            "Epoch 185/500\n",
            "3852/3852 [==============================] - 1s 248us/step - loss: 0.0204 - mean_absolute_error: 0.0204 - val_loss: 0.1076 - val_mean_absolute_error: 0.1076\n",
            "Epoch 186/500\n",
            "3852/3852 [==============================] - 1s 254us/step - loss: 0.0211 - mean_absolute_error: 0.0211 - val_loss: 0.1097 - val_mean_absolute_error: 0.1097\n",
            "Epoch 187/500\n",
            "3852/3852 [==============================] - 1s 247us/step - loss: 0.0214 - mean_absolute_error: 0.0214 - val_loss: 0.1098 - val_mean_absolute_error: 0.1098\n",
            "Epoch 188/500\n",
            "3852/3852 [==============================] - 1s 247us/step - loss: 0.0211 - mean_absolute_error: 0.0211 - val_loss: 0.1093 - val_mean_absolute_error: 0.1093\n",
            "Epoch 189/500\n",
            "3852/3852 [==============================] - 1s 242us/step - loss: 0.0257 - mean_absolute_error: 0.0257 - val_loss: 0.1091 - val_mean_absolute_error: 0.1091\n",
            "Epoch 190/500\n",
            "3852/3852 [==============================] - 1s 256us/step - loss: 0.0235 - mean_absolute_error: 0.0235 - val_loss: 0.1079 - val_mean_absolute_error: 0.1079\n",
            "Epoch 191/500\n",
            "3852/3852 [==============================] - 1s 255us/step - loss: 0.0211 - mean_absolute_error: 0.0211 - val_loss: 0.1090 - val_mean_absolute_error: 0.1090\n",
            "Epoch 192/500\n",
            "3852/3852 [==============================] - 1s 247us/step - loss: 0.0213 - mean_absolute_error: 0.0213 - val_loss: 0.1082 - val_mean_absolute_error: 0.1082\n",
            "Epoch 193/500\n",
            "3852/3852 [==============================] - 1s 256us/step - loss: 0.0215 - mean_absolute_error: 0.0215 - val_loss: 0.1082 - val_mean_absolute_error: 0.1082\n",
            "Epoch 194/500\n",
            "3852/3852 [==============================] - 1s 254us/step - loss: 0.0255 - mean_absolute_error: 0.0255 - val_loss: 0.1093 - val_mean_absolute_error: 0.1093\n",
            "Epoch 195/500\n",
            "3852/3852 [==============================] - 1s 256us/step - loss: 0.0222 - mean_absolute_error: 0.0222 - val_loss: 0.1110 - val_mean_absolute_error: 0.1110\n",
            "Epoch 196/500\n",
            "3852/3852 [==============================] - 1s 253us/step - loss: 0.0231 - mean_absolute_error: 0.0231 - val_loss: 0.1087 - val_mean_absolute_error: 0.1087\n",
            "Epoch 197/500\n",
            "3852/3852 [==============================] - 1s 247us/step - loss: 0.0207 - mean_absolute_error: 0.0207 - val_loss: 0.1089 - val_mean_absolute_error: 0.1089\n",
            "Epoch 198/500\n",
            "3852/3852 [==============================] - 1s 241us/step - loss: 0.0215 - mean_absolute_error: 0.0215 - val_loss: 0.1081 - val_mean_absolute_error: 0.1081\n",
            "Epoch 199/500\n",
            "3852/3852 [==============================] - 1s 249us/step - loss: 0.0206 - mean_absolute_error: 0.0206 - val_loss: 0.1083 - val_mean_absolute_error: 0.1083\n",
            "Epoch 200/500\n",
            "3852/3852 [==============================] - 1s 254us/step - loss: 0.0215 - mean_absolute_error: 0.0215 - val_loss: 0.1086 - val_mean_absolute_error: 0.1086\n",
            "Epoch 201/500\n",
            "3852/3852 [==============================] - 1s 257us/step - loss: 0.0240 - mean_absolute_error: 0.0240 - val_loss: 0.1092 - val_mean_absolute_error: 0.1092\n",
            "Epoch 202/500\n",
            "3852/3852 [==============================] - 1s 254us/step - loss: 0.0242 - mean_absolute_error: 0.0242 - val_loss: 0.1090 - val_mean_absolute_error: 0.1090\n",
            "Epoch 203/500\n",
            "3852/3852 [==============================] - 1s 257us/step - loss: 0.0217 - mean_absolute_error: 0.0217 - val_loss: 0.1098 - val_mean_absolute_error: 0.1098\n",
            "Epoch 204/500\n",
            "3852/3852 [==============================] - 1s 254us/step - loss: 0.0241 - mean_absolute_error: 0.0241 - val_loss: 0.1072 - val_mean_absolute_error: 0.1072\n",
            "Epoch 205/500\n",
            "3852/3852 [==============================] - 1s 254us/step - loss: 0.0222 - mean_absolute_error: 0.0222 - val_loss: 0.1103 - val_mean_absolute_error: 0.1103\n",
            "Epoch 206/500\n",
            "3852/3852 [==============================] - 1s 259us/step - loss: 0.0216 - mean_absolute_error: 0.0216 - val_loss: 0.1093 - val_mean_absolute_error: 0.1093\n",
            "Epoch 207/500\n",
            "3852/3852 [==============================] - 1s 256us/step - loss: 0.0235 - mean_absolute_error: 0.0235 - val_loss: 0.1087 - val_mean_absolute_error: 0.1087\n",
            "Epoch 208/500\n",
            "3852/3852 [==============================] - 1s 257us/step - loss: 0.0211 - mean_absolute_error: 0.0211 - val_loss: 0.1099 - val_mean_absolute_error: 0.1099\n",
            "Epoch 209/500\n",
            "3852/3852 [==============================] - 1s 254us/step - loss: 0.0198 - mean_absolute_error: 0.0198 - val_loss: 0.1096 - val_mean_absolute_error: 0.1096\n",
            "Epoch 210/500\n",
            "3852/3852 [==============================] - 1s 231us/step - loss: 0.0202 - mean_absolute_error: 0.0202 - val_loss: 0.1081 - val_mean_absolute_error: 0.1081\n",
            "Epoch 211/500\n",
            "3852/3852 [==============================] - 1s 246us/step - loss: 0.0219 - mean_absolute_error: 0.0219 - val_loss: 0.1110 - val_mean_absolute_error: 0.1110\n",
            "Epoch 212/500\n",
            "3852/3852 [==============================] - 1s 250us/step - loss: 0.0237 - mean_absolute_error: 0.0237 - val_loss: 0.1097 - val_mean_absolute_error: 0.1097\n",
            "Epoch 213/500\n",
            "3852/3852 [==============================] - 1s 247us/step - loss: 0.0230 - mean_absolute_error: 0.0230 - val_loss: 0.1091 - val_mean_absolute_error: 0.1091\n",
            "Epoch 214/500\n",
            "3852/3852 [==============================] - 1s 255us/step - loss: 0.0217 - mean_absolute_error: 0.0217 - val_loss: 0.1092 - val_mean_absolute_error: 0.1092\n",
            "Epoch 215/500\n",
            "3852/3852 [==============================] - 1s 247us/step - loss: 0.0206 - mean_absolute_error: 0.0206 - val_loss: 0.1095 - val_mean_absolute_error: 0.1095\n",
            "Epoch 216/500\n",
            "3852/3852 [==============================] - 1s 258us/step - loss: 0.0212 - mean_absolute_error: 0.0212 - val_loss: 0.1091 - val_mean_absolute_error: 0.1091\n",
            "Epoch 217/500\n",
            "3852/3852 [==============================] - 1s 258us/step - loss: 0.0204 - mean_absolute_error: 0.0204 - val_loss: 0.1104 - val_mean_absolute_error: 0.1104\n",
            "Epoch 218/500\n",
            "3852/3852 [==============================] - 1s 253us/step - loss: 0.0208 - mean_absolute_error: 0.0208 - val_loss: 0.1097 - val_mean_absolute_error: 0.1097\n",
            "Epoch 219/500\n",
            "3852/3852 [==============================] - 1s 254us/step - loss: 0.0218 - mean_absolute_error: 0.0218 - val_loss: 0.1081 - val_mean_absolute_error: 0.1081\n",
            "Epoch 220/500\n",
            "3852/3852 [==============================] - 1s 244us/step - loss: 0.0232 - mean_absolute_error: 0.0232 - val_loss: 0.1094 - val_mean_absolute_error: 0.1094\n",
            "Epoch 221/500\n",
            "3852/3852 [==============================] - 1s 251us/step - loss: 0.0224 - mean_absolute_error: 0.0224 - val_loss: 0.1094 - val_mean_absolute_error: 0.1094\n",
            "Epoch 222/500\n",
            "3852/3852 [==============================] - 1s 251us/step - loss: 0.0219 - mean_absolute_error: 0.0219 - val_loss: 0.1095 - val_mean_absolute_error: 0.1095\n",
            "Epoch 223/500\n",
            "3852/3852 [==============================] - 1s 249us/step - loss: 0.0212 - mean_absolute_error: 0.0212 - val_loss: 0.1088 - val_mean_absolute_error: 0.1088\n",
            "Epoch 224/500\n",
            "3852/3852 [==============================] - 1s 249us/step - loss: 0.0199 - mean_absolute_error: 0.0199 - val_loss: 0.1085 - val_mean_absolute_error: 0.1085\n",
            "Epoch 225/500\n",
            "3852/3852 [==============================] - 1s 248us/step - loss: 0.0200 - mean_absolute_error: 0.0200 - val_loss: 0.1086 - val_mean_absolute_error: 0.1086\n",
            "Epoch 226/500\n",
            "3852/3852 [==============================] - 1s 253us/step - loss: 0.0203 - mean_absolute_error: 0.0203 - val_loss: 0.1089 - val_mean_absolute_error: 0.1089\n",
            "Epoch 227/500\n",
            "3852/3852 [==============================] - 1s 255us/step - loss: 0.0234 - mean_absolute_error: 0.0234 - val_loss: 0.1111 - val_mean_absolute_error: 0.1111\n",
            "Epoch 228/500\n",
            "3852/3852 [==============================] - 1s 252us/step - loss: 0.0223 - mean_absolute_error: 0.0223 - val_loss: 0.1085 - val_mean_absolute_error: 0.1085\n",
            "Epoch 229/500\n",
            "3852/3852 [==============================] - 1s 240us/step - loss: 0.0236 - mean_absolute_error: 0.0236 - val_loss: 0.1098 - val_mean_absolute_error: 0.1098\n",
            "Epoch 230/500\n",
            "3852/3852 [==============================] - 1s 247us/step - loss: 0.0240 - mean_absolute_error: 0.0240 - val_loss: 0.1104 - val_mean_absolute_error: 0.1104\n",
            "Epoch 231/500\n",
            "3852/3852 [==============================] - 1s 252us/step - loss: 0.0225 - mean_absolute_error: 0.0225 - val_loss: 0.1086 - val_mean_absolute_error: 0.1086\n",
            "Epoch 232/500\n",
            "3852/3852 [==============================] - 1s 245us/step - loss: 0.0217 - mean_absolute_error: 0.0217 - val_loss: 0.1086 - val_mean_absolute_error: 0.1086\n",
            "Epoch 233/500\n",
            "3852/3852 [==============================] - 1s 252us/step - loss: 0.0223 - mean_absolute_error: 0.0223 - val_loss: 0.1085 - val_mean_absolute_error: 0.1085\n",
            "Epoch 234/500\n",
            "3852/3852 [==============================] - 1s 252us/step - loss: 0.0196 - mean_absolute_error: 0.0196 - val_loss: 0.1101 - val_mean_absolute_error: 0.1101\n",
            "Epoch 235/500\n",
            "3852/3852 [==============================] - 1s 253us/step - loss: 0.0203 - mean_absolute_error: 0.0203 - val_loss: 0.1084 - val_mean_absolute_error: 0.1084\n",
            "Epoch 236/500\n",
            "3852/3852 [==============================] - 1s 253us/step - loss: 0.0200 - mean_absolute_error: 0.0200 - val_loss: 0.1087 - val_mean_absolute_error: 0.1087\n",
            "Epoch 237/500\n",
            "3852/3852 [==============================] - 1s 266us/step - loss: 0.0187 - mean_absolute_error: 0.0187 - val_loss: 0.1122 - val_mean_absolute_error: 0.1122\n",
            "Epoch 238/500\n",
            "3852/3852 [==============================] - 1s 250us/step - loss: 0.0215 - mean_absolute_error: 0.0215 - val_loss: 0.1090 - val_mean_absolute_error: 0.1090\n",
            "Epoch 239/500\n",
            "3852/3852 [==============================] - 1s 263us/step - loss: 0.0202 - mean_absolute_error: 0.0202 - val_loss: 0.1109 - val_mean_absolute_error: 0.1109\n",
            "Epoch 240/500\n",
            "3852/3852 [==============================] - 1s 247us/step - loss: 0.0243 - mean_absolute_error: 0.0243 - val_loss: 0.1107 - val_mean_absolute_error: 0.1107\n",
            "Epoch 241/500\n",
            "3852/3852 [==============================] - 1s 242us/step - loss: 0.0190 - mean_absolute_error: 0.0190 - val_loss: 0.1097 - val_mean_absolute_error: 0.1097\n",
            "Epoch 242/500\n",
            "3852/3852 [==============================] - 1s 250us/step - loss: 0.0182 - mean_absolute_error: 0.0182 - val_loss: 0.1106 - val_mean_absolute_error: 0.1106\n",
            "Epoch 243/500\n",
            "3852/3852 [==============================] - 1s 252us/step - loss: 0.0209 - mean_absolute_error: 0.0209 - val_loss: 0.1088 - val_mean_absolute_error: 0.1088\n",
            "Epoch 244/500\n",
            "3852/3852 [==============================] - 1s 255us/step - loss: 0.0208 - mean_absolute_error: 0.0208 - val_loss: 0.1131 - val_mean_absolute_error: 0.1131\n",
            "Epoch 245/500\n",
            "3852/3852 [==============================] - 1s 256us/step - loss: 0.0197 - mean_absolute_error: 0.0197 - val_loss: 0.1097 - val_mean_absolute_error: 0.1097\n",
            "Epoch 246/500\n",
            "3852/3852 [==============================] - 1s 243us/step - loss: 0.0207 - mean_absolute_error: 0.0207 - val_loss: 0.1091 - val_mean_absolute_error: 0.1091\n",
            "Epoch 247/500\n",
            "3852/3852 [==============================] - 1s 245us/step - loss: 0.0218 - mean_absolute_error: 0.0218 - val_loss: 0.1089 - val_mean_absolute_error: 0.1089\n",
            "Epoch 248/500\n",
            "3852/3852 [==============================] - 1s 255us/step - loss: 0.0228 - mean_absolute_error: 0.0228 - val_loss: 0.1094 - val_mean_absolute_error: 0.1094\n",
            "Epoch 249/500\n",
            "3852/3852 [==============================] - 1s 254us/step - loss: 0.0189 - mean_absolute_error: 0.0189 - val_loss: 0.1089 - val_mean_absolute_error: 0.1089\n",
            "Epoch 250/500\n",
            "3852/3852 [==============================] - 1s 261us/step - loss: 0.0186 - mean_absolute_error: 0.0186 - val_loss: 0.1089 - val_mean_absolute_error: 0.1089\n",
            "Epoch 251/500\n",
            "3852/3852 [==============================] - 1s 245us/step - loss: 0.0193 - mean_absolute_error: 0.0193 - val_loss: 0.1091 - val_mean_absolute_error: 0.1091\n",
            "Epoch 252/500\n",
            "3852/3852 [==============================] - 1s 255us/step - loss: 0.0197 - mean_absolute_error: 0.0197 - val_loss: 0.1113 - val_mean_absolute_error: 0.1113\n",
            "Epoch 253/500\n",
            "3852/3852 [==============================] - 1s 248us/step - loss: 0.0192 - mean_absolute_error: 0.0192 - val_loss: 0.1105 - val_mean_absolute_error: 0.1105\n",
            "Epoch 254/500\n",
            "3852/3852 [==============================] - 1s 246us/step - loss: 0.0194 - mean_absolute_error: 0.0194 - val_loss: 0.1096 - val_mean_absolute_error: 0.1096\n",
            "Epoch 255/500\n",
            "3852/3852 [==============================] - 1s 255us/step - loss: 0.0194 - mean_absolute_error: 0.0194 - val_loss: 0.1086 - val_mean_absolute_error: 0.1086\n",
            "Epoch 256/500\n",
            "3852/3852 [==============================] - 1s 249us/step - loss: 0.0195 - mean_absolute_error: 0.0195 - val_loss: 0.1110 - val_mean_absolute_error: 0.1110\n",
            "Epoch 257/500\n",
            "3852/3852 [==============================] - 1s 247us/step - loss: 0.0195 - mean_absolute_error: 0.0195 - val_loss: 0.1094 - val_mean_absolute_error: 0.1094\n",
            "Epoch 258/500\n",
            "3852/3852 [==============================] - 1s 257us/step - loss: 0.0220 - mean_absolute_error: 0.0220 - val_loss: 0.1094 - val_mean_absolute_error: 0.1094\n",
            "Epoch 259/500\n",
            "3852/3852 [==============================] - 1s 247us/step - loss: 0.0194 - mean_absolute_error: 0.0194 - val_loss: 0.1089 - val_mean_absolute_error: 0.1089\n",
            "Epoch 260/500\n",
            "3852/3852 [==============================] - 1s 247us/step - loss: 0.0183 - mean_absolute_error: 0.0183 - val_loss: 0.1077 - val_mean_absolute_error: 0.1077\n",
            "Epoch 261/500\n",
            "3852/3852 [==============================] - 1s 254us/step - loss: 0.0210 - mean_absolute_error: 0.0210 - val_loss: 0.1127 - val_mean_absolute_error: 0.1127\n",
            "Epoch 262/500\n",
            "3852/3852 [==============================] - 1s 251us/step - loss: 0.0211 - mean_absolute_error: 0.0211 - val_loss: 0.1096 - val_mean_absolute_error: 0.1096\n",
            "Epoch 263/500\n",
            "3852/3852 [==============================] - 1s 252us/step - loss: 0.0211 - mean_absolute_error: 0.0211 - val_loss: 0.1089 - val_mean_absolute_error: 0.1089\n",
            "Epoch 264/500\n",
            "3852/3852 [==============================] - 1s 247us/step - loss: 0.0213 - mean_absolute_error: 0.0213 - val_loss: 0.1112 - val_mean_absolute_error: 0.1112\n",
            "Epoch 265/500\n",
            "3852/3852 [==============================] - 1s 253us/step - loss: 0.0214 - mean_absolute_error: 0.0214 - val_loss: 0.1081 - val_mean_absolute_error: 0.1081\n",
            "Epoch 266/500\n",
            "3852/3852 [==============================] - 1s 254us/step - loss: 0.0222 - mean_absolute_error: 0.0222 - val_loss: 0.1093 - val_mean_absolute_error: 0.1093\n",
            "Epoch 267/500\n",
            "3852/3852 [==============================] - 1s 249us/step - loss: 0.0196 - mean_absolute_error: 0.0196 - val_loss: 0.1081 - val_mean_absolute_error: 0.1081\n",
            "Epoch 268/500\n",
            "3852/3852 [==============================] - 1s 248us/step - loss: 0.0190 - mean_absolute_error: 0.0190 - val_loss: 0.1099 - val_mean_absolute_error: 0.1099\n",
            "Epoch 269/500\n",
            "3852/3852 [==============================] - 1s 249us/step - loss: 0.0198 - mean_absolute_error: 0.0198 - val_loss: 0.1091 - val_mean_absolute_error: 0.1091\n",
            "Epoch 270/500\n",
            "3852/3852 [==============================] - 1s 247us/step - loss: 0.0200 - mean_absolute_error: 0.0200 - val_loss: 0.1097 - val_mean_absolute_error: 0.1097\n",
            "Epoch 271/500\n",
            "3852/3852 [==============================] - 1s 241us/step - loss: 0.0213 - mean_absolute_error: 0.0213 - val_loss: 0.1100 - val_mean_absolute_error: 0.1100\n",
            "Epoch 272/500\n",
            "3852/3852 [==============================] - 1s 255us/step - loss: 0.0189 - mean_absolute_error: 0.0189 - val_loss: 0.1107 - val_mean_absolute_error: 0.1107\n",
            "Epoch 273/500\n",
            "3852/3852 [==============================] - 1s 244us/step - loss: 0.0189 - mean_absolute_error: 0.0189 - val_loss: 0.1096 - val_mean_absolute_error: 0.1096\n",
            "Epoch 274/500\n",
            "3852/3852 [==============================] - 1s 250us/step - loss: 0.0203 - mean_absolute_error: 0.0203 - val_loss: 0.1109 - val_mean_absolute_error: 0.1109\n",
            "Epoch 275/500\n",
            "3852/3852 [==============================] - 1s 248us/step - loss: 0.0181 - mean_absolute_error: 0.0181 - val_loss: 0.1094 - val_mean_absolute_error: 0.1094\n",
            "Epoch 276/500\n",
            "3852/3852 [==============================] - 1s 257us/step - loss: 0.0216 - mean_absolute_error: 0.0216 - val_loss: 0.1094 - val_mean_absolute_error: 0.1094\n",
            "Epoch 277/500\n",
            "3852/3852 [==============================] - 1s 254us/step - loss: 0.0216 - mean_absolute_error: 0.0216 - val_loss: 0.1085 - val_mean_absolute_error: 0.1085\n",
            "Epoch 278/500\n",
            "3852/3852 [==============================] - 1s 249us/step - loss: 0.0200 - mean_absolute_error: 0.0200 - val_loss: 0.1091 - val_mean_absolute_error: 0.1091\n",
            "Epoch 279/500\n",
            "3852/3852 [==============================] - 1s 250us/step - loss: 0.0203 - mean_absolute_error: 0.0203 - val_loss: 0.1098 - val_mean_absolute_error: 0.1098\n",
            "Epoch 280/500\n",
            "3852/3852 [==============================] - 1s 247us/step - loss: 0.0190 - mean_absolute_error: 0.0190 - val_loss: 0.1096 - val_mean_absolute_error: 0.1096\n",
            "Epoch 281/500\n",
            "3852/3852 [==============================] - 1s 249us/step - loss: 0.0186 - mean_absolute_error: 0.0186 - val_loss: 0.1099 - val_mean_absolute_error: 0.1099\n",
            "Epoch 282/500\n",
            "3852/3852 [==============================] - 1s 262us/step - loss: 0.0207 - mean_absolute_error: 0.0207 - val_loss: 0.1096 - val_mean_absolute_error: 0.1096\n",
            "Epoch 283/500\n",
            "3852/3852 [==============================] - 1s 277us/step - loss: 0.0185 - mean_absolute_error: 0.0185 - val_loss: 0.1093 - val_mean_absolute_error: 0.1093\n",
            "Epoch 284/500\n",
            "3852/3852 [==============================] - 1s 260us/step - loss: 0.0186 - mean_absolute_error: 0.0186 - val_loss: 0.1090 - val_mean_absolute_error: 0.1090\n",
            "Epoch 285/500\n",
            "3852/3852 [==============================] - 1s 248us/step - loss: 0.0183 - mean_absolute_error: 0.0183 - val_loss: 0.1088 - val_mean_absolute_error: 0.1088\n",
            "Epoch 286/500\n",
            "3852/3852 [==============================] - 1s 257us/step - loss: 0.0185 - mean_absolute_error: 0.0185 - val_loss: 0.1112 - val_mean_absolute_error: 0.1112\n",
            "Epoch 287/500\n",
            "3852/3852 [==============================] - 1s 248us/step - loss: 0.0205 - mean_absolute_error: 0.0205 - val_loss: 0.1104 - val_mean_absolute_error: 0.1104\n",
            "Epoch 288/500\n",
            "3852/3852 [==============================] - 1s 249us/step - loss: 0.0177 - mean_absolute_error: 0.0177 - val_loss: 0.1100 - val_mean_absolute_error: 0.1100\n",
            "Epoch 289/500\n",
            "3852/3852 [==============================] - 1s 256us/step - loss: 0.0184 - mean_absolute_error: 0.0184 - val_loss: 0.1095 - val_mean_absolute_error: 0.1095\n",
            "Epoch 290/500\n",
            "3852/3852 [==============================] - 1s 245us/step - loss: 0.0189 - mean_absolute_error: 0.0189 - val_loss: 0.1123 - val_mean_absolute_error: 0.1123\n",
            "Epoch 291/500\n",
            "3852/3852 [==============================] - 1s 246us/step - loss: 0.0215 - mean_absolute_error: 0.0215 - val_loss: 0.1114 - val_mean_absolute_error: 0.1114\n",
            "Epoch 292/500\n",
            "3852/3852 [==============================] - 1s 242us/step - loss: 0.0202 - mean_absolute_error: 0.0202 - val_loss: 0.1095 - val_mean_absolute_error: 0.1095\n",
            "Epoch 293/500\n",
            "3852/3852 [==============================] - 1s 261us/step - loss: 0.0183 - mean_absolute_error: 0.0183 - val_loss: 0.1109 - val_mean_absolute_error: 0.1109\n",
            "Epoch 294/500\n",
            "3852/3852 [==============================] - 1s 251us/step - loss: 0.0191 - mean_absolute_error: 0.0191 - val_loss: 0.1102 - val_mean_absolute_error: 0.1102\n",
            "Epoch 295/500\n",
            "3852/3852 [==============================] - 1s 244us/step - loss: 0.0180 - mean_absolute_error: 0.0180 - val_loss: 0.1124 - val_mean_absolute_error: 0.1124\n",
            "Epoch 296/500\n",
            "3852/3852 [==============================] - 1s 253us/step - loss: 0.0182 - mean_absolute_error: 0.0182 - val_loss: 0.1090 - val_mean_absolute_error: 0.1090\n",
            "Epoch 297/500\n",
            "3852/3852 [==============================] - 1s 249us/step - loss: 0.0178 - mean_absolute_error: 0.0178 - val_loss: 0.1092 - val_mean_absolute_error: 0.1092\n",
            "Epoch 298/500\n",
            "3852/3852 [==============================] - 1s 249us/step - loss: 0.0181 - mean_absolute_error: 0.0181 - val_loss: 0.1147 - val_mean_absolute_error: 0.1147\n",
            "Epoch 299/500\n",
            "3852/3852 [==============================] - 1s 251us/step - loss: 0.0209 - mean_absolute_error: 0.0209 - val_loss: 0.1121 - val_mean_absolute_error: 0.1121\n",
            "Epoch 300/500\n",
            "3852/3852 [==============================] - 1s 250us/step - loss: 0.0192 - mean_absolute_error: 0.0192 - val_loss: 0.1113 - val_mean_absolute_error: 0.1113\n",
            "Epoch 301/500\n",
            "3852/3852 [==============================] - 1s 243us/step - loss: 0.0183 - mean_absolute_error: 0.0183 - val_loss: 0.1093 - val_mean_absolute_error: 0.1093\n",
            "Epoch 302/500\n",
            "3852/3852 [==============================] - 1s 252us/step - loss: 0.0182 - mean_absolute_error: 0.0182 - val_loss: 0.1128 - val_mean_absolute_error: 0.1128\n",
            "Epoch 303/500\n",
            "3852/3852 [==============================] - 1s 243us/step - loss: 0.0211 - mean_absolute_error: 0.0211 - val_loss: 0.1089 - val_mean_absolute_error: 0.1089\n",
            "Epoch 304/500\n",
            "3852/3852 [==============================] - 1s 251us/step - loss: 0.0181 - mean_absolute_error: 0.0181 - val_loss: 0.1089 - val_mean_absolute_error: 0.1089\n",
            "Epoch 305/500\n",
            "3852/3852 [==============================] - 1s 249us/step - loss: 0.0176 - mean_absolute_error: 0.0176 - val_loss: 0.1093 - val_mean_absolute_error: 0.1093\n",
            "Epoch 306/500\n",
            "3852/3852 [==============================] - 1s 246us/step - loss: 0.0193 - mean_absolute_error: 0.0193 - val_loss: 0.1096 - val_mean_absolute_error: 0.1096\n",
            "Epoch 307/500\n",
            "3852/3852 [==============================] - 1s 246us/step - loss: 0.0223 - mean_absolute_error: 0.0223 - val_loss: 0.1120 - val_mean_absolute_error: 0.1120\n",
            "Epoch 308/500\n",
            "3852/3852 [==============================] - 1s 242us/step - loss: 0.0205 - mean_absolute_error: 0.0205 - val_loss: 0.1105 - val_mean_absolute_error: 0.1105\n",
            "Epoch 309/500\n",
            "3852/3852 [==============================] - 1s 250us/step - loss: 0.0182 - mean_absolute_error: 0.0182 - val_loss: 0.1093 - val_mean_absolute_error: 0.1093\n",
            "Epoch 310/500\n",
            "3852/3852 [==============================] - 1s 255us/step - loss: 0.0191 - mean_absolute_error: 0.0191 - val_loss: 0.1109 - val_mean_absolute_error: 0.1109\n",
            "Epoch 311/500\n",
            "3852/3852 [==============================] - 1s 255us/step - loss: 0.0188 - mean_absolute_error: 0.0188 - val_loss: 0.1094 - val_mean_absolute_error: 0.1094\n",
            "Epoch 312/500\n",
            "3852/3852 [==============================] - 1s 245us/step - loss: 0.0172 - mean_absolute_error: 0.0172 - val_loss: 0.1134 - val_mean_absolute_error: 0.1134\n",
            "Epoch 313/500\n",
            "3852/3852 [==============================] - 1s 242us/step - loss: 0.0185 - mean_absolute_error: 0.0185 - val_loss: 0.1143 - val_mean_absolute_error: 0.1143\n",
            "Epoch 314/500\n",
            "3852/3852 [==============================] - 1s 255us/step - loss: 0.0202 - mean_absolute_error: 0.0202 - val_loss: 0.1102 - val_mean_absolute_error: 0.1102\n",
            "Epoch 315/500\n",
            "3852/3852 [==============================] - 1s 248us/step - loss: 0.0196 - mean_absolute_error: 0.0196 - val_loss: 0.1130 - val_mean_absolute_error: 0.1130\n",
            "Epoch 316/500\n",
            "3852/3852 [==============================] - 1s 256us/step - loss: 0.0175 - mean_absolute_error: 0.0175 - val_loss: 0.1102 - val_mean_absolute_error: 0.1102\n",
            "Epoch 317/500\n",
            "3852/3852 [==============================] - 1s 255us/step - loss: 0.0186 - mean_absolute_error: 0.0186 - val_loss: 0.1095 - val_mean_absolute_error: 0.1095\n",
            "Epoch 318/500\n",
            "3852/3852 [==============================] - 1s 250us/step - loss: 0.0179 - mean_absolute_error: 0.0179 - val_loss: 0.1101 - val_mean_absolute_error: 0.1101\n",
            "Epoch 319/500\n",
            "3852/3852 [==============================] - 1s 245us/step - loss: 0.0171 - mean_absolute_error: 0.0171 - val_loss: 0.1113 - val_mean_absolute_error: 0.1113\n",
            "Epoch 320/500\n",
            "3852/3852 [==============================] - 1s 258us/step - loss: 0.0185 - mean_absolute_error: 0.0185 - val_loss: 0.1101 - val_mean_absolute_error: 0.1101\n",
            "Epoch 321/500\n",
            "3852/3852 [==============================] - 1s 251us/step - loss: 0.0178 - mean_absolute_error: 0.0178 - val_loss: 0.1093 - val_mean_absolute_error: 0.1093\n",
            "Epoch 322/500\n",
            "3852/3852 [==============================] - 1s 247us/step - loss: 0.0196 - mean_absolute_error: 0.0196 - val_loss: 0.1116 - val_mean_absolute_error: 0.1116\n",
            "Epoch 323/500\n",
            "3852/3852 [==============================] - 1s 250us/step - loss: 0.0187 - mean_absolute_error: 0.0187 - val_loss: 0.1097 - val_mean_absolute_error: 0.1097\n",
            "Epoch 324/500\n",
            "3852/3852 [==============================] - 1s 252us/step - loss: 0.0196 - mean_absolute_error: 0.0196 - val_loss: 0.1089 - val_mean_absolute_error: 0.1089\n",
            "Epoch 325/500\n",
            "3852/3852 [==============================] - 1s 256us/step - loss: 0.0182 - mean_absolute_error: 0.0182 - val_loss: 0.1098 - val_mean_absolute_error: 0.1098\n",
            "Epoch 326/500\n",
            "3852/3852 [==============================] - 1s 241us/step - loss: 0.0189 - mean_absolute_error: 0.0189 - val_loss: 0.1102 - val_mean_absolute_error: 0.1102\n",
            "Epoch 327/500\n",
            "3852/3852 [==============================] - 1s 257us/step - loss: 0.0168 - mean_absolute_error: 0.0168 - val_loss: 0.1106 - val_mean_absolute_error: 0.1106\n",
            "Epoch 328/500\n",
            "3852/3852 [==============================] - 1s 253us/step - loss: 0.0192 - mean_absolute_error: 0.0192 - val_loss: 0.1102 - val_mean_absolute_error: 0.1102\n",
            "Epoch 329/500\n",
            "3852/3852 [==============================] - 1s 239us/step - loss: 0.0169 - mean_absolute_error: 0.0169 - val_loss: 0.1102 - val_mean_absolute_error: 0.1102\n",
            "Epoch 330/500\n",
            "3852/3852 [==============================] - 1s 246us/step - loss: 0.0211 - mean_absolute_error: 0.0211 - val_loss: 0.1114 - val_mean_absolute_error: 0.1114\n",
            "Epoch 331/500\n",
            "3852/3852 [==============================] - 1s 244us/step - loss: 0.0164 - mean_absolute_error: 0.0164 - val_loss: 0.1107 - val_mean_absolute_error: 0.1107\n",
            "Epoch 332/500\n",
            "3852/3852 [==============================] - 1s 243us/step - loss: 0.0187 - mean_absolute_error: 0.0187 - val_loss: 0.1122 - val_mean_absolute_error: 0.1122\n",
            "Epoch 333/500\n",
            "3852/3852 [==============================] - 1s 248us/step - loss: 0.0174 - mean_absolute_error: 0.0174 - val_loss: 0.1115 - val_mean_absolute_error: 0.1115\n",
            "Epoch 334/500\n",
            "3852/3852 [==============================] - 1s 244us/step - loss: 0.0189 - mean_absolute_error: 0.0189 - val_loss: 0.1123 - val_mean_absolute_error: 0.1123\n",
            "Epoch 335/500\n",
            "3852/3852 [==============================] - 1s 244us/step - loss: 0.0173 - mean_absolute_error: 0.0173 - val_loss: 0.1108 - val_mean_absolute_error: 0.1108\n",
            "Epoch 336/500\n",
            "3852/3852 [==============================] - 1s 256us/step - loss: 0.0193 - mean_absolute_error: 0.0193 - val_loss: 0.1100 - val_mean_absolute_error: 0.1100\n",
            "Epoch 337/500\n",
            "3852/3852 [==============================] - 1s 244us/step - loss: 0.0189 - mean_absolute_error: 0.0189 - val_loss: 0.1097 - val_mean_absolute_error: 0.1097\n",
            "Epoch 338/500\n",
            "3852/3852 [==============================] - 1s 258us/step - loss: 0.0173 - mean_absolute_error: 0.0173 - val_loss: 0.1108 - val_mean_absolute_error: 0.1108\n",
            "Epoch 339/500\n",
            "3852/3852 [==============================] - 1s 252us/step - loss: 0.0171 - mean_absolute_error: 0.0171 - val_loss: 0.1104 - val_mean_absolute_error: 0.1104\n",
            "Epoch 340/500\n",
            "3852/3852 [==============================] - 1s 253us/step - loss: 0.0187 - mean_absolute_error: 0.0187 - val_loss: 0.1096 - val_mean_absolute_error: 0.1096\n",
            "Epoch 341/500\n",
            "3852/3852 [==============================] - 1s 246us/step - loss: 0.0184 - mean_absolute_error: 0.0184 - val_loss: 0.1125 - val_mean_absolute_error: 0.1125\n",
            "Epoch 342/500\n",
            "3852/3852 [==============================] - 1s 255us/step - loss: 0.0181 - mean_absolute_error: 0.0181 - val_loss: 0.1114 - val_mean_absolute_error: 0.1114\n",
            "Epoch 343/500\n",
            "3852/3852 [==============================] - 1s 255us/step - loss: 0.0182 - mean_absolute_error: 0.0182 - val_loss: 0.1105 - val_mean_absolute_error: 0.1105\n",
            "Epoch 344/500\n",
            "3852/3852 [==============================] - 1s 247us/step - loss: 0.0181 - mean_absolute_error: 0.0181 - val_loss: 0.1105 - val_mean_absolute_error: 0.1105\n",
            "Epoch 345/500\n",
            "3852/3852 [==============================] - 1s 260us/step - loss: 0.0181 - mean_absolute_error: 0.0181 - val_loss: 0.1094 - val_mean_absolute_error: 0.1094\n",
            "Epoch 346/500\n",
            "3852/3852 [==============================] - 1s 257us/step - loss: 0.0169 - mean_absolute_error: 0.0169 - val_loss: 0.1093 - val_mean_absolute_error: 0.1093\n",
            "Epoch 347/500\n",
            "3852/3852 [==============================] - 1s 240us/step - loss: 0.0179 - mean_absolute_error: 0.0179 - val_loss: 0.1098 - val_mean_absolute_error: 0.1098\n",
            "Epoch 348/500\n",
            "3852/3852 [==============================] - 1s 261us/step - loss: 0.0169 - mean_absolute_error: 0.0169 - val_loss: 0.1095 - val_mean_absolute_error: 0.1095\n",
            "Epoch 349/500\n",
            "3852/3852 [==============================] - 1s 255us/step - loss: 0.0192 - mean_absolute_error: 0.0192 - val_loss: 0.1102 - val_mean_absolute_error: 0.1102\n",
            "Epoch 350/500\n",
            "3852/3852 [==============================] - 1s 246us/step - loss: 0.0205 - mean_absolute_error: 0.0205 - val_loss: 0.1097 - val_mean_absolute_error: 0.1097\n",
            "Epoch 351/500\n",
            "3852/3852 [==============================] - 1s 256us/step - loss: 0.0163 - mean_absolute_error: 0.0163 - val_loss: 0.1114 - val_mean_absolute_error: 0.1114\n",
            "Epoch 352/500\n",
            "3852/3852 [==============================] - 1s 249us/step - loss: 0.0164 - mean_absolute_error: 0.0164 - val_loss: 0.1105 - val_mean_absolute_error: 0.1105\n",
            "Epoch 353/500\n",
            "3852/3852 [==============================] - 1s 241us/step - loss: 0.0174 - mean_absolute_error: 0.0174 - val_loss: 0.1100 - val_mean_absolute_error: 0.1100\n",
            "Epoch 354/500\n",
            "3852/3852 [==============================] - 1s 251us/step - loss: 0.0178 - mean_absolute_error: 0.0178 - val_loss: 0.1097 - val_mean_absolute_error: 0.1097\n",
            "Epoch 355/500\n",
            "3852/3852 [==============================] - 1s 249us/step - loss: 0.0204 - mean_absolute_error: 0.0204 - val_loss: 0.1107 - val_mean_absolute_error: 0.1107\n",
            "Epoch 356/500\n",
            "3852/3852 [==============================] - 1s 249us/step - loss: 0.0182 - mean_absolute_error: 0.0182 - val_loss: 0.1104 - val_mean_absolute_error: 0.1104\n",
            "Epoch 357/500\n",
            "3852/3852 [==============================] - 1s 246us/step - loss: 0.0172 - mean_absolute_error: 0.0172 - val_loss: 0.1108 - val_mean_absolute_error: 0.1108\n",
            "Epoch 358/500\n",
            "3852/3852 [==============================] - 1s 253us/step - loss: 0.0159 - mean_absolute_error: 0.0159 - val_loss: 0.1110 - val_mean_absolute_error: 0.1110\n",
            "Epoch 359/500\n",
            "3852/3852 [==============================] - 1s 247us/step - loss: 0.0183 - mean_absolute_error: 0.0183 - val_loss: 0.1130 - val_mean_absolute_error: 0.1130\n",
            "Epoch 360/500\n",
            "3852/3852 [==============================] - 1s 256us/step - loss: 0.0179 - mean_absolute_error: 0.0179 - val_loss: 0.1102 - val_mean_absolute_error: 0.1102\n",
            "Epoch 361/500\n",
            "3852/3852 [==============================] - 1s 249us/step - loss: 0.0168 - mean_absolute_error: 0.0168 - val_loss: 0.1097 - val_mean_absolute_error: 0.1097\n",
            "Epoch 362/500\n",
            "3852/3852 [==============================] - 1s 257us/step - loss: 0.0190 - mean_absolute_error: 0.0190 - val_loss: 0.1153 - val_mean_absolute_error: 0.1153\n",
            "Epoch 363/500\n",
            "3852/3852 [==============================] - 1s 249us/step - loss: 0.0188 - mean_absolute_error: 0.0188 - val_loss: 0.1102 - val_mean_absolute_error: 0.1102\n",
            "Epoch 364/500\n",
            "3852/3852 [==============================] - 1s 247us/step - loss: 0.0170 - mean_absolute_error: 0.0170 - val_loss: 0.1114 - val_mean_absolute_error: 0.1114\n",
            "Epoch 365/500\n",
            "3852/3852 [==============================] - 1s 259us/step - loss: 0.0192 - mean_absolute_error: 0.0192 - val_loss: 0.1108 - val_mean_absolute_error: 0.1108\n",
            "Epoch 366/500\n",
            "3852/3852 [==============================] - 1s 247us/step - loss: 0.0167 - mean_absolute_error: 0.0167 - val_loss: 0.1093 - val_mean_absolute_error: 0.1093\n",
            "Epoch 367/500\n",
            "3852/3852 [==============================] - 1s 244us/step - loss: 0.0190 - mean_absolute_error: 0.0190 - val_loss: 0.1107 - val_mean_absolute_error: 0.1107\n",
            "Epoch 368/500\n",
            "3852/3852 [==============================] - 1s 253us/step - loss: 0.0163 - mean_absolute_error: 0.0163 - val_loss: 0.1121 - val_mean_absolute_error: 0.1121\n",
            "Epoch 369/500\n",
            "3852/3852 [==============================] - 1s 255us/step - loss: 0.0160 - mean_absolute_error: 0.0160 - val_loss: 0.1102 - val_mean_absolute_error: 0.1102\n",
            "Epoch 370/500\n",
            "3852/3852 [==============================] - 1s 245us/step - loss: 0.0168 - mean_absolute_error: 0.0168 - val_loss: 0.1109 - val_mean_absolute_error: 0.1109\n",
            "Epoch 371/500\n",
            "3852/3852 [==============================] - 1s 260us/step - loss: 0.0173 - mean_absolute_error: 0.0173 - val_loss: 0.1099 - val_mean_absolute_error: 0.1099\n",
            "Epoch 372/500\n",
            "3852/3852 [==============================] - 1s 255us/step - loss: 0.0171 - mean_absolute_error: 0.0171 - val_loss: 0.1100 - val_mean_absolute_error: 0.1100\n",
            "Epoch 373/500\n",
            "3852/3852 [==============================] - 1s 249us/step - loss: 0.0184 - mean_absolute_error: 0.0184 - val_loss: 0.1111 - val_mean_absolute_error: 0.1111\n",
            "Epoch 374/500\n",
            "3852/3852 [==============================] - 1s 253us/step - loss: 0.0185 - mean_absolute_error: 0.0185 - val_loss: 0.1111 - val_mean_absolute_error: 0.1111\n",
            "Epoch 375/500\n",
            "3852/3852 [==============================] - 1s 247us/step - loss: 0.0178 - mean_absolute_error: 0.0178 - val_loss: 0.1098 - val_mean_absolute_error: 0.1098\n",
            "Epoch 376/500\n",
            "3852/3852 [==============================] - 1s 252us/step - loss: 0.0161 - mean_absolute_error: 0.0161 - val_loss: 0.1133 - val_mean_absolute_error: 0.1133\n",
            "Epoch 377/500\n",
            "3852/3852 [==============================] - 1s 247us/step - loss: 0.0164 - mean_absolute_error: 0.0164 - val_loss: 0.1105 - val_mean_absolute_error: 0.1105\n",
            "Epoch 378/500\n",
            "3852/3852 [==============================] - 1s 257us/step - loss: 0.0159 - mean_absolute_error: 0.0159 - val_loss: 0.1098 - val_mean_absolute_error: 0.1098\n",
            "Epoch 379/500\n",
            "3852/3852 [==============================] - 1s 255us/step - loss: 0.0183 - mean_absolute_error: 0.0183 - val_loss: 0.1109 - val_mean_absolute_error: 0.1109\n",
            "Epoch 380/500\n",
            "3852/3852 [==============================] - 1s 256us/step - loss: 0.0171 - mean_absolute_error: 0.0171 - val_loss: 0.1132 - val_mean_absolute_error: 0.1132\n",
            "Epoch 381/500\n",
            "3852/3852 [==============================] - 1s 247us/step - loss: 0.0183 - mean_absolute_error: 0.0183 - val_loss: 0.1108 - val_mean_absolute_error: 0.1108\n",
            "Epoch 382/500\n",
            "3852/3852 [==============================] - 1s 258us/step - loss: 0.0182 - mean_absolute_error: 0.0182 - val_loss: 0.1098 - val_mean_absolute_error: 0.1098\n",
            "Epoch 383/500\n",
            "3852/3852 [==============================] - 1s 252us/step - loss: 0.0164 - mean_absolute_error: 0.0164 - val_loss: 0.1112 - val_mean_absolute_error: 0.1112\n",
            "Epoch 384/500\n",
            "3852/3852 [==============================] - 1s 245us/step - loss: 0.0154 - mean_absolute_error: 0.0154 - val_loss: 0.1105 - val_mean_absolute_error: 0.1105\n",
            "Epoch 385/500\n",
            "3852/3852 [==============================] - 1s 253us/step - loss: 0.0165 - mean_absolute_error: 0.0165 - val_loss: 0.1123 - val_mean_absolute_error: 0.1123\n",
            "Epoch 386/500\n",
            "3852/3852 [==============================] - 1s 256us/step - loss: 0.0154 - mean_absolute_error: 0.0154 - val_loss: 0.1108 - val_mean_absolute_error: 0.1108\n",
            "Epoch 387/500\n",
            "3852/3852 [==============================] - 1s 256us/step - loss: 0.0168 - mean_absolute_error: 0.0168 - val_loss: 0.1102 - val_mean_absolute_error: 0.1102\n",
            "Epoch 388/500\n",
            "3852/3852 [==============================] - 1s 255us/step - loss: 0.0164 - mean_absolute_error: 0.0164 - val_loss: 0.1119 - val_mean_absolute_error: 0.1119\n",
            "Epoch 389/500\n",
            "3852/3852 [==============================] - 1s 250us/step - loss: 0.0165 - mean_absolute_error: 0.0165 - val_loss: 0.1105 - val_mean_absolute_error: 0.1105\n",
            "Epoch 390/500\n",
            "3852/3852 [==============================] - 1s 256us/step - loss: 0.0170 - mean_absolute_error: 0.0170 - val_loss: 0.1104 - val_mean_absolute_error: 0.1104\n",
            "Epoch 391/500\n",
            "3852/3852 [==============================] - 1s 255us/step - loss: 0.0177 - mean_absolute_error: 0.0177 - val_loss: 0.1109 - val_mean_absolute_error: 0.1109\n",
            "Epoch 392/500\n",
            "3852/3852 [==============================] - 1s 255us/step - loss: 0.0170 - mean_absolute_error: 0.0170 - val_loss: 0.1112 - val_mean_absolute_error: 0.1112\n",
            "Epoch 393/500\n",
            "3852/3852 [==============================] - 1s 259us/step - loss: 0.0171 - mean_absolute_error: 0.0171 - val_loss: 0.1116 - val_mean_absolute_error: 0.1116\n",
            "Epoch 394/500\n",
            "3852/3852 [==============================] - 1s 252us/step - loss: 0.0178 - mean_absolute_error: 0.0178 - val_loss: 0.1129 - val_mean_absolute_error: 0.1129\n",
            "Epoch 395/500\n",
            "3852/3852 [==============================] - 1s 259us/step - loss: 0.0168 - mean_absolute_error: 0.0168 - val_loss: 0.1110 - val_mean_absolute_error: 0.1110\n",
            "Epoch 396/500\n",
            "3852/3852 [==============================] - 1s 247us/step - loss: 0.0164 - mean_absolute_error: 0.0164 - val_loss: 0.1124 - val_mean_absolute_error: 0.1124\n",
            "Epoch 397/500\n",
            "3852/3852 [==============================] - 1s 249us/step - loss: 0.0151 - mean_absolute_error: 0.0151 - val_loss: 0.1103 - val_mean_absolute_error: 0.1103\n",
            "Epoch 398/500\n",
            "3852/3852 [==============================] - 1s 250us/step - loss: 0.0193 - mean_absolute_error: 0.0193 - val_loss: 0.1112 - val_mean_absolute_error: 0.1112\n",
            "Epoch 399/500\n",
            "3852/3852 [==============================] - 1s 260us/step - loss: 0.0184 - mean_absolute_error: 0.0184 - val_loss: 0.1094 - val_mean_absolute_error: 0.1094\n",
            "Epoch 400/500\n",
            "3852/3852 [==============================] - 1s 262us/step - loss: 0.0163 - mean_absolute_error: 0.0163 - val_loss: 0.1102 - val_mean_absolute_error: 0.1102\n",
            "Epoch 401/500\n",
            "3852/3852 [==============================] - 1s 252us/step - loss: 0.0167 - mean_absolute_error: 0.0167 - val_loss: 0.1095 - val_mean_absolute_error: 0.1095\n",
            "Epoch 402/500\n",
            "3852/3852 [==============================] - 1s 254us/step - loss: 0.0149 - mean_absolute_error: 0.0149 - val_loss: 0.1100 - val_mean_absolute_error: 0.1100\n",
            "Epoch 403/500\n",
            "3852/3852 [==============================] - 1s 254us/step - loss: 0.0151 - mean_absolute_error: 0.0151 - val_loss: 0.1097 - val_mean_absolute_error: 0.1097\n",
            "Epoch 404/500\n",
            "3852/3852 [==============================] - 1s 249us/step - loss: 0.0156 - mean_absolute_error: 0.0156 - val_loss: 0.1116 - val_mean_absolute_error: 0.1116\n",
            "Epoch 405/500\n",
            "3852/3852 [==============================] - 1s 256us/step - loss: 0.0182 - mean_absolute_error: 0.0182 - val_loss: 0.1108 - val_mean_absolute_error: 0.1108\n",
            "Epoch 406/500\n",
            "3852/3852 [==============================] - 1s 252us/step - loss: 0.0179 - mean_absolute_error: 0.0179 - val_loss: 0.1099 - val_mean_absolute_error: 0.1099\n",
            "Epoch 407/500\n",
            "3852/3852 [==============================] - 1s 253us/step - loss: 0.0170 - mean_absolute_error: 0.0170 - val_loss: 0.1101 - val_mean_absolute_error: 0.1101\n",
            "Epoch 408/500\n",
            "3852/3852 [==============================] - 1s 258us/step - loss: 0.0178 - mean_absolute_error: 0.0178 - val_loss: 0.1105 - val_mean_absolute_error: 0.1105\n",
            "Epoch 409/500\n",
            "3852/3852 [==============================] - 1s 247us/step - loss: 0.0171 - mean_absolute_error: 0.0171 - val_loss: 0.1110 - val_mean_absolute_error: 0.1110\n",
            "Epoch 410/500\n",
            "3852/3852 [==============================] - 1s 259us/step - loss: 0.0175 - mean_absolute_error: 0.0175 - val_loss: 0.1114 - val_mean_absolute_error: 0.1114\n",
            "Epoch 411/500\n",
            "3852/3852 [==============================] - 1s 247us/step - loss: 0.0186 - mean_absolute_error: 0.0186 - val_loss: 0.1113 - val_mean_absolute_error: 0.1113\n",
            "Epoch 412/500\n",
            "3852/3852 [==============================] - 1s 251us/step - loss: 0.0156 - mean_absolute_error: 0.0156 - val_loss: 0.1106 - val_mean_absolute_error: 0.1106\n",
            "Epoch 413/500\n",
            "3852/3852 [==============================] - 1s 253us/step - loss: 0.0172 - mean_absolute_error: 0.0172 - val_loss: 0.1119 - val_mean_absolute_error: 0.1119\n",
            "Epoch 414/500\n",
            "3852/3852 [==============================] - 1s 248us/step - loss: 0.0153 - mean_absolute_error: 0.0153 - val_loss: 0.1117 - val_mean_absolute_error: 0.1117\n",
            "Epoch 415/500\n",
            "3852/3852 [==============================] - 1s 257us/step - loss: 0.0168 - mean_absolute_error: 0.0168 - val_loss: 0.1100 - val_mean_absolute_error: 0.1100\n",
            "Epoch 416/500\n",
            "3852/3852 [==============================] - 1s 254us/step - loss: 0.0172 - mean_absolute_error: 0.0172 - val_loss: 0.1115 - val_mean_absolute_error: 0.1115\n",
            "Epoch 417/500\n",
            "3852/3852 [==============================] - 1s 249us/step - loss: 0.0161 - mean_absolute_error: 0.0161 - val_loss: 0.1106 - val_mean_absolute_error: 0.1106\n",
            "Epoch 418/500\n",
            "3852/3852 [==============================] - 1s 248us/step - loss: 0.0164 - mean_absolute_error: 0.0164 - val_loss: 0.1107 - val_mean_absolute_error: 0.1107\n",
            "Epoch 419/500\n",
            "3852/3852 [==============================] - 1s 249us/step - loss: 0.0174 - mean_absolute_error: 0.0174 - val_loss: 0.1109 - val_mean_absolute_error: 0.1109\n",
            "Epoch 420/500\n",
            "3852/3852 [==============================] - 1s 253us/step - loss: 0.0155 - mean_absolute_error: 0.0155 - val_loss: 0.1112 - val_mean_absolute_error: 0.1112\n",
            "Epoch 421/500\n",
            "3852/3852 [==============================] - 1s 250us/step - loss: 0.0145 - mean_absolute_error: 0.0145 - val_loss: 0.1120 - val_mean_absolute_error: 0.1120\n",
            "Epoch 422/500\n",
            "3852/3852 [==============================] - 1s 259us/step - loss: 0.0147 - mean_absolute_error: 0.0147 - val_loss: 0.1095 - val_mean_absolute_error: 0.1095\n",
            "Epoch 423/500\n",
            "3852/3852 [==============================] - 1s 249us/step - loss: 0.0150 - mean_absolute_error: 0.0150 - val_loss: 0.1117 - val_mean_absolute_error: 0.1117\n",
            "Epoch 424/500\n",
            "3852/3852 [==============================] - 1s 251us/step - loss: 0.0168 - mean_absolute_error: 0.0168 - val_loss: 0.1110 - val_mean_absolute_error: 0.1110\n",
            "Epoch 425/500\n",
            "3852/3852 [==============================] - 1s 244us/step - loss: 0.0153 - mean_absolute_error: 0.0153 - val_loss: 0.1099 - val_mean_absolute_error: 0.1099\n",
            "Epoch 426/500\n",
            "3852/3852 [==============================] - 1s 254us/step - loss: 0.0160 - mean_absolute_error: 0.0160 - val_loss: 0.1105 - val_mean_absolute_error: 0.1105\n",
            "Epoch 427/500\n",
            "3852/3852 [==============================] - 1s 242us/step - loss: 0.0155 - mean_absolute_error: 0.0155 - val_loss: 0.1103 - val_mean_absolute_error: 0.1103\n",
            "Epoch 428/500\n",
            "3852/3852 [==============================] - 1s 259us/step - loss: 0.0144 - mean_absolute_error: 0.0144 - val_loss: 0.1106 - val_mean_absolute_error: 0.1106\n",
            "Epoch 429/500\n",
            "3852/3852 [==============================] - 1s 259us/step - loss: 0.0155 - mean_absolute_error: 0.0155 - val_loss: 0.1100 - val_mean_absolute_error: 0.1100\n",
            "Epoch 430/500\n",
            "3852/3852 [==============================] - 1s 258us/step - loss: 0.0167 - mean_absolute_error: 0.0167 - val_loss: 0.1105 - val_mean_absolute_error: 0.1105\n",
            "Epoch 431/500\n",
            "3852/3852 [==============================] - 1s 244us/step - loss: 0.0185 - mean_absolute_error: 0.0185 - val_loss: 0.1109 - val_mean_absolute_error: 0.1109\n",
            "Epoch 432/500\n",
            "3852/3852 [==============================] - 1s 247us/step - loss: 0.0175 - mean_absolute_error: 0.0175 - val_loss: 0.1101 - val_mean_absolute_error: 0.1101\n",
            "Epoch 433/500\n",
            "3852/3852 [==============================] - 1s 260us/step - loss: 0.0158 - mean_absolute_error: 0.0158 - val_loss: 0.1107 - val_mean_absolute_error: 0.1107\n",
            "Epoch 434/500\n",
            "3852/3852 [==============================] - 1s 251us/step - loss: 0.0166 - mean_absolute_error: 0.0166 - val_loss: 0.1098 - val_mean_absolute_error: 0.1098\n",
            "Epoch 435/500\n",
            "3852/3852 [==============================] - 1s 255us/step - loss: 0.0188 - mean_absolute_error: 0.0188 - val_loss: 0.1119 - val_mean_absolute_error: 0.1119\n",
            "Epoch 436/500\n",
            "3852/3852 [==============================] - 1s 261us/step - loss: 0.0181 - mean_absolute_error: 0.0181 - val_loss: 0.1109 - val_mean_absolute_error: 0.1109\n",
            "Epoch 437/500\n",
            "3852/3852 [==============================] - 1s 259us/step - loss: 0.0182 - mean_absolute_error: 0.0182 - val_loss: 0.1103 - val_mean_absolute_error: 0.1103\n",
            "Epoch 438/500\n",
            "3852/3852 [==============================] - 1s 257us/step - loss: 0.0162 - mean_absolute_error: 0.0162 - val_loss: 0.1110 - val_mean_absolute_error: 0.1110\n",
            "Epoch 439/500\n",
            "3852/3852 [==============================] - 1s 263us/step - loss: 0.0173 - mean_absolute_error: 0.0173 - val_loss: 0.1108 - val_mean_absolute_error: 0.1108\n",
            "Epoch 440/500\n",
            "3852/3852 [==============================] - 1s 262us/step - loss: 0.0176 - mean_absolute_error: 0.0176 - val_loss: 0.1113 - val_mean_absolute_error: 0.1113\n",
            "Epoch 441/500\n",
            "3852/3852 [==============================] - 1s 247us/step - loss: 0.0158 - mean_absolute_error: 0.0158 - val_loss: 0.1105 - val_mean_absolute_error: 0.1105\n",
            "Epoch 442/500\n",
            "3852/3852 [==============================] - 1s 256us/step - loss: 0.0177 - mean_absolute_error: 0.0177 - val_loss: 0.1124 - val_mean_absolute_error: 0.1124\n",
            "Epoch 443/500\n",
            "3852/3852 [==============================] - 1s 259us/step - loss: 0.0156 - mean_absolute_error: 0.0156 - val_loss: 0.1113 - val_mean_absolute_error: 0.1113\n",
            "Epoch 444/500\n",
            "3852/3852 [==============================] - 1s 253us/step - loss: 0.0173 - mean_absolute_error: 0.0173 - val_loss: 0.1108 - val_mean_absolute_error: 0.1108\n",
            "Epoch 445/500\n",
            "3852/3852 [==============================] - 1s 255us/step - loss: 0.0154 - mean_absolute_error: 0.0154 - val_loss: 0.1120 - val_mean_absolute_error: 0.1120\n",
            "Epoch 446/500\n",
            "3852/3852 [==============================] - 1s 247us/step - loss: 0.0178 - mean_absolute_error: 0.0178 - val_loss: 0.1121 - val_mean_absolute_error: 0.1121\n",
            "Epoch 447/500\n",
            "3852/3852 [==============================] - 1s 245us/step - loss: 0.0179 - mean_absolute_error: 0.0179 - val_loss: 0.1096 - val_mean_absolute_error: 0.1096\n",
            "Epoch 448/500\n",
            "3852/3852 [==============================] - 1s 253us/step - loss: 0.0166 - mean_absolute_error: 0.0166 - val_loss: 0.1105 - val_mean_absolute_error: 0.1105\n",
            "Epoch 449/500\n",
            "3852/3852 [==============================] - 1s 250us/step - loss: 0.0145 - mean_absolute_error: 0.0145 - val_loss: 0.1105 - val_mean_absolute_error: 0.1105\n",
            "Epoch 450/500\n",
            "3852/3852 [==============================] - 1s 253us/step - loss: 0.0154 - mean_absolute_error: 0.0154 - val_loss: 0.1105 - val_mean_absolute_error: 0.1105\n",
            "Epoch 451/500\n",
            "3852/3852 [==============================] - 1s 250us/step - loss: 0.0150 - mean_absolute_error: 0.0150 - val_loss: 0.1098 - val_mean_absolute_error: 0.1098\n",
            "Epoch 452/500\n",
            "3852/3852 [==============================] - 1s 257us/step - loss: 0.0145 - mean_absolute_error: 0.0145 - val_loss: 0.1117 - val_mean_absolute_error: 0.1117\n",
            "Epoch 453/500\n",
            "3852/3852 [==============================] - 1s 263us/step - loss: 0.0198 - mean_absolute_error: 0.0198 - val_loss: 0.1120 - val_mean_absolute_error: 0.1120\n",
            "Epoch 454/500\n",
            "3852/3852 [==============================] - 1s 249us/step - loss: 0.0158 - mean_absolute_error: 0.0158 - val_loss: 0.1102 - val_mean_absolute_error: 0.1102\n",
            "Epoch 455/500\n",
            "3852/3852 [==============================] - 1s 249us/step - loss: 0.0151 - mean_absolute_error: 0.0151 - val_loss: 0.1109 - val_mean_absolute_error: 0.1109\n",
            "Epoch 456/500\n",
            "3852/3852 [==============================] - 1s 238us/step - loss: 0.0168 - mean_absolute_error: 0.0168 - val_loss: 0.1130 - val_mean_absolute_error: 0.1130\n",
            "Epoch 457/500\n",
            "3852/3852 [==============================] - 1s 247us/step - loss: 0.0178 - mean_absolute_error: 0.0178 - val_loss: 0.1109 - val_mean_absolute_error: 0.1109\n",
            "Epoch 458/500\n",
            "3852/3852 [==============================] - 1s 243us/step - loss: 0.0154 - mean_absolute_error: 0.0154 - val_loss: 0.1128 - val_mean_absolute_error: 0.1128\n",
            "Epoch 459/500\n",
            "3852/3852 [==============================] - 1s 254us/step - loss: 0.0168 - mean_absolute_error: 0.0168 - val_loss: 0.1097 - val_mean_absolute_error: 0.1097\n",
            "Epoch 460/500\n",
            "3852/3852 [==============================] - 1s 250us/step - loss: 0.0156 - mean_absolute_error: 0.0156 - val_loss: 0.1111 - val_mean_absolute_error: 0.1111\n",
            "Epoch 461/500\n",
            "3852/3852 [==============================] - 1s 263us/step - loss: 0.0154 - mean_absolute_error: 0.0154 - val_loss: 0.1121 - val_mean_absolute_error: 0.1121\n",
            "Epoch 462/500\n",
            "3852/3852 [==============================] - 1s 271us/step - loss: 0.0155 - mean_absolute_error: 0.0155 - val_loss: 0.1106 - val_mean_absolute_error: 0.1106\n",
            "Epoch 463/500\n",
            "3852/3852 [==============================] - 1s 265us/step - loss: 0.0146 - mean_absolute_error: 0.0146 - val_loss: 0.1108 - val_mean_absolute_error: 0.1108\n",
            "Epoch 464/500\n",
            "3852/3852 [==============================] - 1s 262us/step - loss: 0.0148 - mean_absolute_error: 0.0148 - val_loss: 0.1117 - val_mean_absolute_error: 0.1117\n",
            "Epoch 465/500\n",
            "3852/3852 [==============================] - 1s 265us/step - loss: 0.0181 - mean_absolute_error: 0.0181 - val_loss: 0.1124 - val_mean_absolute_error: 0.1124\n",
            "Epoch 466/500\n",
            "3852/3852 [==============================] - 1s 258us/step - loss: 0.0157 - mean_absolute_error: 0.0157 - val_loss: 0.1112 - val_mean_absolute_error: 0.1112\n",
            "Epoch 467/500\n",
            "3852/3852 [==============================] - 1s 265us/step - loss: 0.0142 - mean_absolute_error: 0.0142 - val_loss: 0.1109 - val_mean_absolute_error: 0.1109\n",
            "Epoch 468/500\n",
            "3852/3852 [==============================] - 1s 262us/step - loss: 0.0137 - mean_absolute_error: 0.0137 - val_loss: 0.1126 - val_mean_absolute_error: 0.1126\n",
            "Epoch 469/500\n",
            "3852/3852 [==============================] - 1s 272us/step - loss: 0.0157 - mean_absolute_error: 0.0157 - val_loss: 0.1113 - val_mean_absolute_error: 0.1113\n",
            "Epoch 470/500\n",
            "3852/3852 [==============================] - 1s 264us/step - loss: 0.0167 - mean_absolute_error: 0.0167 - val_loss: 0.1115 - val_mean_absolute_error: 0.1115\n",
            "Epoch 471/500\n",
            "3852/3852 [==============================] - 1s 247us/step - loss: 0.0164 - mean_absolute_error: 0.0164 - val_loss: 0.1111 - val_mean_absolute_error: 0.1111\n",
            "Epoch 472/500\n",
            "3852/3852 [==============================] - 1s 245us/step - loss: 0.0159 - mean_absolute_error: 0.0159 - val_loss: 0.1098 - val_mean_absolute_error: 0.1098\n",
            "Epoch 473/500\n",
            "3852/3852 [==============================] - 1s 258us/step - loss: 0.0142 - mean_absolute_error: 0.0142 - val_loss: 0.1098 - val_mean_absolute_error: 0.1098\n",
            "Epoch 474/500\n",
            "3852/3852 [==============================] - 1s 249us/step - loss: 0.0160 - mean_absolute_error: 0.0160 - val_loss: 0.1115 - val_mean_absolute_error: 0.1115\n",
            "Epoch 475/500\n",
            "3852/3852 [==============================] - 1s 245us/step - loss: 0.0195 - mean_absolute_error: 0.0195 - val_loss: 0.1111 - val_mean_absolute_error: 0.1111\n",
            "Epoch 476/500\n",
            "3852/3852 [==============================] - 1s 244us/step - loss: 0.0164 - mean_absolute_error: 0.0164 - val_loss: 0.1105 - val_mean_absolute_error: 0.1105\n",
            "Epoch 477/500\n",
            "3852/3852 [==============================] - 1s 244us/step - loss: 0.0175 - mean_absolute_error: 0.0175 - val_loss: 0.1098 - val_mean_absolute_error: 0.1098\n",
            "Epoch 478/500\n",
            "3852/3852 [==============================] - 1s 255us/step - loss: 0.0161 - mean_absolute_error: 0.0161 - val_loss: 0.1099 - val_mean_absolute_error: 0.1099\n",
            "Epoch 479/500\n",
            "3852/3852 [==============================] - 1s 257us/step - loss: 0.0158 - mean_absolute_error: 0.0158 - val_loss: 0.1118 - val_mean_absolute_error: 0.1118\n",
            "Epoch 480/500\n",
            "3852/3852 [==============================] - 1s 247us/step - loss: 0.0159 - mean_absolute_error: 0.0159 - val_loss: 0.1109 - val_mean_absolute_error: 0.1109\n",
            "Epoch 481/500\n",
            "3852/3852 [==============================] - 1s 259us/step - loss: 0.0151 - mean_absolute_error: 0.0151 - val_loss: 0.1099 - val_mean_absolute_error: 0.1099\n",
            "Epoch 482/500\n",
            "3852/3852 [==============================] - 1s 256us/step - loss: 0.0150 - mean_absolute_error: 0.0150 - val_loss: 0.1100 - val_mean_absolute_error: 0.1100\n",
            "Epoch 483/500\n",
            "3852/3852 [==============================] - 1s 248us/step - loss: 0.0145 - mean_absolute_error: 0.0145 - val_loss: 0.1106 - val_mean_absolute_error: 0.1106\n",
            "Epoch 484/500\n",
            "3852/3852 [==============================] - 1s 252us/step - loss: 0.0152 - mean_absolute_error: 0.0152 - val_loss: 0.1110 - val_mean_absolute_error: 0.1110\n",
            "Epoch 485/500\n",
            "3852/3852 [==============================] - 1s 255us/step - loss: 0.0162 - mean_absolute_error: 0.0162 - val_loss: 0.1115 - val_mean_absolute_error: 0.1115\n",
            "Epoch 486/500\n",
            "3852/3852 [==============================] - 1s 248us/step - loss: 0.0154 - mean_absolute_error: 0.0154 - val_loss: 0.1104 - val_mean_absolute_error: 0.1104\n",
            "Epoch 487/500\n",
            "3852/3852 [==============================] - 1s 257us/step - loss: 0.0156 - mean_absolute_error: 0.0156 - val_loss: 0.1111 - val_mean_absolute_error: 0.1111\n",
            "Epoch 488/500\n",
            "3852/3852 [==============================] - 1s 249us/step - loss: 0.0175 - mean_absolute_error: 0.0175 - val_loss: 0.1098 - val_mean_absolute_error: 0.1098\n",
            "Epoch 489/500\n",
            "3852/3852 [==============================] - 1s 247us/step - loss: 0.0156 - mean_absolute_error: 0.0156 - val_loss: 0.1117 - val_mean_absolute_error: 0.1117\n",
            "Epoch 490/500\n",
            "3852/3852 [==============================] - 1s 249us/step - loss: 0.0169 - mean_absolute_error: 0.0169 - val_loss: 0.1104 - val_mean_absolute_error: 0.1104\n",
            "Epoch 491/500\n",
            "3852/3852 [==============================] - 1s 244us/step - loss: 0.0164 - mean_absolute_error: 0.0164 - val_loss: 0.1118 - val_mean_absolute_error: 0.1118\n",
            "Epoch 492/500\n",
            "3852/3852 [==============================] - 1s 258us/step - loss: 0.0171 - mean_absolute_error: 0.0171 - val_loss: 0.1110 - val_mean_absolute_error: 0.1110\n",
            "Epoch 493/500\n",
            "3852/3852 [==============================] - 1s 247us/step - loss: 0.0162 - mean_absolute_error: 0.0162 - val_loss: 0.1111 - val_mean_absolute_error: 0.1111\n",
            "Epoch 494/500\n",
            "3852/3852 [==============================] - 1s 253us/step - loss: 0.0148 - mean_absolute_error: 0.0148 - val_loss: 0.1106 - val_mean_absolute_error: 0.1106\n",
            "Epoch 495/500\n",
            "3852/3852 [==============================] - 1s 254us/step - loss: 0.0171 - mean_absolute_error: 0.0171 - val_loss: 0.1112 - val_mean_absolute_error: 0.1112\n",
            "Epoch 496/500\n",
            "3852/3852 [==============================] - 1s 256us/step - loss: 0.0170 - mean_absolute_error: 0.0170 - val_loss: 0.1106 - val_mean_absolute_error: 0.1106\n",
            "Epoch 497/500\n",
            "3852/3852 [==============================] - 1s 252us/step - loss: 0.0149 - mean_absolute_error: 0.0149 - val_loss: 0.1132 - val_mean_absolute_error: 0.1132\n",
            "Epoch 498/500\n",
            "3852/3852 [==============================] - 1s 253us/step - loss: 0.0146 - mean_absolute_error: 0.0146 - val_loss: 0.1102 - val_mean_absolute_error: 0.1102\n",
            "Epoch 499/500\n",
            "3852/3852 [==============================] - 1s 246us/step - loss: 0.0138 - mean_absolute_error: 0.0138 - val_loss: 0.1116 - val_mean_absolute_error: 0.1116\n",
            "Epoch 500/500\n",
            "3852/3852 [==============================] - 1s 255us/step - loss: 0.0167 - mean_absolute_error: 0.0167 - val_loss: 0.1118 - val_mean_absolute_error: 0.1118\n"
          ],
          "name": "stdout"
        },
        {
          "output_type": "execute_result",
          "data": {
            "text/plain": [
              "<keras.callbacks.callbacks.History at 0x7fa98e1e7940>"
            ]
          },
          "metadata": {
            "tags": []
          },
          "execution_count": 287
        }
      ]
    },
    {
      "cell_type": "code",
      "metadata": {
        "id": "BvnHbbG1JsYZ",
        "outputId": "43e7007b-1650-4c05-d740-94a39e5ccb50",
        "colab": {
          "base_uri": "https://localhost:8080/",
          "height": 85
        }
      },
      "source": [
        "predictions=model.predict(X_test)\n",
        "print(\"MAE: \" + str(mean_absolute_error(y_test, predictions)))\n",
        "print(\"MSE: \" + str(mean_squared_error(y_test, predictions)))\n",
        "print(\"MSLE: \" + str(mean_squared_log_error(y_test, predictions)))\n",
        "print(\"R^2 Score: \", r2_score(y_test,predictions))\n",
        "r2_nn = r2_score(y_test, predictions)"
      ],
      "execution_count": null,
      "outputs": [
        {
          "output_type": "stream",
          "text": [
            "MAE: 0.09199723889640489\n",
            "MSE: 0.01624060908865778\n",
            "MSLE: 0.0020527574066150057\n",
            "R^2 Score:  0.9670222437813526\n"
          ],
          "name": "stdout"
        }
      ]
    },
    {
      "cell_type": "code",
      "metadata": {
        "id": "Jyw-ItvJbJsw"
      },
      "source": [
        "results_r2.append(r2_nn)"
      ],
      "execution_count": null,
      "outputs": []
    },
    {
      "cell_type": "code",
      "metadata": {
        "id": "YAwdDrcFbW2V",
        "outputId": "3c80fa92-d086-4140-d1e8-2571d6dfbce0",
        "colab": {
          "base_uri": "https://localhost:8080/",
          "height": 102
        }
      },
      "source": [
        "results_r2"
      ],
      "execution_count": null,
      "outputs": [
        {
          "output_type": "execute_result",
          "data": {
            "text/plain": [
              "[0.8737905138736978,\n",
              " 0.9561976611986159,\n",
              " 0.9330882036804318,\n",
              " 0.9670222437813526,\n",
              " 0.8324117820020104]"
            ]
          },
          "metadata": {
            "tags": []
          },
          "execution_count": 296
        }
      ]
    },
    {
      "cell_type": "markdown",
      "metadata": {
        "id": "9cL-Zv8NicSY"
      },
      "source": [
        "## Application of Model on Test Dataset for Prediciton"
      ]
    },
    {
      "cell_type": "markdown",
      "metadata": {
        "id": "iTu8y9m_ij1Z"
      },
      "source": [
        "We compare the scores of different models to select the best one to apply on our test data. "
      ]
    },
    {
      "cell_type": "code",
      "metadata": {
        "id": "ER1KtWnRh0q1",
        "outputId": "3f2e36b5-eb3c-4137-c522-cf9a60424545",
        "colab": {
          "base_uri": "https://localhost:8080/",
          "height": 300
        }
      },
      "source": [
        "# BAR PLOT TO COMPARE MODEL SCORES \n",
        "\n",
        "# results_r2 stores r2 values of different models.  \n",
        "names=['DecisionTree','RandomForest', 'XGBoost', 'Neural Networks', 'LinearRegression']\n",
        "\n",
        "import matplotlib.pyplot as plt\n",
        "\n",
        "fig,ax = plt.subplots(nrows=2,ncols=1)\n",
        "ax1=plt.subplot(1,1,1)\n",
        "ax1.bar(names, results_r2,width=0.2)\n",
        "\n",
        "fig.tight_layout(pad=3.0)\n",
        "fig.suptitle('Comparison of R2 of different models')\n",
        "ax1.set_title('R2')"
      ],
      "execution_count": null,
      "outputs": [
        {
          "output_type": "execute_result",
          "data": {
            "text/plain": [
              "Text(0.5, 1.0, 'R2')"
            ]
          },
          "metadata": {
            "tags": []
          },
          "execution_count": 297
        },
        {
          "output_type": "display_data",
          "data": {
            "image/png": "[encoded data removed]",
            "text/plain": [
              "<Figure size 432x288 with 1 Axes>"
            ]
          },
          "metadata": {
            "tags": [],
            "needs_background": "light"
          }
        }
      ]
    },
    {
      "cell_type": "markdown",
      "metadata": {
        "id": "GncCzUaZ9_BP"
      },
      "source": [
        "We hence choose the Random Forest and Neural Network models that we trained for the purpose of prediction. "
      ]
    },
    {
      "cell_type": "code",
      "metadata": {
        "id": "1WiMRwHUiqlt"
      },
      "source": [
        "test_data = pd.read_csv(\"v3_test_data.csv\")"
      ],
      "execution_count": null,
      "outputs": []
    },
    {
      "cell_type": "code",
      "metadata": {
        "id": "7-t0ElcgjDey",
        "outputId": "30351e0a-df3d-4c2e-d19b-9885d6183fde",
        "colab": {
          "base_uri": "https://localhost:8080/",
          "height": 338
        }
      },
      "source": [
        "test_data.head()"
      ],
      "execution_count": null,
      "outputs": [
        {
          "output_type": "execute_result",
          "data": {
            "text/html": [
              "<div>\n",
              "<style scoped>\n",
              "    .dataframe tbody tr th:only-of-type {\n",
              "        vertical-align: middle;\n",
              "    }\n",
              "\n",
              "    .dataframe tbody tr th {\n",
              "        vertical-align: top;\n",
              "    }\n",
              "\n",
              "    .dataframe thead th {\n",
              "        text-align: right;\n",
              "    }\n",
              "</style>\n",
              "<table border=\"1\" class=\"dataframe\">\n",
              "  <thead>\n",
              "    <tr style=\"text-align: right;\">\n",
              "      <th></th>\n",
              "      <th>Year</th>\n",
              "      <th>Kilometers_Driven</th>\n",
              "      <th>Mileage</th>\n",
              "      <th>Engine</th>\n",
              "      <th>Power</th>\n",
              "      <th>Location_Ahmedabad</th>\n",
              "      <th>Location_Bangalore</th>\n",
              "      <th>Location_Chennai</th>\n",
              "      <th>Location_Coimbatore</th>\n",
              "      <th>Location_Delhi</th>\n",
              "      <th>Location_Hyderabad</th>\n",
              "      <th>Location_Jaipur</th>\n",
              "      <th>Location_Kochi</th>\n",
              "      <th>Location_Kolkata</th>\n",
              "      <th>Location_Mumbai</th>\n",
              "      <th>Location_Pune</th>\n",
              "      <th>Fuel_Type_CNG</th>\n",
              "      <th>Fuel_Type_Diesel</th>\n",
              "      <th>Fuel_Type_Electric</th>\n",
              "      <th>Fuel_Type_LPG</th>\n",
              "      <th>Fuel_Type_Petrol</th>\n",
              "      <th>Transmission_Automatic</th>\n",
              "      <th>Transmission_Manual</th>\n",
              "      <th>Owner_Type_First</th>\n",
              "      <th>Owner_Type_Fourth &amp; Above</th>\n",
              "      <th>Owner_Type_Second</th>\n",
              "      <th>Owner_Type_Third</th>\n",
              "      <th>Brand_Ambassador</th>\n",
              "      <th>Brand_Audi</th>\n",
              "      <th>Brand_BMW</th>\n",
              "      <th>Brand_Bentley</th>\n",
              "      <th>Brand_Chevrolet</th>\n",
              "      <th>Brand_Datsun</th>\n",
              "      <th>Brand_Fiat</th>\n",
              "      <th>Brand_Force</th>\n",
              "      <th>Brand_Ford</th>\n",
              "      <th>Brand_Honda</th>\n",
              "      <th>Brand_Hyundai</th>\n",
              "      <th>Brand_ISUZU</th>\n",
              "      <th>Brand_Isuzu</th>\n",
              "      <th>...</th>\n",
              "      <th>Model_i20 Active S Diesel</th>\n",
              "      <th>Model_i20 Active SX Diesel</th>\n",
              "      <th>Model_i20 Active SX Dual Tone Petrol</th>\n",
              "      <th>Model_i20 Active SX Petrol</th>\n",
              "      <th>Model_i20 Asta</th>\n",
              "      <th>Model_i20 Asta (o)</th>\n",
              "      <th>Model_i20 Asta (o) 1.4 CRDi (Diesel)</th>\n",
              "      <th>Model_i20 Asta 1.2</th>\n",
              "      <th>Model_i20 Asta 1.4 CRDi</th>\n",
              "      <th>Model_i20 Asta 1.4 CRDi (Diesel)</th>\n",
              "      <th>Model_i20 Asta Option 1.2</th>\n",
              "      <th>Model_i20 Asta Option 1.4 CRDi</th>\n",
              "      <th>Model_i20 Asta Optional with Sunroof 1.2</th>\n",
              "      <th>Model_i20 Diesel Asta Option</th>\n",
              "      <th>Model_i20 Era 1.4 CRDi</th>\n",
              "      <th>Model_i20 Magna</th>\n",
              "      <th>Model_i20 Magna 1.2</th>\n",
              "      <th>Model_i20 Magna 1.4 CRDi</th>\n",
              "      <th>Model_i20 Magna 1.4 CRDi (Diesel)</th>\n",
              "      <th>Model_i20 Magna Optional 1.2</th>\n",
              "      <th>Model_i20 Magna Optional 1.4 CRDi</th>\n",
              "      <th>Model_i20 Sportz 1.2</th>\n",
              "      <th>Model_i20 Sportz 1.4 CRDi</th>\n",
              "      <th>Model_i20 Sportz AT 1.4</th>\n",
              "      <th>Model_i20 Sportz Diesel</th>\n",
              "      <th>Model_i20 Sportz Option</th>\n",
              "      <th>Model_i20 Sportz Option 1.2</th>\n",
              "      <th>Model_i20 Sportz Option Diesel</th>\n",
              "      <th>Model_i20 Sportz Petrol</th>\n",
              "      <th>Model_redi-GO S</th>\n",
              "      <th>Model_redi-GO T</th>\n",
              "      <th>Model_redi-GO T Option</th>\n",
              "      <th>Seats_2.0</th>\n",
              "      <th>Seats_4.0</th>\n",
              "      <th>Seats_5.0</th>\n",
              "      <th>Seats_6.0</th>\n",
              "      <th>Seats_7.0</th>\n",
              "      <th>Seats_8.0</th>\n",
              "      <th>Seats_9.0</th>\n",
              "      <th>Seats_10.0</th>\n",
              "    </tr>\n",
              "  </thead>\n",
              "  <tbody>\n",
              "    <tr>\n",
              "      <th>0</th>\n",
              "      <td>16</td>\n",
              "      <td>40929</td>\n",
              "      <td>32.26</td>\n",
              "      <td>998.0</td>\n",
              "      <td>58.20</td>\n",
              "      <td>0</td>\n",
              "      <td>0</td>\n",
              "      <td>0</td>\n",
              "      <td>0</td>\n",
              "      <td>1</td>\n",
              "      <td>0</td>\n",
              "      <td>0</td>\n",
              "      <td>0</td>\n",
              "      <td>0</td>\n",
              "      <td>0</td>\n",
              "      <td>0</td>\n",
              "      <td>1</td>\n",
              "      <td>0</td>\n",
              "      <td>0</td>\n",
              "      <td>0</td>\n",
              "      <td>0</td>\n",
              "      <td>0</td>\n",
              "      <td>1</td>\n",
              "      <td>1</td>\n",
              "      <td>0</td>\n",
              "      <td>0</td>\n",
              "      <td>0</td>\n",
              "      <td>0</td>\n",
              "      <td>0</td>\n",
              "      <td>0</td>\n",
              "      <td>0</td>\n",
              "      <td>0</td>\n",
              "      <td>0</td>\n",
              "      <td>0</td>\n",
              "      <td>0</td>\n",
              "      <td>0</td>\n",
              "      <td>0</td>\n",
              "      <td>0</td>\n",
              "      <td>0</td>\n",
              "      <td>0</td>\n",
              "      <td>...</td>\n",
              "      <td>0</td>\n",
              "      <td>0</td>\n",
              "      <td>0</td>\n",
              "      <td>0</td>\n",
              "      <td>0</td>\n",
              "      <td>0</td>\n",
              "      <td>0</td>\n",
              "      <td>0</td>\n",
              "      <td>0</td>\n",
              "      <td>0</td>\n",
              "      <td>0</td>\n",
              "      <td>0</td>\n",
              "      <td>0</td>\n",
              "      <td>0</td>\n",
              "      <td>0</td>\n",
              "      <td>0</td>\n",
              "      <td>0</td>\n",
              "      <td>0</td>\n",
              "      <td>0</td>\n",
              "      <td>0</td>\n",
              "      <td>0</td>\n",
              "      <td>0</td>\n",
              "      <td>0</td>\n",
              "      <td>0</td>\n",
              "      <td>0</td>\n",
              "      <td>0</td>\n",
              "      <td>0</td>\n",
              "      <td>0</td>\n",
              "      <td>0</td>\n",
              "      <td>0</td>\n",
              "      <td>0</td>\n",
              "      <td>0</td>\n",
              "      <td>0</td>\n",
              "      <td>1</td>\n",
              "      <td>0</td>\n",
              "      <td>0</td>\n",
              "      <td>0</td>\n",
              "      <td>0</td>\n",
              "      <td>0</td>\n",
              "      <td>0</td>\n",
              "    </tr>\n",
              "    <tr>\n",
              "      <th>1</th>\n",
              "      <td>15</td>\n",
              "      <td>54493</td>\n",
              "      <td>24.70</td>\n",
              "      <td>796.0</td>\n",
              "      <td>47.30</td>\n",
              "      <td>0</td>\n",
              "      <td>0</td>\n",
              "      <td>0</td>\n",
              "      <td>1</td>\n",
              "      <td>0</td>\n",
              "      <td>0</td>\n",
              "      <td>0</td>\n",
              "      <td>0</td>\n",
              "      <td>0</td>\n",
              "      <td>0</td>\n",
              "      <td>0</td>\n",
              "      <td>0</td>\n",
              "      <td>0</td>\n",
              "      <td>0</td>\n",
              "      <td>0</td>\n",
              "      <td>1</td>\n",
              "      <td>0</td>\n",
              "      <td>1</td>\n",
              "      <td>0</td>\n",
              "      <td>0</td>\n",
              "      <td>1</td>\n",
              "      <td>0</td>\n",
              "      <td>0</td>\n",
              "      <td>0</td>\n",
              "      <td>0</td>\n",
              "      <td>0</td>\n",
              "      <td>0</td>\n",
              "      <td>0</td>\n",
              "      <td>0</td>\n",
              "      <td>0</td>\n",
              "      <td>0</td>\n",
              "      <td>0</td>\n",
              "      <td>0</td>\n",
              "      <td>0</td>\n",
              "      <td>0</td>\n",
              "      <td>...</td>\n",
              "      <td>0</td>\n",
              "      <td>0</td>\n",
              "      <td>0</td>\n",
              "      <td>0</td>\n",
              "      <td>0</td>\n",
              "      <td>0</td>\n",
              "      <td>0</td>\n",
              "      <td>0</td>\n",
              "      <td>0</td>\n",
              "      <td>0</td>\n",
              "      <td>0</td>\n",
              "      <td>0</td>\n",
              "      <td>0</td>\n",
              "      <td>0</td>\n",
              "      <td>0</td>\n",
              "      <td>0</td>\n",
              "      <td>0</td>\n",
              "      <td>0</td>\n",
              "      <td>0</td>\n",
              "      <td>0</td>\n",
              "      <td>0</td>\n",
              "      <td>0</td>\n",
              "      <td>0</td>\n",
              "      <td>0</td>\n",
              "      <td>0</td>\n",
              "      <td>0</td>\n",
              "      <td>0</td>\n",
              "      <td>0</td>\n",
              "      <td>0</td>\n",
              "      <td>0</td>\n",
              "      <td>0</td>\n",
              "      <td>0</td>\n",
              "      <td>0</td>\n",
              "      <td>0</td>\n",
              "      <td>1</td>\n",
              "      <td>0</td>\n",
              "      <td>0</td>\n",
              "      <td>0</td>\n",
              "      <td>0</td>\n",
              "      <td>0</td>\n",
              "    </tr>\n",
              "    <tr>\n",
              "      <th>2</th>\n",
              "      <td>19</td>\n",
              "      <td>34000</td>\n",
              "      <td>13.68</td>\n",
              "      <td>2393.0</td>\n",
              "      <td>147.80</td>\n",
              "      <td>0</td>\n",
              "      <td>0</td>\n",
              "      <td>0</td>\n",
              "      <td>0</td>\n",
              "      <td>0</td>\n",
              "      <td>0</td>\n",
              "      <td>0</td>\n",
              "      <td>0</td>\n",
              "      <td>0</td>\n",
              "      <td>1</td>\n",
              "      <td>0</td>\n",
              "      <td>0</td>\n",
              "      <td>1</td>\n",
              "      <td>0</td>\n",
              "      <td>0</td>\n",
              "      <td>0</td>\n",
              "      <td>0</td>\n",
              "      <td>1</td>\n",
              "      <td>1</td>\n",
              "      <td>0</td>\n",
              "      <td>0</td>\n",
              "      <td>0</td>\n",
              "      <td>0</td>\n",
              "      <td>0</td>\n",
              "      <td>0</td>\n",
              "      <td>0</td>\n",
              "      <td>0</td>\n",
              "      <td>0</td>\n",
              "      <td>0</td>\n",
              "      <td>0</td>\n",
              "      <td>0</td>\n",
              "      <td>0</td>\n",
              "      <td>0</td>\n",
              "      <td>0</td>\n",
              "      <td>0</td>\n",
              "      <td>...</td>\n",
              "      <td>0</td>\n",
              "      <td>0</td>\n",
              "      <td>0</td>\n",
              "      <td>0</td>\n",
              "      <td>0</td>\n",
              "      <td>0</td>\n",
              "      <td>0</td>\n",
              "      <td>0</td>\n",
              "      <td>0</td>\n",
              "      <td>0</td>\n",
              "      <td>0</td>\n",
              "      <td>0</td>\n",
              "      <td>0</td>\n",
              "      <td>0</td>\n",
              "      <td>0</td>\n",
              "      <td>0</td>\n",
              "      <td>0</td>\n",
              "      <td>0</td>\n",
              "      <td>0</td>\n",
              "      <td>0</td>\n",
              "      <td>0</td>\n",
              "      <td>0</td>\n",
              "      <td>0</td>\n",
              "      <td>0</td>\n",
              "      <td>0</td>\n",
              "      <td>0</td>\n",
              "      <td>0</td>\n",
              "      <td>0</td>\n",
              "      <td>0</td>\n",
              "      <td>0</td>\n",
              "      <td>0</td>\n",
              "      <td>0</td>\n",
              "      <td>0</td>\n",
              "      <td>0</td>\n",
              "      <td>0</td>\n",
              "      <td>0</td>\n",
              "      <td>1</td>\n",
              "      <td>0</td>\n",
              "      <td>0</td>\n",
              "      <td>0</td>\n",
              "    </tr>\n",
              "    <tr>\n",
              "      <th>3</th>\n",
              "      <td>16</td>\n",
              "      <td>29000</td>\n",
              "      <td>18.50</td>\n",
              "      <td>1197.0</td>\n",
              "      <td>82.85</td>\n",
              "      <td>0</td>\n",
              "      <td>0</td>\n",
              "      <td>0</td>\n",
              "      <td>0</td>\n",
              "      <td>0</td>\n",
              "      <td>0</td>\n",
              "      <td>0</td>\n",
              "      <td>0</td>\n",
              "      <td>0</td>\n",
              "      <td>1</td>\n",
              "      <td>0</td>\n",
              "      <td>0</td>\n",
              "      <td>0</td>\n",
              "      <td>0</td>\n",
              "      <td>0</td>\n",
              "      <td>1</td>\n",
              "      <td>0</td>\n",
              "      <td>1</td>\n",
              "      <td>1</td>\n",
              "      <td>0</td>\n",
              "      <td>0</td>\n",
              "      <td>0</td>\n",
              "      <td>0</td>\n",
              "      <td>0</td>\n",
              "      <td>0</td>\n",
              "      <td>0</td>\n",
              "      <td>0</td>\n",
              "      <td>0</td>\n",
              "      <td>0</td>\n",
              "      <td>0</td>\n",
              "      <td>0</td>\n",
              "      <td>0</td>\n",
              "      <td>1</td>\n",
              "      <td>0</td>\n",
              "      <td>0</td>\n",
              "      <td>...</td>\n",
              "      <td>0</td>\n",
              "      <td>0</td>\n",
              "      <td>0</td>\n",
              "      <td>0</td>\n",
              "      <td>0</td>\n",
              "      <td>0</td>\n",
              "      <td>0</td>\n",
              "      <td>0</td>\n",
              "      <td>0</td>\n",
              "      <td>0</td>\n",
              "      <td>0</td>\n",
              "      <td>0</td>\n",
              "      <td>0</td>\n",
              "      <td>0</td>\n",
              "      <td>0</td>\n",
              "      <td>1</td>\n",
              "      <td>0</td>\n",
              "      <td>0</td>\n",
              "      <td>0</td>\n",
              "      <td>0</td>\n",
              "      <td>0</td>\n",
              "      <td>0</td>\n",
              "      <td>0</td>\n",
              "      <td>0</td>\n",
              "      <td>0</td>\n",
              "      <td>0</td>\n",
              "      <td>0</td>\n",
              "      <td>0</td>\n",
              "      <td>0</td>\n",
              "      <td>0</td>\n",
              "      <td>0</td>\n",
              "      <td>0</td>\n",
              "      <td>0</td>\n",
              "      <td>0</td>\n",
              "      <td>1</td>\n",
              "      <td>0</td>\n",
              "      <td>0</td>\n",
              "      <td>0</td>\n",
              "      <td>0</td>\n",
              "      <td>0</td>\n",
              "    </tr>\n",
              "    <tr>\n",
              "      <th>4</th>\n",
              "      <td>18</td>\n",
              "      <td>85609</td>\n",
              "      <td>16.00</td>\n",
              "      <td>2179.0</td>\n",
              "      <td>140.00</td>\n",
              "      <td>0</td>\n",
              "      <td>0</td>\n",
              "      <td>0</td>\n",
              "      <td>1</td>\n",
              "      <td>0</td>\n",
              "      <td>0</td>\n",
              "      <td>0</td>\n",
              "      <td>0</td>\n",
              "      <td>0</td>\n",
              "      <td>0</td>\n",
              "      <td>0</td>\n",
              "      <td>0</td>\n",
              "      <td>1</td>\n",
              "      <td>0</td>\n",
              "      <td>0</td>\n",
              "      <td>0</td>\n",
              "      <td>0</td>\n",
              "      <td>1</td>\n",
              "      <td>0</td>\n",
              "      <td>0</td>\n",
              "      <td>1</td>\n",
              "      <td>0</td>\n",
              "      <td>0</td>\n",
              "      <td>0</td>\n",
              "      <td>0</td>\n",
              "      <td>0</td>\n",
              "      <td>0</td>\n",
              "      <td>0</td>\n",
              "      <td>0</td>\n",
              "      <td>0</td>\n",
              "      <td>0</td>\n",
              "      <td>0</td>\n",
              "      <td>0</td>\n",
              "      <td>0</td>\n",
              "      <td>0</td>\n",
              "      <td>...</td>\n",
              "      <td>0</td>\n",
              "      <td>0</td>\n",
              "      <td>0</td>\n",
              "      <td>0</td>\n",
              "      <td>0</td>\n",
              "      <td>0</td>\n",
              "      <td>0</td>\n",
              "      <td>0</td>\n",
              "      <td>0</td>\n",
              "      <td>0</td>\n",
              "      <td>0</td>\n",
              "      <td>0</td>\n",
              "      <td>0</td>\n",
              "      <td>0</td>\n",
              "      <td>0</td>\n",
              "      <td>0</td>\n",
              "      <td>0</td>\n",
              "      <td>0</td>\n",
              "      <td>0</td>\n",
              "      <td>0</td>\n",
              "      <td>0</td>\n",
              "      <td>0</td>\n",
              "      <td>0</td>\n",
              "      <td>0</td>\n",
              "      <td>0</td>\n",
              "      <td>0</td>\n",
              "      <td>0</td>\n",
              "      <td>0</td>\n",
              "      <td>0</td>\n",
              "      <td>0</td>\n",
              "      <td>0</td>\n",
              "      <td>0</td>\n",
              "      <td>0</td>\n",
              "      <td>0</td>\n",
              "      <td>0</td>\n",
              "      <td>0</td>\n",
              "      <td>1</td>\n",
              "      <td>0</td>\n",
              "      <td>0</td>\n",
              "      <td>0</td>\n",
              "    </tr>\n",
              "  </tbody>\n",
              "</table>\n",
              "<p>5 rows × 2099 columns</p>\n",
              "</div>"
            ],
            "text/plain": [
              "   Year  Kilometers_Driven  Mileage  ...  Seats_8.0  Seats_9.0  Seats_10.0\n",
              "0    16              40929    32.26  ...          0          0           0\n",
              "1    15              54493    24.70  ...          0          0           0\n",
              "2    19              34000    13.68  ...          0          0           0\n",
              "3    16              29000    18.50  ...          0          0           0\n",
              "4    18              85609    16.00  ...          0          0           0\n",
              "\n",
              "[5 rows x 2099 columns]"
            ]
          },
          "metadata": {
            "tags": []
          },
          "execution_count": 311
        }
      ]
    },
    {
      "cell_type": "code",
      "metadata": {
        "id": "AVB8eQ-fufrx"
      },
      "source": [
        "test_data[['Kilometers_Driven','Mileage','Engine','Power']]=np.log1p(test_data[['Kilometers_Driven','Mileage','Engine','Power']])\n",
        "test_data[['Kilometers_Driven','Mileage','Engine','Power']] = sc.fit_transform(test_data[['Kilometers_Driven','Mileage','Engine','Power']])"
      ],
      "execution_count": null,
      "outputs": []
    },
    {
      "cell_type": "code",
      "metadata": {
        "id": "eugX3U645-b2",
        "outputId": "7e41438d-980c-4e7d-e97c-bbb00448e6e6",
        "colab": {
          "base_uri": "https://localhost:8080/",
          "height": 34
        }
      },
      "source": [
        "len(test_data.columns.to_list())  # This is testing data. "
      ],
      "execution_count": null,
      "outputs": [
        {
          "output_type": "execute_result",
          "data": {
            "text/plain": [
              "2099"
            ]
          },
          "metadata": {
            "tags": []
          },
          "execution_count": 315
        }
      ]
    },
    {
      "cell_type": "code",
      "metadata": {
        "id": "uhbAIJYy6Oc4",
        "outputId": "3d4d1f14-e271-4422-c34e-dd37e9021d7d",
        "colab": {
          "base_uri": "https://localhost:8080/",
          "height": 34
        }
      },
      "source": [
        "len(data.columns.to_list()) # This is training data. \n",
        "# The lengths are matching as well. "
      ],
      "execution_count": null,
      "outputs": [
        {
          "output_type": "execute_result",
          "data": {
            "text/plain": [
              "2100"
            ]
          },
          "metadata": {
            "tags": []
          },
          "execution_count": 317
        }
      ]
    },
    {
      "cell_type": "markdown",
      "metadata": {
        "id": "oLEJQwkBovPh"
      },
      "source": [
        "Data is sufficiently cleaned out for prediction. The same steps applied to train data were also applied to test data. "
      ]
    },
    {
      "cell_type": "code",
      "metadata": {
        "id": "AjxJ7XLr1Lie"
      },
      "source": [
        "# Random Forest Prediction. \n",
        "\n",
        "pred_test = regressor.predict(test_data)\n"
      ],
      "execution_count": null,
      "outputs": []
    },
    {
      "cell_type": "code",
      "metadata": {
        "id": "h5zBJsUz2jNN",
        "outputId": "e7e55ee0-7ec2-444b-a7b3-909d80df0c08",
        "colab": {
          "base_uri": "https://localhost:8080/",
          "height": 51
        }
      },
      "source": [
        "pred_test"
      ],
      "execution_count": null,
      "outputs": [
        {
          "output_type": "execute_result",
          "data": {
            "text/plain": [
              "array([1.41000631, 1.39444989, 2.83814455, ..., 1.33063477, 1.76049952,\n",
              "       2.94304085])"
            ]
          },
          "metadata": {
            "tags": []
          },
          "execution_count": 303
        }
      ]
    },
    {
      "cell_type": "code",
      "metadata": {
        "id": "wuXXNpx_0b02",
        "outputId": "f396cbb8-174e-4695-a13d-6b5348a9dcf2",
        "colab": {
          "base_uri": "https://localhost:8080/",
          "height": 34
        }
      },
      "source": [
        "pred_test = np.exp(pred_test)-1 #converting target to original state\n",
        "pred_test = pred_test.round(2)\n",
        "print(pred_test)"
      ],
      "execution_count": null,
      "outputs": [
        {
          "output_type": "stream",
          "text": [
            "[ 3.1   3.03 16.08 ...  2.78  4.82 17.97]\n"
          ],
          "name": "stdout"
        }
      ]
    },
    {
      "cell_type": "code",
      "metadata": {
        "id": "HRwwNQHbvnnj"
      },
      "source": [
        "# Write predictions into csv file for submission. \n",
        "\n",
        "results = pd.DataFrame(data = pred_test)\n",
        "\n",
        "df = results\n",
        "df.to_csv('randomforest_predicted_price_results.csv')\n",
        "!cp randomforest_predicted_price_results.csv \"/content/drive/My Drive/Verzeo - Major Project/\""
      ],
      "execution_count": null,
      "outputs": []
    },
    {
      "cell_type": "code",
      "metadata": {
        "id": "no0lm68x3Luu"
      },
      "source": [
        "# Neural Networks prediction. \n",
        "\n",
        "pred_test = model.predict(test_data)"
      ],
      "execution_count": null,
      "outputs": []
    },
    {
      "cell_type": "code",
      "metadata": {
        "id": "PX0BPcH46_N9",
        "outputId": "8072821d-4352-4f3d-fc0e-bf5679bd6c1c",
        "colab": {
          "base_uri": "https://localhost:8080/",
          "height": 136
        }
      },
      "source": [
        "pred_test = np.exp(pred_test)-1 #converting target to original state\n",
        "pred_test = pred_test.round(2)\n",
        "print(pred_test)"
      ],
      "execution_count": null,
      "outputs": [
        {
          "output_type": "stream",
          "text": [
            "[[ 3.22]\n",
            " [ 2.84]\n",
            " [17.45]\n",
            " ...\n",
            " [ 3.22]\n",
            " [ 4.52]\n",
            " [18.55]]\n"
          ],
          "name": "stdout"
        }
      ]
    },
    {
      "cell_type": "code",
      "metadata": {
        "id": "v8he0Ur97Nar"
      },
      "source": [
        "# Write predictions into csv file for submission. \n",
        "\n",
        "results = pd.DataFrame(data = pred_test)\n",
        "\n",
        "df = results\n",
        "df.to_csv('neuralnet_predicted_price_results.csv')\n",
        "!cp neuralnet_predicted_price_results.csv \"/content/drive/My Drive/Verzeo - Major Project/\""
      ],
      "execution_count": null,
      "outputs": []
    },
    {
      "cell_type": "markdown",
      "metadata": {
        "id": "B665pPju9xgz"
      },
      "source": [
        "Refer to the neuralnet_predicted_price_results.csv and randomforest_predicted_price_results.csv files for predictions by the respective models. "
      ]
    }
  ]
}